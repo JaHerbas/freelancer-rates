{
 "cells": [
  {
   "cell_type": "markdown",
   "metadata": {},
   "source": [
    "to do:\n",
    "* get more data, including reviews, test scores...\n",
    "* optimize number of clusters\n",
    "* gridsearch everything\n",
    "* use NLP, get most important words for loser/elite\n",
    "* pipeline that writes results to csv and txt files\n",
    "* SQL, Object Relations, and ETL\n",
    "* A web app (Dash/Flask) to explore database"
   ]
  },
  {
   "cell_type": "markdown",
   "metadata": {},
   "source": [
    "explore:\n",
    "* multiple correspondence analysis\n",
    "* PCA on document word-count vectors (topic modeling)\n",
    "* partial dependence plots\n",
    "* ordinal regression (Python package \"mord\")"
   ]
  },
  {
   "cell_type": "markdown",
   "metadata": {},
   "source": [
    "presentation highlights:\n",
    "* Use case (with screenshot of a profile-list-of-10 page on Upwork)\n",
    "* Flowchart of data-science work (Lucid Chart?)\n",
    "* screen video of ghost scraping - explain Selenium\n",
    "* histograms of rate, hours, jobs, number of skills, number of words in headline(?) with mean and standard deviation\n",
    "* show rate distributions by skill\n",
    "* gif of k-means's happening\n",
    "* show data frames with skills one-hot encoded to explain Hamming distance/k-modes\n",
    "* cluster boxplot, show clusters \n",
    "* compare models table of regressions' R2 and RMSE\n",
    "* confusion matrix, ROC for classification\n",
    "* show feature importances"
   ]
  },
  {
   "cell_type": "code",
   "execution_count": null,
   "metadata": {},
   "outputs": [],
   "source": []
  }
 ],
 "metadata": {
  "kernelspec": {
   "display_name": "Python 3",
   "language": "python",
   "name": "python3"
  },
  "language_info": {
   "codemirror_mode": {
    "name": "ipython",
    "version": 3
   },
   "file_extension": ".py",
   "mimetype": "text/x-python",
   "name": "python",
   "nbconvert_exporter": "python",
   "pygments_lexer": "ipython3",
   "version": "3.6.5"
  }
 },
 "nbformat": 4,
 "nbformat_minor": 2
}
