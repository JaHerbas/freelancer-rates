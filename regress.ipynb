{
 "cells": [
  {
   "cell_type": "markdown",
   "metadata": {
    "extensions": {
     "jupyter_dashboards": {
      "version": 1,
      "views": {
       "grid_default": {
        "col": 0,
        "height": 4,
        "hidden": false,
        "row": 0,
        "width": 12
       },
       "report_default": {
        "hidden": false
       }
      }
     }
    }
   },
   "source": [
    "## Use case 2: hourly rates as a function of skills and other profile variables.  Regression on numeric predictors plus cluster categories provides a statistically significant but very weak model."
   ]
  },
  {
   "cell_type": "markdown",
   "metadata": {
    "extensions": {
     "jupyter_dashboards": {
      "version": 1,
      "views": {
       "grid_default": {
        "col": 0,
        "height": 4,
        "hidden": false,
        "row": 4,
        "width": 12
       },
       "report_default": {
        "hidden": false
       }
      }
     }
    }
   },
   "source": [
    "## Why?  Omitted variable bias: the most crucial variable missing for each freelancer is active time since joining Upwork.  Hourly rates should be correlated with experience on Upwork: more proven ability, better ability to negotiate with employers."
   ]
  },
  {
   "cell_type": "code",
   "execution_count": 1,
   "metadata": {
    "extensions": {
     "jupyter_dashboards": {
      "version": 1,
      "views": {
       "grid_default": {
        "hidden": true
       },
       "report_default": {
        "hidden": true
       }
      }
     }
    }
   },
   "outputs": [
    {
     "name": "stderr",
     "output_type": "stream",
     "text": [
      "/anaconda3/lib/python3.6/site-packages/h5py/__init__.py:36: FutureWarning: Conversion of the second argument of issubdtype from `float` to `np.floating` is deprecated. In future, it will be treated as `np.float64 == np.dtype(float).type`.\n",
      "  from ._conv import register_converters as _register_converters\n",
      "Using TensorFlow backend.\n"
     ]
    }
   ],
   "source": [
    "import copy\n",
    "import glob\n",
    "import numpy as np\n",
    "import pandas as pd\n",
    "import matplotlib\n",
    "import matplotlib.pyplot as plt\n",
    "import seaborn as sns\n",
    "import statsmodels.api as sm\n",
    "from sklearn.model_selection import StratifiedKFold, KFold\n",
    "from sklearn.preprocessing import StandardScaler, scale\n",
    "from sklearn.decomposition import PCA\n",
    "from sklearn.cluster import KMeans\n",
    "from sklearn.model_selection import train_test_split, GridSearchCV, cross_val_score\n",
    "from sklearn.neighbors import KNeighborsRegressor\n",
    "from sklearn.linear_model import LinearRegression, LogisticRegression, Ridge\n",
    "from sklearn.svm import SVC\n",
    "from sklearn.naive_bayes import GaussianNB, MultinomialNB, BernoulliNB\n",
    "from sklearn.tree import DecisionTreeRegressor, DecisionTreeClassifier\n",
    "from sklearn.ensemble import RandomForestRegressor, RandomForestClassifier, AdaBoostRegressor, AdaBoostClassifier\n",
    "from sklearn.metrics import mean_squared_error, r2_score, accuracy_score, f1_score, roc_curve, auc, log_loss\n",
    "from keras.models import Sequential\n",
    "from keras import initializers\n",
    "from keras.layers import Dense\n",
    "from keras import optimizers\n",
    "from kmodes.kmodes import KModes"
   ]
  },
  {
   "cell_type": "code",
   "execution_count": 2,
   "metadata": {
    "extensions": {
     "jupyter_dashboards": {
      "version": 1,
      "views": {
       "grid_default": {
        "hidden": true
       },
       "report_default": {
        "hidden": true
       }
      }
     }
    }
   },
   "outputs": [],
   "source": [
    "df = pd.concat([pd.read_csv(f) for f in glob.glob('./data/*')], ignore_index = True)"
   ]
  },
  {
   "cell_type": "code",
   "execution_count": 3,
   "metadata": {
    "extensions": {
     "jupyter_dashboards": {
      "version": 1,
      "views": {
       "grid_default": {
        "hidden": true
       },
       "report_default": {
        "hidden": true
       }
      }
     }
    }
   },
   "outputs": [],
   "source": [
    "df = df.drop(['Unnamed: 0'], axis=1)"
   ]
  },
  {
   "cell_type": "code",
   "execution_count": 4,
   "metadata": {
    "extensions": {
     "jupyter_dashboards": {
      "version": 1,
      "views": {
       "grid_default": {
        "col": 0,
        "height": 4,
        "hidden": false,
        "row": 8,
        "width": 4
       },
       "report_default": {
        "hidden": true
       }
      }
     }
    }
   },
   "outputs": [
    {
     "data": {
      "text/plain": [
       "(4950, 10)"
      ]
     },
     "execution_count": 4,
     "metadata": {},
     "output_type": "execute_result"
    }
   ],
   "source": [
    "df.shape"
   ]
  },
  {
   "cell_type": "code",
   "execution_count": 5,
   "metadata": {
    "extensions": {
     "jupyter_dashboards": {
      "version": 1,
      "views": {
       "grid_default": {
        "col": 4,
        "height": 12,
        "hidden": false,
        "row": 8,
        "width": 8
       },
       "report_default": {
        "hidden": false
       }
      }
     }
    }
   },
   "outputs": [
    {
     "data": {
      "text/html": [
       "<div>\n",
       "<style scoped>\n",
       "    .dataframe tbody tr th:only-of-type {\n",
       "        vertical-align: middle;\n",
       "    }\n",
       "\n",
       "    .dataframe tbody tr th {\n",
       "        vertical-align: top;\n",
       "    }\n",
       "\n",
       "    .dataframe thead th {\n",
       "        text-align: right;\n",
       "    }\n",
       "</style>\n",
       "<table border=\"1\" class=\"dataframe\">\n",
       "  <thead>\n",
       "    <tr style=\"text-align: right;\">\n",
       "      <th></th>\n",
       "      <th>bio</th>\n",
       "      <th>earned</th>\n",
       "      <th>edu</th>\n",
       "      <th>exp</th>\n",
       "      <th>headline</th>\n",
       "      <th>hours</th>\n",
       "      <th>jobs</th>\n",
       "      <th>rate</th>\n",
       "      <th>skills</th>\n",
       "      <th>tests</th>\n",
       "    </tr>\n",
       "  </thead>\n",
       "  <tbody>\n",
       "    <tr>\n",
       "      <th>0</th>\n",
       "      <td>Google Adwords &amp; Bing Ads Certified MBA market...</td>\n",
       "      <td>$200k+</td>\n",
       "      <td>3.0</td>\n",
       "      <td>8.0</td>\n",
       "      <td>Marketing, Strategic Mgmt/Writer/SEO, SEM/Mark...</td>\n",
       "      <td>10,654</td>\n",
       "      <td>40</td>\n",
       "      <td>$45.00</td>\n",
       "      <td>['Strategic Planning', 'Business Analysis', 'A...</td>\n",
       "      <td>9.0</td>\n",
       "    </tr>\n",
       "    <tr>\n",
       "      <th>1</th>\n",
       "      <td>I have been transcribing for more than 7 years...</td>\n",
       "      <td>$10k+</td>\n",
       "      <td>2.0</td>\n",
       "      <td>1.0</td>\n",
       "      <td>Transcriptionist</td>\n",
       "      <td>1,043</td>\n",
       "      <td>60</td>\n",
       "      <td>$12.00</td>\n",
       "      <td>['Transcription', 'Medical Transcription']</td>\n",
       "      <td>2.0</td>\n",
       "    </tr>\n",
       "    <tr>\n",
       "      <th>2</th>\n",
       "      <td>Throughout my undergraduate years, I was a res...</td>\n",
       "      <td>$60k+</td>\n",
       "      <td>1.0</td>\n",
       "      <td>3.0</td>\n",
       "      <td>Transcription (98WPM), Virtual Assistant</td>\n",
       "      <td>2,840</td>\n",
       "      <td>254</td>\n",
       "      <td>$15.00</td>\n",
       "      <td>['Biology', 'English', 'Transcription', 'Virtu...</td>\n",
       "      <td>4.0</td>\n",
       "    </tr>\n",
       "    <tr>\n",
       "      <th>3</th>\n",
       "      <td>As a digital marketing professional with a foc...</td>\n",
       "      <td>$30k+</td>\n",
       "      <td>2.0</td>\n",
       "      <td>2.0</td>\n",
       "      <td>Full-Stack Digital Marketer | Facebook Ads Spe...</td>\n",
       "      <td>673</td>\n",
       "      <td>21</td>\n",
       "      <td>$75.00</td>\n",
       "      <td>['Facebook Marketing', 'Inbound Marketing', 'M...</td>\n",
       "      <td>4.0</td>\n",
       "    </tr>\n",
       "    <tr>\n",
       "      <th>4</th>\n",
       "      <td>WordPress Development + Theme Customization + ...</td>\n",
       "      <td>$40k+</td>\n",
       "      <td>NaN</td>\n",
       "      <td>1.0</td>\n",
       "      <td>Turn-Key Responsive Website Design &amp; Development</td>\n",
       "      <td>625</td>\n",
       "      <td>131</td>\n",
       "      <td>$45.00</td>\n",
       "      <td>['WordPress', 'Woocommerce', 'Website Developm...</td>\n",
       "      <td>1.0</td>\n",
       "    </tr>\n",
       "    <tr>\n",
       "      <th>5</th>\n",
       "      <td>Raising money as a startup is hard work! The a...</td>\n",
       "      <td>$100k+</td>\n",
       "      <td>1.0</td>\n",
       "      <td>5.0</td>\n",
       "      <td>Startup Specialist, Pitch Decks, Business Plan...</td>\n",
       "      <td>655</td>\n",
       "      <td>32</td>\n",
       "      <td>$150.00</td>\n",
       "      <td>['Startup Consulting', 'Business Modeling', 'B...</td>\n",
       "      <td>1.0</td>\n",
       "    </tr>\n",
       "    <tr>\n",
       "      <th>6</th>\n",
       "      <td>Hire me to make sure that your business runs s...</td>\n",
       "      <td>$10k+</td>\n",
       "      <td>2.0</td>\n",
       "      <td>4.0</td>\n",
       "      <td>Tech Savvy Assistant for Busy Entrepreneur</td>\n",
       "      <td>434</td>\n",
       "      <td>34</td>\n",
       "      <td>$27.00</td>\n",
       "      <td>['HTML', 'Customer Service', 'English', 'WordP...</td>\n",
       "      <td>4.0</td>\n",
       "    </tr>\n",
       "    <tr>\n",
       "      <th>7</th>\n",
       "      <td>I am a medical student at Northwestern Univers...</td>\n",
       "      <td>$10k+</td>\n",
       "      <td>2.0</td>\n",
       "      <td>2.0</td>\n",
       "      <td>Medical Writer and Researcher</td>\n",
       "      <td>347</td>\n",
       "      <td>13</td>\n",
       "      <td>$50.00</td>\n",
       "      <td>['Customer Support', 'Medical Writing', 'Micro...</td>\n",
       "      <td>1.0</td>\n",
       "    </tr>\n",
       "    <tr>\n",
       "      <th>8</th>\n",
       "      <td>My expertise in writing, editing, and designin...</td>\n",
       "      <td>$20k+</td>\n",
       "      <td>3.0</td>\n",
       "      <td>3.0</td>\n",
       "      <td>Writer, Editor, and Instructional Designer</td>\n",
       "      <td>587</td>\n",
       "      <td>118</td>\n",
       "      <td>$37.50</td>\n",
       "      <td>['Academic Writing', 'Copyediting', 'Editing',...</td>\n",
       "      <td>6.0</td>\n",
       "    </tr>\n",
       "    <tr>\n",
       "      <th>9</th>\n",
       "      <td>👋 Hi, I'm Brandon! Top-Rated Wix Designer &amp; De...</td>\n",
       "      <td>$40k+</td>\n",
       "      <td>1.0</td>\n",
       "      <td>1.0</td>\n",
       "      <td>WIX PROFESSIONAL: Expert Wix Website Designer ...</td>\n",
       "      <td>241</td>\n",
       "      <td>162</td>\n",
       "      <td>$50.00</td>\n",
       "      <td>['WiX', 'Web Design', 'Website Development', '...</td>\n",
       "      <td>26.0</td>\n",
       "    </tr>\n",
       "    <tr>\n",
       "      <th>10</th>\n",
       "      <td>I have over 20 years experience in data wareho...</td>\n",
       "      <td>$100k+</td>\n",
       "      <td>2.0</td>\n",
       "      <td>1.0</td>\n",
       "      <td>Data Scientist and Technical Writer</td>\n",
       "      <td>1,790</td>\n",
       "      <td>99</td>\n",
       "      <td>$100.00</td>\n",
       "      <td>['Data Science', 'Data Modeling', 'SQL', 'Tech...</td>\n",
       "      <td>4.0</td>\n",
       "    </tr>\n",
       "    <tr>\n",
       "      <th>11</th>\n",
       "      <td>This is a bold statement, but I stand behind m...</td>\n",
       "      <td>$20k+</td>\n",
       "      <td>1.0</td>\n",
       "      <td>1.0</td>\n",
       "      <td>Search Engine Optimization Specialist | Data V...</td>\n",
       "      <td>532</td>\n",
       "      <td>38</td>\n",
       "      <td>$55.00</td>\n",
       "      <td>['Internet Marketing', 'Google Website Optimiz...</td>\n",
       "      <td>8.0</td>\n",
       "    </tr>\n",
       "    <tr>\n",
       "      <th>12</th>\n",
       "      <td>Let me be your creative chameleon. I can write...</td>\n",
       "      <td>$50k+</td>\n",
       "      <td>2.0</td>\n",
       "      <td>5.0</td>\n",
       "      <td>Creative Writer and Editor</td>\n",
       "      <td>825</td>\n",
       "      <td>91</td>\n",
       "      <td>$85.00</td>\n",
       "      <td>['Academic Writing', 'Article Writing', 'Copye...</td>\n",
       "      <td>4.0</td>\n",
       "    </tr>\n",
       "    <tr>\n",
       "      <th>13</th>\n",
       "      <td>I am a widely skilled researcher and writer dr...</td>\n",
       "      <td>$10k+</td>\n",
       "      <td>2.0</td>\n",
       "      <td>4.0</td>\n",
       "      <td>Creative Writer and Historical Researcher</td>\n",
       "      <td>969</td>\n",
       "      <td>12</td>\n",
       "      <td>$20.00</td>\n",
       "      <td>['History', 'Research Papers', 'Fiction Writin...</td>\n",
       "      <td>NaN</td>\n",
       "    </tr>\n",
       "    <tr>\n",
       "      <th>14</th>\n",
       "      <td>I was a part time Virtual Assistant as well as...</td>\n",
       "      <td>$500k+</td>\n",
       "      <td>1.0</td>\n",
       "      <td>3.0</td>\n",
       "      <td>Project &amp; Office Manager</td>\n",
       "      <td>59,063</td>\n",
       "      <td>105</td>\n",
       "      <td>$20.00</td>\n",
       "      <td>['Virtual Assistant', 'Customer Support', 'Pro...</td>\n",
       "      <td>6.0</td>\n",
       "    </tr>\n",
       "    <tr>\n",
       "      <th>15</th>\n",
       "      <td>Like to test your app in iPhone S7 to SX Max, ...</td>\n",
       "      <td>$5k+</td>\n",
       "      <td>1.0</td>\n",
       "      <td>NaN</td>\n",
       "      <td>iPhone Developer &amp; Tester (Swift) | Google Ske...</td>\n",
       "      <td>655</td>\n",
       "      <td>2</td>\n",
       "      <td>$25.00</td>\n",
       "      <td>['Swift', 'iOS Development', '3D Modeling', 'M...</td>\n",
       "      <td>2.0</td>\n",
       "    </tr>\n",
       "    <tr>\n",
       "      <th>16</th>\n",
       "      <td>My previous work experience includes: Mortgage...</td>\n",
       "      <td>$20k+</td>\n",
       "      <td>1.0</td>\n",
       "      <td>4.0</td>\n",
       "      <td>Compliance and Administrative Specialist</td>\n",
       "      <td>1,729</td>\n",
       "      <td>7</td>\n",
       "      <td>$15.00</td>\n",
       "      <td>['Accounting', 'Bookkeeping', 'Customer Servic...</td>\n",
       "      <td>14.0</td>\n",
       "    </tr>\n",
       "    <tr>\n",
       "      <th>17</th>\n",
       "      <td>Over Twenty years of management experience inc...</td>\n",
       "      <td>$200k+</td>\n",
       "      <td>1.0</td>\n",
       "      <td>8.0</td>\n",
       "      <td>Experienced Operations Manager for Global Supp...</td>\n",
       "      <td>8,209</td>\n",
       "      <td>12</td>\n",
       "      <td>$24.44</td>\n",
       "      <td>['Customer Service', 'Data Analytics', 'Google...</td>\n",
       "      <td>9.0</td>\n",
       "    </tr>\n",
       "    <tr>\n",
       "      <th>18</th>\n",
       "      <td>\"Top level writing! She communicates well and ...</td>\n",
       "      <td>$30k+</td>\n",
       "      <td>2.0</td>\n",
       "      <td>2.0</td>\n",
       "      <td>B2B Copywriter: Website and Marketing Content ...</td>\n",
       "      <td>268</td>\n",
       "      <td>34</td>\n",
       "      <td>$95.00</td>\n",
       "      <td>['Content Strategy', 'Copywriting', 'Content W...</td>\n",
       "      <td>2.0</td>\n",
       "    </tr>\n",
       "    <tr>\n",
       "      <th>19</th>\n",
       "      <td>Overall management and financial responsibilit...</td>\n",
       "      <td>$10k+</td>\n",
       "      <td>1.0</td>\n",
       "      <td>1.0</td>\n",
       "      <td>Project Management</td>\n",
       "      <td>977</td>\n",
       "      <td>1</td>\n",
       "      <td>$49.00</td>\n",
       "      <td>['Project Management']</td>\n",
       "      <td>NaN</td>\n",
       "    </tr>\n",
       "    <tr>\n",
       "      <th>20</th>\n",
       "      <td>I am a professional programmer working on Powe...</td>\n",
       "      <td>$20k+</td>\n",
       "      <td>1.0</td>\n",
       "      <td>1.0</td>\n",
       "      <td>PowerBuilder 2017 / SQL Server T-SQL / Oracle ...</td>\n",
       "      <td>540</td>\n",
       "      <td>2</td>\n",
       "      <td>$65.00</td>\n",
       "      <td>['Microsoft SQL Server Programming', 'SQL Serv...</td>\n",
       "      <td>3.0</td>\n",
       "    </tr>\n",
       "    <tr>\n",
       "      <th>21</th>\n",
       "      <td>I am a responsible and dynamic person with a s...</td>\n",
       "      <td>$30k+</td>\n",
       "      <td>1.0</td>\n",
       "      <td>7.0</td>\n",
       "      <td>Customer Service, Data Entry, Nursing, Adminis...</td>\n",
       "      <td>2,560</td>\n",
       "      <td>68</td>\n",
       "      <td>$14.67</td>\n",
       "      <td>['Data Entry', 'Customer Service', 'Internet R...</td>\n",
       "      <td>8.0</td>\n",
       "    </tr>\n",
       "    <tr>\n",
       "      <th>22</th>\n",
       "      <td>Audio Engineering, Sound Design, Original Musi...</td>\n",
       "      <td>$20k+</td>\n",
       "      <td>1.0</td>\n",
       "      <td>3.0</td>\n",
       "      <td>Audio Post Engineer, Sound Designer, Video Edi...</td>\n",
       "      <td>1,420</td>\n",
       "      <td>92</td>\n",
       "      <td>$31.25</td>\n",
       "      <td>['Audio Editing', 'Audio Mixing', 'Audio Post ...</td>\n",
       "      <td>2.0</td>\n",
       "    </tr>\n",
       "    <tr>\n",
       "      <th>23</th>\n",
       "      <td>I have over 5 years of experience in Manual &amp; ...</td>\n",
       "      <td>$4k+</td>\n",
       "      <td>1.0</td>\n",
       "      <td>NaN</td>\n",
       "      <td>ISTQB Certified Quality Engineer - Manual &amp; Au...</td>\n",
       "      <td>251</td>\n",
       "      <td>2</td>\n",
       "      <td>$20.00</td>\n",
       "      <td>['Selenium WebDriver', 'Black Box Testing', 'A...</td>\n",
       "      <td>2.0</td>\n",
       "    </tr>\n",
       "    <tr>\n",
       "      <th>24</th>\n",
       "      <td>I am a detail oriented, well organized adminis...</td>\n",
       "      <td>$5k+</td>\n",
       "      <td>1.0</td>\n",
       "      <td>2.0</td>\n",
       "      <td>Detail Oriented Administrative Assistant</td>\n",
       "      <td>342</td>\n",
       "      <td>5</td>\n",
       "      <td>$20.00</td>\n",
       "      <td>['Proofreading', 'Editing', 'Social Media Mark...</td>\n",
       "      <td>NaN</td>\n",
       "    </tr>\n",
       "    <tr>\n",
       "      <th>25</th>\n",
       "      <td>I have been in the Consulting and Strategy fie...</td>\n",
       "      <td>$7k+</td>\n",
       "      <td>1.0</td>\n",
       "      <td>2.0</td>\n",
       "      <td>Financial Analyst</td>\n",
       "      <td>235</td>\n",
       "      <td>2</td>\n",
       "      <td>$45.00</td>\n",
       "      <td>['Statistics', 'Mathematics', 'Microsoft Excel...</td>\n",
       "      <td>3.0</td>\n",
       "    </tr>\n",
       "    <tr>\n",
       "      <th>26</th>\n",
       "      <td>My freelancing career started with Textbroker....</td>\n",
       "      <td>$20k+</td>\n",
       "      <td>2.0</td>\n",
       "      <td>4.0</td>\n",
       "      <td>Data entry/Transcription specialist</td>\n",
       "      <td>1,379</td>\n",
       "      <td>101</td>\n",
       "      <td>$20.00</td>\n",
       "      <td>['Data Entry', 'Article Writing', 'Receptionis...</td>\n",
       "      <td>3.0</td>\n",
       "    </tr>\n",
       "    <tr>\n",
       "      <th>27</th>\n",
       "      <td>Kevin brings more than 15 years of marketing a...</td>\n",
       "      <td>$10k+</td>\n",
       "      <td>2.0</td>\n",
       "      <td>5.0</td>\n",
       "      <td>Marketing Fixer &amp; Award-Winning Graphic Designer</td>\n",
       "      <td>244</td>\n",
       "      <td>6</td>\n",
       "      <td>$50.00</td>\n",
       "      <td>['Marketing Strategy', 'Digital Marketing', 'S...</td>\n",
       "      <td>NaN</td>\n",
       "    </tr>\n",
       "    <tr>\n",
       "      <th>28</th>\n",
       "      <td>I have extensive experience in many areas acro...</td>\n",
       "      <td>$100k+</td>\n",
       "      <td>1.0</td>\n",
       "      <td>4.0</td>\n",
       "      <td>Project Engineer</td>\n",
       "      <td>5,903</td>\n",
       "      <td>15</td>\n",
       "      <td>$50.00</td>\n",
       "      <td>['Unix System Administration', 'Linux System A...</td>\n",
       "      <td>5.0</td>\n",
       "    </tr>\n",
       "    <tr>\n",
       "      <th>29</th>\n",
       "      <td>I am a web developer with over 15 years of exp...</td>\n",
       "      <td>$40k+</td>\n",
       "      <td>2.0</td>\n",
       "      <td>2.0</td>\n",
       "      <td>Web Developer</td>\n",
       "      <td>391</td>\n",
       "      <td>52</td>\n",
       "      <td>$80.00</td>\n",
       "      <td>['PHP', 'WordPress', 'Drupal', 'Ruby', 'Django...</td>\n",
       "      <td>NaN</td>\n",
       "    </tr>\n",
       "    <tr>\n",
       "      <th>30</th>\n",
       "      <td>I have extensive experience working as a paral...</td>\n",
       "      <td>$7k+</td>\n",
       "      <td>4.0</td>\n",
       "      <td>4.0</td>\n",
       "      <td>Paralegal - English and U.S. law, HR generalist</td>\n",
       "      <td>251</td>\n",
       "      <td>2</td>\n",
       "      <td>$25.00</td>\n",
       "      <td>['Employment Law', 'Contract Law', 'HRM', 'Adm...</td>\n",
       "      <td>NaN</td>\n",
       "    </tr>\n",
       "    <tr>\n",
       "      <th>31</th>\n",
       "      <td>I have a BFA in Animation, and have created An...</td>\n",
       "      <td>$8k+</td>\n",
       "      <td>1.0</td>\n",
       "      <td>6.0</td>\n",
       "      <td>Motion Graphics Designer and 3D Artist/Animator</td>\n",
       "      <td>252</td>\n",
       "      <td>8</td>\n",
       "      <td>$37.50</td>\n",
       "      <td>['3D Animation', '2D Animation', '3D Modeling'...</td>\n",
       "      <td>NaN</td>\n",
       "    </tr>\n",
       "    <tr>\n",
       "      <th>32</th>\n",
       "      <td>I have a B.A in Marketing, I am a native Engli...</td>\n",
       "      <td>$7k+</td>\n",
       "      <td>1.0</td>\n",
       "      <td>4.0</td>\n",
       "      <td>Content writer, Blogger, and SEO Expert</td>\n",
       "      <td>215</td>\n",
       "      <td>7</td>\n",
       "      <td>$25.00</td>\n",
       "      <td>['WordPress', 'Sports Writing', 'News Writing ...</td>\n",
       "      <td>1.0</td>\n",
       "    </tr>\n",
       "    <tr>\n",
       "      <th>33</th>\n",
       "      <td>Hello, My name is Isa. I have 4 years of Tax P...</td>\n",
       "      <td>$4k+</td>\n",
       "      <td>2.0</td>\n",
       "      <td>8.0</td>\n",
       "      <td>Tax Professional/Bookkeeper/ Admin Manager Wit...</td>\n",
       "      <td>355</td>\n",
       "      <td>5</td>\n",
       "      <td>$15.00</td>\n",
       "      <td>['Data Entry', 'Bookkeeping', 'Customer Servic...</td>\n",
       "      <td>2.0</td>\n",
       "    </tr>\n",
       "    <tr>\n",
       "      <th>34</th>\n",
       "      <td>Intelligent, creative and detail oriented indi...</td>\n",
       "      <td>$6k+</td>\n",
       "      <td>2.0</td>\n",
       "      <td>7.0</td>\n",
       "      <td>Graphic Artist and Marketing Professional</td>\n",
       "      <td>239</td>\n",
       "      <td>49</td>\n",
       "      <td>$21.00</td>\n",
       "      <td>['Graphic Design', 'Print Design', 'Brochure D...</td>\n",
       "      <td>2.0</td>\n",
       "    </tr>\n",
       "    <tr>\n",
       "      <th>35</th>\n",
       "      <td>Hi! I'm Rammy! \\n\\nI'm a creative consultant, ...</td>\n",
       "      <td>$20k+</td>\n",
       "      <td>2.0</td>\n",
       "      <td>8.0</td>\n",
       "      <td>Naming Specialist, Expert Writer, Brand Consul...</td>\n",
       "      <td>285</td>\n",
       "      <td>25</td>\n",
       "      <td>$150.00</td>\n",
       "      <td>['Copywriting', 'Brand Consulting', 'Communica...</td>\n",
       "      <td>4.0</td>\n",
       "    </tr>\n",
       "    <tr>\n",
       "      <th>36</th>\n",
       "      <td>13+ year of front-end web developer experience...</td>\n",
       "      <td>$40k+</td>\n",
       "      <td>1.0</td>\n",
       "      <td>7.0</td>\n",
       "      <td>Senior Front End Web Developer</td>\n",
       "      <td>741</td>\n",
       "      <td>1</td>\n",
       "      <td>$85.00</td>\n",
       "      <td>['CSS3', 'AJAX', 'WordPress', 'PSD to Wordpres...</td>\n",
       "      <td>1.0</td>\n",
       "    </tr>\n",
       "    <tr>\n",
       "      <th>37</th>\n",
       "      <td>I'm an experienced technology veteran with ove...</td>\n",
       "      <td>$3k+</td>\n",
       "      <td>1.0</td>\n",
       "      <td>3.0</td>\n",
       "      <td>Experienced Technical Customer Support Veteran</td>\n",
       "      <td>271</td>\n",
       "      <td>4</td>\n",
       "      <td>$25.00</td>\n",
       "      <td>['Mac OS App Development', 'Customer Service',...</td>\n",
       "      <td>5.0</td>\n",
       "    </tr>\n",
       "    <tr>\n",
       "      <th>38</th>\n",
       "      <td>After 10 years of teaching grammar and academi...</td>\n",
       "      <td>$10k+</td>\n",
       "      <td>2.0</td>\n",
       "      <td>3.0</td>\n",
       "      <td>Expert Writer + Editor</td>\n",
       "      <td>228</td>\n",
       "      <td>32</td>\n",
       "      <td>$30.00</td>\n",
       "      <td>['Editing', 'SEO Writing', 'Technical Writing'...</td>\n",
       "      <td>9.0</td>\n",
       "    </tr>\n",
       "    <tr>\n",
       "      <th>39</th>\n",
       "      <td>I develop competitive web and desktop applics ...</td>\n",
       "      <td>$20k+</td>\n",
       "      <td>1.0</td>\n",
       "      <td>1.0</td>\n",
       "      <td>SEM Manager, Developer</td>\n",
       "      <td>596</td>\n",
       "      <td>83</td>\n",
       "      <td>$20.00</td>\n",
       "      <td>['VBA', 'VB.NET', 'PHP', 'JavaScript', 'Adobe ...</td>\n",
       "      <td>6.0</td>\n",
       "    </tr>\n",
       "    <tr>\n",
       "      <th>40</th>\n",
       "      <td>Welcome to my profile! My name is Cassie. I wo...</td>\n",
       "      <td>$8k+</td>\n",
       "      <td>1.0</td>\n",
       "      <td>4.0</td>\n",
       "      <td>Customer Service, Professional Data Entry and ...</td>\n",
       "      <td>891</td>\n",
       "      <td>10</td>\n",
       "      <td>$9.00</td>\n",
       "      <td>['English Grammar', 'English Spelling', 'Techn...</td>\n",
       "      <td>1.0</td>\n",
       "    </tr>\n",
       "    <tr>\n",
       "      <th>41</th>\n",
       "      <td>Highly proficient project coordinator with exc...</td>\n",
       "      <td>$20k+</td>\n",
       "      <td>2.0</td>\n",
       "      <td>3.0</td>\n",
       "      <td>Project Coordination and Recruiting Expert</td>\n",
       "      <td>1,088</td>\n",
       "      <td>3</td>\n",
       "      <td>$35.00</td>\n",
       "      <td>['Sales Management', 'Internet Marketing', 'Ma...</td>\n",
       "      <td>NaN</td>\n",
       "    </tr>\n",
       "    <tr>\n",
       "      <th>42</th>\n",
       "      <td>I am an experienced virtual assistant, data en...</td>\n",
       "      <td>$100k+</td>\n",
       "      <td>1.0</td>\n",
       "      <td>3.0</td>\n",
       "      <td>Customer Service Expert/Team Manager/Data Entr...</td>\n",
       "      <td>14,862</td>\n",
       "      <td>53</td>\n",
       "      <td>$13.75</td>\n",
       "      <td>['Customer Service', 'Live Chat Operator', 'Da...</td>\n",
       "      <td>3.0</td>\n",
       "    </tr>\n",
       "    <tr>\n",
       "      <th>43</th>\n",
       "      <td>My skills include designing , improving, or an...</td>\n",
       "      <td>$40k+</td>\n",
       "      <td>1.0</td>\n",
       "      <td>1.0</td>\n",
       "      <td>Data Analyst and Spreadsheet Designer</td>\n",
       "      <td>2,373</td>\n",
       "      <td>234</td>\n",
       "      <td>$21.50</td>\n",
       "      <td>['Microsoft Excel', 'Microsoft PowerPoint']</td>\n",
       "      <td>26.0</td>\n",
       "    </tr>\n",
       "    <tr>\n",
       "      <th>44</th>\n",
       "      <td>I am an experienced and professional WordPress...</td>\n",
       "      <td>$8k+</td>\n",
       "      <td>2.0</td>\n",
       "      <td>2.0</td>\n",
       "      <td>WordPress &amp; Web Developer - Custom Websites, B...</td>\n",
       "      <td>247</td>\n",
       "      <td>29</td>\n",
       "      <td>$42.50</td>\n",
       "      <td>['WordPress', 'HTML5', 'CSS3', 'JavaScript', '...</td>\n",
       "      <td>1.0</td>\n",
       "    </tr>\n",
       "    <tr>\n",
       "      <th>45</th>\n",
       "      <td>I am a Medical Doctor (MD) who graduated from ...</td>\n",
       "      <td>$100k+</td>\n",
       "      <td>2.0</td>\n",
       "      <td>3.0</td>\n",
       "      <td>Physician Medical Writer and Consultant</td>\n",
       "      <td>222</td>\n",
       "      <td>76</td>\n",
       "      <td>$125.00</td>\n",
       "      <td>['Medical Writing', 'Content Writing', 'Scient...</td>\n",
       "      <td>1.0</td>\n",
       "    </tr>\n",
       "    <tr>\n",
       "      <th>46</th>\n",
       "      <td>I have worked as a virtual assistant before. I...</td>\n",
       "      <td>$20k+</td>\n",
       "      <td>1.0</td>\n",
       "      <td>4.0</td>\n",
       "      <td>Virtual Assistant</td>\n",
       "      <td>1,502</td>\n",
       "      <td>29</td>\n",
       "      <td>$18.00</td>\n",
       "      <td>['Sales', 'Microsoft Word', 'Microsoft Excel',...</td>\n",
       "      <td>NaN</td>\n",
       "    </tr>\n",
       "    <tr>\n",
       "      <th>47</th>\n",
       "      <td>I have worked on presentations for Microsoft, ...</td>\n",
       "      <td>$30k+</td>\n",
       "      <td>1.0</td>\n",
       "      <td>3.0</td>\n",
       "      <td>PowerPoint &amp; Keynote Presentation Specialist</td>\n",
       "      <td>860</td>\n",
       "      <td>48</td>\n",
       "      <td>$58.00</td>\n",
       "      <td>['Adobe Creative Suite', 'Keynote', 'Microsoft...</td>\n",
       "      <td>1.0</td>\n",
       "    </tr>\n",
       "    <tr>\n",
       "      <th>48</th>\n",
       "      <td>I am a writer and editor, although I would lov...</td>\n",
       "      <td>$10k+</td>\n",
       "      <td>1.0</td>\n",
       "      <td>3.0</td>\n",
       "      <td>Writer and Editor</td>\n",
       "      <td>270</td>\n",
       "      <td>31</td>\n",
       "      <td>$28.00</td>\n",
       "      <td>['Editing', 'Copyediting', 'Copywriting', 'AP ...</td>\n",
       "      <td>5.0</td>\n",
       "    </tr>\n",
       "    <tr>\n",
       "      <th>49</th>\n",
       "      <td>Project Management &amp; Customer Support Speciali...</td>\n",
       "      <td>$100k+</td>\n",
       "      <td>3.0</td>\n",
       "      <td>6.0</td>\n",
       "      <td>Customer Service Retention Specialist and eCom...</td>\n",
       "      <td>5,285</td>\n",
       "      <td>10</td>\n",
       "      <td>$32.00</td>\n",
       "      <td>['Customer Service', 'Email Handling', 'Order ...</td>\n",
       "      <td>3.0</td>\n",
       "    </tr>\n",
       "  </tbody>\n",
       "</table>\n",
       "</div>"
      ],
      "text/plain": [
       "                                                  bio  earned  edu  exp  \\\n",
       "0   Google Adwords & Bing Ads Certified MBA market...  $200k+  3.0  8.0   \n",
       "1   I have been transcribing for more than 7 years...   $10k+  2.0  1.0   \n",
       "2   Throughout my undergraduate years, I was a res...   $60k+  1.0  3.0   \n",
       "3   As a digital marketing professional with a foc...   $30k+  2.0  2.0   \n",
       "4   WordPress Development + Theme Customization + ...   $40k+  NaN  1.0   \n",
       "5   Raising money as a startup is hard work! The a...  $100k+  1.0  5.0   \n",
       "6   Hire me to make sure that your business runs s...   $10k+  2.0  4.0   \n",
       "7   I am a medical student at Northwestern Univers...   $10k+  2.0  2.0   \n",
       "8   My expertise in writing, editing, and designin...   $20k+  3.0  3.0   \n",
       "9   👋 Hi, I'm Brandon! Top-Rated Wix Designer & De...   $40k+  1.0  1.0   \n",
       "10  I have over 20 years experience in data wareho...  $100k+  2.0  1.0   \n",
       "11  This is a bold statement, but I stand behind m...   $20k+  1.0  1.0   \n",
       "12  Let me be your creative chameleon. I can write...   $50k+  2.0  5.0   \n",
       "13  I am a widely skilled researcher and writer dr...   $10k+  2.0  4.0   \n",
       "14  I was a part time Virtual Assistant as well as...  $500k+  1.0  3.0   \n",
       "15  Like to test your app in iPhone S7 to SX Max, ...    $5k+  1.0  NaN   \n",
       "16  My previous work experience includes: Mortgage...   $20k+  1.0  4.0   \n",
       "17  Over Twenty years of management experience inc...  $200k+  1.0  8.0   \n",
       "18  \"Top level writing! She communicates well and ...   $30k+  2.0  2.0   \n",
       "19  Overall management and financial responsibilit...   $10k+  1.0  1.0   \n",
       "20  I am a professional programmer working on Powe...   $20k+  1.0  1.0   \n",
       "21  I am a responsible and dynamic person with a s...   $30k+  1.0  7.0   \n",
       "22  Audio Engineering, Sound Design, Original Musi...   $20k+  1.0  3.0   \n",
       "23  I have over 5 years of experience in Manual & ...    $4k+  1.0  NaN   \n",
       "24  I am a detail oriented, well organized adminis...    $5k+  1.0  2.0   \n",
       "25  I have been in the Consulting and Strategy fie...    $7k+  1.0  2.0   \n",
       "26  My freelancing career started with Textbroker....   $20k+  2.0  4.0   \n",
       "27  Kevin brings more than 15 years of marketing a...   $10k+  2.0  5.0   \n",
       "28  I have extensive experience in many areas acro...  $100k+  1.0  4.0   \n",
       "29  I am a web developer with over 15 years of exp...   $40k+  2.0  2.0   \n",
       "30  I have extensive experience working as a paral...    $7k+  4.0  4.0   \n",
       "31  I have a BFA in Animation, and have created An...    $8k+  1.0  6.0   \n",
       "32  I have a B.A in Marketing, I am a native Engli...    $7k+  1.0  4.0   \n",
       "33  Hello, My name is Isa. I have 4 years of Tax P...    $4k+  2.0  8.0   \n",
       "34  Intelligent, creative and detail oriented indi...    $6k+  2.0  7.0   \n",
       "35  Hi! I'm Rammy! \\n\\nI'm a creative consultant, ...   $20k+  2.0  8.0   \n",
       "36  13+ year of front-end web developer experience...   $40k+  1.0  7.0   \n",
       "37  I'm an experienced technology veteran with ove...    $3k+  1.0  3.0   \n",
       "38  After 10 years of teaching grammar and academi...   $10k+  2.0  3.0   \n",
       "39  I develop competitive web and desktop applics ...   $20k+  1.0  1.0   \n",
       "40  Welcome to my profile! My name is Cassie. I wo...    $8k+  1.0  4.0   \n",
       "41  Highly proficient project coordinator with exc...   $20k+  2.0  3.0   \n",
       "42  I am an experienced virtual assistant, data en...  $100k+  1.0  3.0   \n",
       "43  My skills include designing , improving, or an...   $40k+  1.0  1.0   \n",
       "44  I am an experienced and professional WordPress...    $8k+  2.0  2.0   \n",
       "45  I am a Medical Doctor (MD) who graduated from ...  $100k+  2.0  3.0   \n",
       "46  I have worked as a virtual assistant before. I...   $20k+  1.0  4.0   \n",
       "47  I have worked on presentations for Microsoft, ...   $30k+  1.0  3.0   \n",
       "48  I am a writer and editor, although I would lov...   $10k+  1.0  3.0   \n",
       "49  Project Management & Customer Support Speciali...  $100k+  3.0  6.0   \n",
       "\n",
       "                                             headline   hours jobs     rate  \\\n",
       "0   Marketing, Strategic Mgmt/Writer/SEO, SEM/Mark...  10,654   40   $45.00   \n",
       "1                                    Transcriptionist   1,043   60   $12.00   \n",
       "2            Transcription (98WPM), Virtual Assistant   2,840  254   $15.00   \n",
       "3   Full-Stack Digital Marketer | Facebook Ads Spe...     673   21   $75.00   \n",
       "4    Turn-Key Responsive Website Design & Development     625  131   $45.00   \n",
       "5   Startup Specialist, Pitch Decks, Business Plan...     655   32  $150.00   \n",
       "6          Tech Savvy Assistant for Busy Entrepreneur     434   34   $27.00   \n",
       "7                       Medical Writer and Researcher     347   13   $50.00   \n",
       "8          Writer, Editor, and Instructional Designer     587  118   $37.50   \n",
       "9   WIX PROFESSIONAL: Expert Wix Website Designer ...     241  162   $50.00   \n",
       "10                Data Scientist and Technical Writer   1,790   99  $100.00   \n",
       "11  Search Engine Optimization Specialist | Data V...     532   38   $55.00   \n",
       "12                         Creative Writer and Editor     825   91   $85.00   \n",
       "13          Creative Writer and Historical Researcher     969   12   $20.00   \n",
       "14                           Project & Office Manager  59,063  105   $20.00   \n",
       "15  iPhone Developer & Tester (Swift) | Google Ske...     655    2   $25.00   \n",
       "16           Compliance and Administrative Specialist   1,729    7   $15.00   \n",
       "17  Experienced Operations Manager for Global Supp...   8,209   12   $24.44   \n",
       "18  B2B Copywriter: Website and Marketing Content ...     268   34   $95.00   \n",
       "19                                 Project Management     977    1   $49.00   \n",
       "20  PowerBuilder 2017 / SQL Server T-SQL / Oracle ...     540    2   $65.00   \n",
       "21  Customer Service, Data Entry, Nursing, Adminis...   2,560   68   $14.67   \n",
       "22  Audio Post Engineer, Sound Designer, Video Edi...   1,420   92   $31.25   \n",
       "23  ISTQB Certified Quality Engineer - Manual & Au...     251    2   $20.00   \n",
       "24           Detail Oriented Administrative Assistant     342    5   $20.00   \n",
       "25                                  Financial Analyst     235    2   $45.00   \n",
       "26                Data entry/Transcription specialist   1,379  101   $20.00   \n",
       "27   Marketing Fixer & Award-Winning Graphic Designer     244    6   $50.00   \n",
       "28                                   Project Engineer   5,903   15   $50.00   \n",
       "29                                      Web Developer     391   52   $80.00   \n",
       "30    Paralegal - English and U.S. law, HR generalist     251    2   $25.00   \n",
       "31    Motion Graphics Designer and 3D Artist/Animator     252    8   $37.50   \n",
       "32            Content writer, Blogger, and SEO Expert     215    7   $25.00   \n",
       "33  Tax Professional/Bookkeeper/ Admin Manager Wit...     355    5   $15.00   \n",
       "34          Graphic Artist and Marketing Professional     239   49   $21.00   \n",
       "35  Naming Specialist, Expert Writer, Brand Consul...     285   25  $150.00   \n",
       "36                     Senior Front End Web Developer     741    1   $85.00   \n",
       "37     Experienced Technical Customer Support Veteran     271    4   $25.00   \n",
       "38                             Expert Writer + Editor     228   32   $30.00   \n",
       "39                             SEM Manager, Developer     596   83   $20.00   \n",
       "40  Customer Service, Professional Data Entry and ...     891   10    $9.00   \n",
       "41         Project Coordination and Recruiting Expert   1,088    3   $35.00   \n",
       "42  Customer Service Expert/Team Manager/Data Entr...  14,862   53   $13.75   \n",
       "43              Data Analyst and Spreadsheet Designer   2,373  234   $21.50   \n",
       "44  WordPress & Web Developer - Custom Websites, B...     247   29   $42.50   \n",
       "45            Physician Medical Writer and Consultant     222   76  $125.00   \n",
       "46                                  Virtual Assistant   1,502   29   $18.00   \n",
       "47       PowerPoint & Keynote Presentation Specialist     860   48   $58.00   \n",
       "48                                  Writer and Editor     270   31   $28.00   \n",
       "49  Customer Service Retention Specialist and eCom...   5,285   10   $32.00   \n",
       "\n",
       "                                               skills  tests  \n",
       "0   ['Strategic Planning', 'Business Analysis', 'A...    9.0  \n",
       "1          ['Transcription', 'Medical Transcription']    2.0  \n",
       "2   ['Biology', 'English', 'Transcription', 'Virtu...    4.0  \n",
       "3   ['Facebook Marketing', 'Inbound Marketing', 'M...    4.0  \n",
       "4   ['WordPress', 'Woocommerce', 'Website Developm...    1.0  \n",
       "5   ['Startup Consulting', 'Business Modeling', 'B...    1.0  \n",
       "6   ['HTML', 'Customer Service', 'English', 'WordP...    4.0  \n",
       "7   ['Customer Support', 'Medical Writing', 'Micro...    1.0  \n",
       "8   ['Academic Writing', 'Copyediting', 'Editing',...    6.0  \n",
       "9   ['WiX', 'Web Design', 'Website Development', '...   26.0  \n",
       "10  ['Data Science', 'Data Modeling', 'SQL', 'Tech...    4.0  \n",
       "11  ['Internet Marketing', 'Google Website Optimiz...    8.0  \n",
       "12  ['Academic Writing', 'Article Writing', 'Copye...    4.0  \n",
       "13  ['History', 'Research Papers', 'Fiction Writin...    NaN  \n",
       "14  ['Virtual Assistant', 'Customer Support', 'Pro...    6.0  \n",
       "15  ['Swift', 'iOS Development', '3D Modeling', 'M...    2.0  \n",
       "16  ['Accounting', 'Bookkeeping', 'Customer Servic...   14.0  \n",
       "17  ['Customer Service', 'Data Analytics', 'Google...    9.0  \n",
       "18  ['Content Strategy', 'Copywriting', 'Content W...    2.0  \n",
       "19                             ['Project Management']    NaN  \n",
       "20  ['Microsoft SQL Server Programming', 'SQL Serv...    3.0  \n",
       "21  ['Data Entry', 'Customer Service', 'Internet R...    8.0  \n",
       "22  ['Audio Editing', 'Audio Mixing', 'Audio Post ...    2.0  \n",
       "23  ['Selenium WebDriver', 'Black Box Testing', 'A...    2.0  \n",
       "24  ['Proofreading', 'Editing', 'Social Media Mark...    NaN  \n",
       "25  ['Statistics', 'Mathematics', 'Microsoft Excel...    3.0  \n",
       "26  ['Data Entry', 'Article Writing', 'Receptionis...    3.0  \n",
       "27  ['Marketing Strategy', 'Digital Marketing', 'S...    NaN  \n",
       "28  ['Unix System Administration', 'Linux System A...    5.0  \n",
       "29  ['PHP', 'WordPress', 'Drupal', 'Ruby', 'Django...    NaN  \n",
       "30  ['Employment Law', 'Contract Law', 'HRM', 'Adm...    NaN  \n",
       "31  ['3D Animation', '2D Animation', '3D Modeling'...    NaN  \n",
       "32  ['WordPress', 'Sports Writing', 'News Writing ...    1.0  \n",
       "33  ['Data Entry', 'Bookkeeping', 'Customer Servic...    2.0  \n",
       "34  ['Graphic Design', 'Print Design', 'Brochure D...    2.0  \n",
       "35  ['Copywriting', 'Brand Consulting', 'Communica...    4.0  \n",
       "36  ['CSS3', 'AJAX', 'WordPress', 'PSD to Wordpres...    1.0  \n",
       "37  ['Mac OS App Development', 'Customer Service',...    5.0  \n",
       "38  ['Editing', 'SEO Writing', 'Technical Writing'...    9.0  \n",
       "39  ['VBA', 'VB.NET', 'PHP', 'JavaScript', 'Adobe ...    6.0  \n",
       "40  ['English Grammar', 'English Spelling', 'Techn...    1.0  \n",
       "41  ['Sales Management', 'Internet Marketing', 'Ma...    NaN  \n",
       "42  ['Customer Service', 'Live Chat Operator', 'Da...    3.0  \n",
       "43        ['Microsoft Excel', 'Microsoft PowerPoint']   26.0  \n",
       "44  ['WordPress', 'HTML5', 'CSS3', 'JavaScript', '...    1.0  \n",
       "45  ['Medical Writing', 'Content Writing', 'Scient...    1.0  \n",
       "46  ['Sales', 'Microsoft Word', 'Microsoft Excel',...    NaN  \n",
       "47  ['Adobe Creative Suite', 'Keynote', 'Microsoft...    1.0  \n",
       "48  ['Editing', 'Copyediting', 'Copywriting', 'AP ...    5.0  \n",
       "49  ['Customer Service', 'Email Handling', 'Order ...    3.0  "
      ]
     },
     "execution_count": 5,
     "metadata": {},
     "output_type": "execute_result"
    }
   ],
   "source": [
    "df.head(50)"
   ]
  },
  {
   "cell_type": "code",
   "execution_count": 6,
   "metadata": {
    "extensions": {
     "jupyter_dashboards": {
      "version": 1,
      "views": {
       "grid_default": {
        "hidden": true
       },
       "report_default": {
        "hidden": true
       }
      }
     }
    }
   },
   "outputs": [],
   "source": [
    "df = df.drop_duplicates()"
   ]
  },
  {
   "cell_type": "code",
   "execution_count": 7,
   "metadata": {
    "extensions": {
     "jupyter_dashboards": {
      "version": 1,
      "views": {
       "grid_default": {
        "col": 0,
        "height": 4,
        "hidden": false,
        "row": 12,
        "width": 4
       },
       "report_default": {
        "hidden": true
       }
      }
     }
    }
   },
   "outputs": [
    {
     "data": {
      "text/plain": [
       "(4262, 10)"
      ]
     },
     "execution_count": 7,
     "metadata": {},
     "output_type": "execute_result"
    }
   ],
   "source": [
    "df.shape"
   ]
  },
  {
   "cell_type": "code",
   "execution_count": 8,
   "metadata": {
    "extensions": {
     "jupyter_dashboards": {
      "version": 1,
      "views": {
       "grid_default": {
        "col": 0,
        "height": 7,
        "hidden": false,
        "row": 16,
        "width": 4
       },
       "report_default": {
        "hidden": true
       }
      }
     }
    }
   },
   "outputs": [
    {
     "data": {
      "text/plain": [
       "bio          object\n",
       "earned       object\n",
       "edu         float64\n",
       "exp         float64\n",
       "headline     object\n",
       "hours        object\n",
       "jobs         object\n",
       "rate         object\n",
       "skills       object\n",
       "tests       float64\n",
       "dtype: object"
      ]
     },
     "execution_count": 8,
     "metadata": {},
     "output_type": "execute_result"
    }
   ],
   "source": [
    "df.dtypes"
   ]
  },
  {
   "cell_type": "code",
   "execution_count": 9,
   "metadata": {
    "extensions": {
     "jupyter_dashboards": {
      "version": 1,
      "views": {
       "grid_default": {
        "col": 4,
        "height": 7,
        "hidden": false,
        "row": 20,
        "width": 4
       },
       "report_default": {
        "hidden": true
       }
      }
     }
    }
   },
   "outputs": [
    {
     "data": {
      "text/plain": [
       "bio           17\n",
       "earned      1525\n",
       "edu          256\n",
       "exp          796\n",
       "headline      24\n",
       "hours       1523\n",
       "jobs        1494\n",
       "rate           2\n",
       "skills        70\n",
       "tests       2017\n",
       "dtype: int64"
      ]
     },
     "execution_count": 9,
     "metadata": {},
     "output_type": "execute_result"
    }
   ],
   "source": [
    "df.isna().sum()"
   ]
  },
  {
   "cell_type": "code",
   "execution_count": 10,
   "metadata": {
    "extensions": {
     "jupyter_dashboards": {
      "version": 1,
      "views": {
       "grid_default": {
        "hidden": true
       },
       "report_default": {
        "hidden": true
       }
      }
     }
    }
   },
   "outputs": [],
   "source": [
    "df = df[df.rate.notna()]"
   ]
  },
  {
   "cell_type": "code",
   "execution_count": 11,
   "metadata": {
    "extensions": {
     "jupyter_dashboards": {
      "version": 1,
      "views": {
       "grid_default": {
        "col": 8,
        "height": 4,
        "hidden": false,
        "row": 20,
        "width": 4
       },
       "report_default": {
        "hidden": true
       }
      }
     }
    }
   },
   "outputs": [
    {
     "data": {
      "text/plain": [
       "(4260, 10)"
      ]
     },
     "execution_count": 11,
     "metadata": {},
     "output_type": "execute_result"
    }
   ],
   "source": [
    "df.shape"
   ]
  },
  {
   "cell_type": "code",
   "execution_count": 12,
   "metadata": {
    "extensions": {
     "jupyter_dashboards": {
      "version": 1,
      "views": {
       "grid_default": {
        "hidden": true
       },
       "report_default": {
        "hidden": true
       }
      }
     }
    }
   },
   "outputs": [],
   "source": [
    "df['skills'] = df['skills'].fillna('[]')"
   ]
  },
  {
   "cell_type": "code",
   "execution_count": 13,
   "metadata": {
    "extensions": {
     "jupyter_dashboards": {
      "version": 1,
      "views": {
       "grid_default": {
        "hidden": true
       },
       "report_default": {
        "hidden": true
       }
      }
     }
    }
   },
   "outputs": [],
   "source": [
    "df['headline'] = df['headline'].fillna('')"
   ]
  },
  {
   "cell_type": "code",
   "execution_count": 14,
   "metadata": {
    "extensions": {
     "jupyter_dashboards": {
      "version": 1,
      "views": {
       "grid_default": {
        "hidden": true
       },
       "report_default": {
        "hidden": true
       }
      }
     }
    }
   },
   "outputs": [],
   "source": [
    "df['bio'] = df['bio'].fillna('')"
   ]
  },
  {
   "cell_type": "code",
   "execution_count": 15,
   "metadata": {
    "extensions": {
     "jupyter_dashboards": {
      "version": 1,
      "views": {
       "grid_default": {
        "hidden": true
       },
       "report_default": {
        "hidden": true
       }
      }
     }
    }
   },
   "outputs": [],
   "source": [
    "# sometimes hours and jobs will be zero but earned will be a positive number.\n",
    "# the below will allow one to check the earned column to see whether a freelancer has worked or not\n",
    "df = df.fillna('0')"
   ]
  },
  {
   "cell_type": "code",
   "execution_count": 16,
   "metadata": {
    "extensions": {
     "jupyter_dashboards": {
      "version": 1,
      "views": {
       "grid_default": {
        "hidden": true
       },
       "report_default": {
        "hidden": true
       }
      }
     }
    }
   },
   "outputs": [],
   "source": [
    "df['rate'] = df['rate'].map(lambda string: float(''.join([c for c in string if c.isdigit()]))/100)"
   ]
  },
  {
   "cell_type": "code",
   "execution_count": 17,
   "metadata": {
    "extensions": {
     "jupyter_dashboards": {
      "version": 1,
      "views": {
       "grid_default": {
        "hidden": true
       },
       "report_default": {
        "hidden": true
       }
      }
     }
    }
   },
   "outputs": [],
   "source": [
    "df['hours'] = df['hours'].map(lambda h: int(''.join([c for c in str(h) if c.isdigit()])))"
   ]
  },
  {
   "cell_type": "code",
   "execution_count": 18,
   "metadata": {
    "extensions": {
     "jupyter_dashboards": {
      "version": 1,
      "views": {
       "grid_default": {
        "hidden": true
       },
       "report_default": {
        "hidden": true
       }
      }
     }
    }
   },
   "outputs": [],
   "source": [
    "df['jobs'] = df['jobs'].map(lambda j: int(''.join([c for c in str(j) if c.isdigit()])))"
   ]
  },
  {
   "cell_type": "code",
   "execution_count": 19,
   "metadata": {
    "extensions": {
     "jupyter_dashboards": {
      "version": 1,
      "views": {
       "grid_default": {
        "hidden": true
       },
       "report_default": {
        "hidden": true
       }
      }
     }
    }
   },
   "outputs": [],
   "source": [
    "df['exp'] = df['exp'].map(lambda e: int(e))"
   ]
  },
  {
   "cell_type": "code",
   "execution_count": 20,
   "metadata": {
    "extensions": {
     "jupyter_dashboards": {
      "version": 1,
      "views": {
       "grid_default": {
        "hidden": true
       },
       "report_default": {
        "hidden": true
       }
      }
     }
    }
   },
   "outputs": [],
   "source": [
    "df['edu'] = df['edu'].map(lambda e: int(e))"
   ]
  },
  {
   "cell_type": "code",
   "execution_count": 21,
   "metadata": {
    "extensions": {
     "jupyter_dashboards": {
      "version": 1,
      "views": {
       "grid_default": {
        "hidden": true
       },
       "report_default": {
        "hidden": true
       }
      }
     }
    }
   },
   "outputs": [],
   "source": [
    "df['tests'] = df['tests'].map(lambda t: int(t))"
   ]
  },
  {
   "cell_type": "code",
   "execution_count": 22,
   "metadata": {
    "extensions": {
     "jupyter_dashboards": {
      "version": 1,
      "views": {
       "grid_default": {
        "hidden": true
       },
       "report_default": {
        "hidden": true
       }
      }
     }
    }
   },
   "outputs": [],
   "source": [
    "df['skills'] = df['skills'].map(lambda sk_string: sk_string.replace('[', \"\"))"
   ]
  },
  {
   "cell_type": "code",
   "execution_count": 23,
   "metadata": {
    "extensions": {
     "jupyter_dashboards": {
      "version": 1,
      "views": {
       "grid_default": {
        "hidden": true
       },
       "report_default": {
        "hidden": true
       }
      }
     }
    }
   },
   "outputs": [],
   "source": [
    "df['skills'] = df['skills'].map(lambda sk_string: sk_string.replace(']', \"\"))"
   ]
  },
  {
   "cell_type": "code",
   "execution_count": 24,
   "metadata": {
    "extensions": {
     "jupyter_dashboards": {
      "version": 1,
      "views": {
       "grid_default": {
        "hidden": true
       },
       "report_default": {
        "hidden": true
       }
      }
     }
    }
   },
   "outputs": [],
   "source": [
    "df['skills'] = df['skills'].map(lambda sk_string: sk_string.replace(\"'\", \"\"))"
   ]
  },
  {
   "cell_type": "code",
   "execution_count": 25,
   "metadata": {
    "extensions": {
     "jupyter_dashboards": {
      "version": 1,
      "views": {
       "grid_default": {
        "hidden": true
       },
       "report_default": {
        "hidden": true
       }
      }
     }
    }
   },
   "outputs": [],
   "source": [
    "df['skills'] = df['skills'].map(lambda sk_string: sk_string.replace('\"', ''))"
   ]
  },
  {
   "cell_type": "code",
   "execution_count": 26,
   "metadata": {
    "extensions": {
     "jupyter_dashboards": {
      "version": 1,
      "views": {
       "grid_default": {
        "hidden": true
       },
       "report_default": {
        "hidden": true
       }
      }
     }
    }
   },
   "outputs": [],
   "source": [
    "df['skills'] = df['skills'].map(lambda sk_string: sk_string.split(\", \"))"
   ]
  },
  {
   "cell_type": "code",
   "execution_count": 27,
   "metadata": {
    "extensions": {
     "jupyter_dashboards": {
      "version": 1,
      "views": {
       "grid_default": {
        "hidden": true
       },
       "report_default": {
        "hidden": true
       }
      }
     }
    }
   },
   "outputs": [],
   "source": [
    "# ternary operator\n",
    "df['skills'] = df['skills'].map(lambda sk_list: (sk_list, [])[sk_list == ['']])"
   ]
  },
  {
   "cell_type": "code",
   "execution_count": 28,
   "metadata": {
    "extensions": {
     "jupyter_dashboards": {
      "version": 1,
      "views": {
       "grid_default": {
        "col": 0,
        "height": 7,
        "hidden": false,
        "row": 23,
        "width": 4
       },
       "report_default": {
        "hidden": true
       }
      }
     }
    }
   },
   "outputs": [
    {
     "data": {
      "text/plain": [
       "bio          object\n",
       "earned       object\n",
       "edu           int64\n",
       "exp           int64\n",
       "headline     object\n",
       "hours         int64\n",
       "jobs          int64\n",
       "rate        float64\n",
       "skills       object\n",
       "tests         int64\n",
       "dtype: object"
      ]
     },
     "execution_count": 28,
     "metadata": {},
     "output_type": "execute_result"
    }
   ],
   "source": [
    "df.dtypes"
   ]
  },
  {
   "cell_type": "code",
   "execution_count": 29,
   "metadata": {
    "extensions": {
     "jupyter_dashboards": {
      "version": 1,
      "views": {
       "grid_default": {
        "col": 8,
        "height": 4,
        "hidden": false,
        "row": 24,
        "width": 4
       },
       "report_default": {
        "hidden": true
       }
      }
     }
    }
   },
   "outputs": [
    {
     "data": {
      "text/plain": [
       "4260"
      ]
     },
     "execution_count": 29,
     "metadata": {},
     "output_type": "execute_result"
    }
   ],
   "source": [
    "len(df)"
   ]
  },
  {
   "cell_type": "code",
   "execution_count": 30,
   "metadata": {
    "extensions": {
     "jupyter_dashboards": {
      "version": 1,
      "views": {
       "grid_default": {
        "col": 4,
        "height": 4,
        "hidden": false,
        "row": 27,
        "width": 4
       },
       "report_default": {
        "hidden": true
       }
      }
     }
    }
   },
   "outputs": [
    {
     "data": {
      "text/plain": [
       "4260"
      ]
     },
     "execution_count": 30,
     "metadata": {},
     "output_type": "execute_result"
    }
   ],
   "source": [
    "nn = 0\n",
    "for i in range(len(df)):\n",
    "    nn += (type(df['skills'].iloc[55]) == list)\n",
    "nn"
   ]
  },
  {
   "cell_type": "code",
   "execution_count": 31,
   "metadata": {
    "extensions": {
     "jupyter_dashboards": {
      "version": 1,
      "views": {
       "grid_default": {
        "hidden": true
       },
       "report_default": {
        "hidden": true
       }
      }
     }
    }
   },
   "outputs": [],
   "source": [
    "# df = df[df.rate < 200]"
   ]
  },
  {
   "cell_type": "code",
   "execution_count": 32,
   "metadata": {
    "extensions": {
     "jupyter_dashboards": {
      "version": 1,
      "views": {
       "grid_default": {
        "hidden": true
       },
       "report_default": {
        "hidden": true
       }
      }
     }
    }
   },
   "outputs": [],
   "source": [
    "df = df[df['earned'] != '0']"
   ]
  },
  {
   "cell_type": "code",
   "execution_count": 33,
   "metadata": {
    "extensions": {
     "jupyter_dashboards": {
      "version": 1,
      "views": {
       "grid_default": {
        "col": 8,
        "height": 4,
        "hidden": false,
        "row": 28,
        "width": 4
       },
       "report_default": {
        "hidden": true
       }
      }
     }
    }
   },
   "outputs": [
    {
     "data": {
      "text/plain": [
       "(2735, 10)"
      ]
     },
     "execution_count": 33,
     "metadata": {},
     "output_type": "execute_result"
    }
   ],
   "source": [
    "df.shape"
   ]
  },
  {
   "cell_type": "code",
   "execution_count": 34,
   "metadata": {
    "extensions": {
     "jupyter_dashboards": {
      "version": 1,
      "views": {
       "grid_default": {
        "hidden": true
       },
       "report_default": {
        "hidden": true
       }
      }
     }
    }
   },
   "outputs": [],
   "source": [
    "df = df.reset_index(drop = True)"
   ]
  },
  {
   "cell_type": "code",
   "execution_count": 35,
   "metadata": {
    "extensions": {
     "jupyter_dashboards": {
      "version": 1,
      "views": {
       "grid_default": {
        "hidden": true
       },
       "report_default": {
        "hidden": true
       }
      }
     }
    }
   },
   "outputs": [],
   "source": [
    "y = df.rate"
   ]
  },
  {
   "cell_type": "code",
   "execution_count": 36,
   "metadata": {
    "extensions": {
     "jupyter_dashboards": {
      "version": 1,
      "views": {
       "grid_default": {
        "col": 0,
        "height": 4,
        "hidden": false,
        "row": 30,
        "width": 4
       },
       "report_default": {
        "hidden": true
       }
      }
     }
    }
   },
   "outputs": [
    {
     "data": {
      "text/plain": [
       "38.606"
      ]
     },
     "execution_count": 36,
     "metadata": {},
     "output_type": "execute_result"
    }
   ],
   "source": [
    "std = np.std(y)\n",
    "round(std, 3)"
   ]
  },
  {
   "cell_type": "code",
   "execution_count": 37,
   "metadata": {
    "extensions": {
     "jupyter_dashboards": {
      "version": 1,
      "views": {
       "grid_default": {
        "col": 4,
        "height": 4,
        "hidden": false,
        "row": 31,
        "width": 4
       },
       "report_default": {
        "hidden": true
       }
      }
     }
    }
   },
   "outputs": [
    {
     "data": {
      "text/plain": [
       "47.207"
      ]
     },
     "execution_count": 37,
     "metadata": {},
     "output_type": "execute_result"
    }
   ],
   "source": [
    "meany = np.mean(y)\n",
    "round(meany, 3)"
   ]
  },
  {
   "cell_type": "markdown",
   "metadata": {
    "extensions": {
     "jupyter_dashboards": {
      "version": 1,
      "views": {
       "grid_default": {
        "col": 8,
        "height": 4,
        "hidden": false,
        "row": 32,
        "width": 4
       },
       "report_default": {
        "hidden": false
       }
      }
     }
    }
   },
   "source": [
    "### Hourly rate by skill:"
   ]
  },
  {
   "cell_type": "code",
   "execution_count": 38,
   "metadata": {
    "extensions": {
     "jupyter_dashboards": {
      "version": 1,
      "views": {
       "grid_default": {
        "hidden": true
       },
       "report_default": {
        "hidden": true
       }
      }
     }
    }
   },
   "outputs": [],
   "source": [
    "skills_df = df['skills'].str.join('|').str.get_dummies()"
   ]
  },
  {
   "cell_type": "code",
   "execution_count": 39,
   "metadata": {
    "extensions": {
     "jupyter_dashboards": {
      "version": 1,
      "views": {
       "grid_default": {
        "col": 0,
        "height": 4,
        "hidden": false,
        "row": 34,
        "width": 4
       },
       "report_default": {
        "hidden": true
       }
      }
     }
    }
   },
   "outputs": [
    {
     "data": {
      "text/plain": [
       "(2735, 1888)"
      ]
     },
     "execution_count": 39,
     "metadata": {},
     "output_type": "execute_result"
    }
   ],
   "source": [
    "skills_df.shape"
   ]
  },
  {
   "cell_type": "code",
   "execution_count": 40,
   "metadata": {
    "extensions": {
     "jupyter_dashboards": {
      "version": 1,
      "views": {
       "grid_default": {
        "col": 4,
        "height": 7,
        "hidden": false,
        "row": 35,
        "width": 4
       },
       "report_default": {
        "hidden": true
       }
      }
     }
    }
   },
   "outputs": [
    {
     "name": "stdout",
     "output_type": "stream",
     "text": [
      "8\n",
      "2\n",
      "10\n",
      "5\n",
      "6\n",
      "3\n",
      "10\n",
      "7\n",
      "10\n",
      "10\n"
     ]
    }
   ],
   "source": [
    "for i in range(10):\n",
    "    print(sum(skills_df.iloc[i, :]))"
   ]
  },
  {
   "cell_type": "code",
   "execution_count": 41,
   "metadata": {
    "extensions": {
     "jupyter_dashboards": {
      "version": 1,
      "views": {
       "grid_default": {
        "col": 8,
        "height": 7,
        "hidden": false,
        "row": 36,
        "width": 4
       },
       "report_default": {
        "hidden": true
       }
      }
     }
    }
   },
   "outputs": [
    {
     "name": "stdout",
     "output_type": "stream",
     "text": [
      "8\n",
      "2\n",
      "10\n",
      "5\n",
      "6\n",
      "3\n",
      "10\n",
      "7\n",
      "10\n",
      "10\n"
     ]
    }
   ],
   "source": [
    "for i in range(10):\n",
    "    print(len(df.iloc[i, 8]))"
   ]
  },
  {
   "cell_type": "code",
   "execution_count": 42,
   "metadata": {
    "extensions": {
     "jupyter_dashboards": {
      "version": 1,
      "views": {
       "grid_default": {
        "hidden": true
       },
       "report_default": {
        "hidden": true
       }
      }
     }
    }
   },
   "outputs": [],
   "source": [
    "rate = copy.deepcopy(df.rate)"
   ]
  },
  {
   "cell_type": "code",
   "execution_count": 43,
   "metadata": {
    "extensions": {
     "jupyter_dashboards": {
      "version": 1,
      "views": {
       "grid_default": {
        "col": 0,
        "height": 5,
        "hidden": false,
        "row": 38,
        "width": 4
       },
       "report_default": {
        "hidden": true
       }
      }
     }
    }
   },
   "outputs": [
    {
     "data": {
      "text/plain": [
       "0    45.0\n",
       "1    12.0\n",
       "2    15.0\n",
       "3    75.0\n",
       "4    45.0\n",
       "Name: rate, dtype: float64"
      ]
     },
     "execution_count": 43,
     "metadata": {},
     "output_type": "execute_result"
    }
   ],
   "source": [
    "rate.head()"
   ]
  },
  {
   "cell_type": "code",
   "execution_count": 44,
   "metadata": {
    "extensions": {
     "jupyter_dashboards": {
      "version": 1,
      "views": {
       "grid_default": {
        "col": 0,
        "height": 15,
        "hidden": false,
        "row": 43,
        "width": 7
       },
       "report_default": {
        "hidden": true
       }
      }
     }
    }
   },
   "outputs": [
    {
     "data": {
      "text/html": [
       "<div>\n",
       "<style scoped>\n",
       "    .dataframe tbody tr th:only-of-type {\n",
       "        vertical-align: middle;\n",
       "    }\n",
       "\n",
       "    .dataframe tbody tr th {\n",
       "        vertical-align: top;\n",
       "    }\n",
       "\n",
       "    .dataframe thead th {\n",
       "        text-align: right;\n",
       "    }\n",
       "</style>\n",
       "<table border=\"1\" class=\"dataframe\">\n",
       "  <thead>\n",
       "    <tr style=\"text-align: right;\">\n",
       "      <th></th>\n",
       "      <th>bio</th>\n",
       "      <th>earned</th>\n",
       "      <th>edu</th>\n",
       "      <th>exp</th>\n",
       "      <th>headline</th>\n",
       "      <th>hours</th>\n",
       "      <th>jobs</th>\n",
       "      <th>rate</th>\n",
       "      <th>skills</th>\n",
       "      <th>tests</th>\n",
       "    </tr>\n",
       "  </thead>\n",
       "  <tbody>\n",
       "    <tr>\n",
       "      <th>0</th>\n",
       "      <td>Google Adwords &amp; Bing Ads Certified MBA market...</td>\n",
       "      <td>$200k+</td>\n",
       "      <td>3</td>\n",
       "      <td>8</td>\n",
       "      <td>Marketing, Strategic Mgmt/Writer/SEO, SEM/Mark...</td>\n",
       "      <td>10654</td>\n",
       "      <td>40</td>\n",
       "      <td>45.0</td>\n",
       "      <td>[Strategic Planning, Business Analysis, Advert...</td>\n",
       "      <td>9</td>\n",
       "    </tr>\n",
       "    <tr>\n",
       "      <th>1</th>\n",
       "      <td>I have been transcribing for more than 7 years...</td>\n",
       "      <td>$10k+</td>\n",
       "      <td>2</td>\n",
       "      <td>1</td>\n",
       "      <td>Transcriptionist</td>\n",
       "      <td>1043</td>\n",
       "      <td>60</td>\n",
       "      <td>12.0</td>\n",
       "      <td>[Transcription, Medical Transcription]</td>\n",
       "      <td>2</td>\n",
       "    </tr>\n",
       "    <tr>\n",
       "      <th>2</th>\n",
       "      <td>Throughout my undergraduate years, I was a res...</td>\n",
       "      <td>$60k+</td>\n",
       "      <td>1</td>\n",
       "      <td>3</td>\n",
       "      <td>Transcription (98WPM), Virtual Assistant</td>\n",
       "      <td>2840</td>\n",
       "      <td>254</td>\n",
       "      <td>15.0</td>\n",
       "      <td>[Biology, English, Transcription, Virtual Assi...</td>\n",
       "      <td>4</td>\n",
       "    </tr>\n",
       "    <tr>\n",
       "      <th>3</th>\n",
       "      <td>As a digital marketing professional with a foc...</td>\n",
       "      <td>$30k+</td>\n",
       "      <td>2</td>\n",
       "      <td>2</td>\n",
       "      <td>Full-Stack Digital Marketer | Facebook Ads Spe...</td>\n",
       "      <td>673</td>\n",
       "      <td>21</td>\n",
       "      <td>75.0</td>\n",
       "      <td>[Facebook Marketing, Inbound Marketing, Market...</td>\n",
       "      <td>4</td>\n",
       "    </tr>\n",
       "    <tr>\n",
       "      <th>4</th>\n",
       "      <td>WordPress Development + Theme Customization + ...</td>\n",
       "      <td>$40k+</td>\n",
       "      <td>0</td>\n",
       "      <td>1</td>\n",
       "      <td>Turn-Key Responsive Website Design &amp; Development</td>\n",
       "      <td>625</td>\n",
       "      <td>131</td>\n",
       "      <td>45.0</td>\n",
       "      <td>[WordPress, Woocommerce, Website Development, ...</td>\n",
       "      <td>1</td>\n",
       "    </tr>\n",
       "  </tbody>\n",
       "</table>\n",
       "</div>"
      ],
      "text/plain": [
       "                                                 bio  earned  edu  exp  \\\n",
       "0  Google Adwords & Bing Ads Certified MBA market...  $200k+    3    8   \n",
       "1  I have been transcribing for more than 7 years...   $10k+    2    1   \n",
       "2  Throughout my undergraduate years, I was a res...   $60k+    1    3   \n",
       "3  As a digital marketing professional with a foc...   $30k+    2    2   \n",
       "4  WordPress Development + Theme Customization + ...   $40k+    0    1   \n",
       "\n",
       "                                            headline  hours  jobs  rate  \\\n",
       "0  Marketing, Strategic Mgmt/Writer/SEO, SEM/Mark...  10654    40  45.0   \n",
       "1                                   Transcriptionist   1043    60  12.0   \n",
       "2           Transcription (98WPM), Virtual Assistant   2840   254  15.0   \n",
       "3  Full-Stack Digital Marketer | Facebook Ads Spe...    673    21  75.0   \n",
       "4   Turn-Key Responsive Website Design & Development    625   131  45.0   \n",
       "\n",
       "                                              skills  tests  \n",
       "0  [Strategic Planning, Business Analysis, Advert...      9  \n",
       "1             [Transcription, Medical Transcription]      2  \n",
       "2  [Biology, English, Transcription, Virtual Assi...      4  \n",
       "3  [Facebook Marketing, Inbound Marketing, Market...      4  \n",
       "4  [WordPress, Woocommerce, Website Development, ...      1  "
      ]
     },
     "execution_count": 44,
     "metadata": {},
     "output_type": "execute_result"
    }
   ],
   "source": [
    "df.head()"
   ]
  },
  {
   "cell_type": "code",
   "execution_count": 45,
   "metadata": {
    "extensions": {
     "jupyter_dashboards": {
      "version": 1,
      "views": {
       "grid_default": {
        "hidden": true
       },
       "report_default": {
        "hidden": true
       }
      }
     }
    }
   },
   "outputs": [],
   "source": [
    "combined = pd.concat([skills_df, rate], axis = 1, sort = False)"
   ]
  },
  {
   "cell_type": "code",
   "execution_count": 46,
   "metadata": {
    "extensions": {
     "jupyter_dashboards": {
      "version": 1,
      "views": {
       "grid_default": {
        "col": 0,
        "height": 9,
        "hidden": false,
        "row": 58,
        "width": 12
       },
       "report_default": {
        "hidden": true
       }
      }
     }
    }
   },
   "outputs": [
    {
     "data": {
      "text/html": [
       "<div>\n",
       "<style scoped>\n",
       "    .dataframe tbody tr th:only-of-type {\n",
       "        vertical-align: middle;\n",
       "    }\n",
       "\n",
       "    .dataframe tbody tr th {\n",
       "        vertical-align: top;\n",
       "    }\n",
       "\n",
       "    .dataframe thead th {\n",
       "        text-align: right;\n",
       "    }\n",
       "</style>\n",
       "<table border=\"1\" class=\"dataframe\">\n",
       "  <thead>\n",
       "    <tr style=\"text-align: right;\">\n",
       "      <th></th>\n",
       "      <th>.NET Core</th>\n",
       "      <th>.NET Framework</th>\n",
       "      <th>.NET Remoting</th>\n",
       "      <th>2D Animation</th>\n",
       "      <th>2D Design</th>\n",
       "      <th>3D Animation</th>\n",
       "      <th>3D Design</th>\n",
       "      <th>3D Modeling</th>\n",
       "      <th>3D Printing</th>\n",
       "      <th>3D Rendering</th>\n",
       "      <th>...</th>\n",
       "      <th>iPhone App Development</th>\n",
       "      <th>iPhone UI Design</th>\n",
       "      <th>insightly</th>\n",
       "      <th>jQuery</th>\n",
       "      <th>jQuery UI</th>\n",
       "      <th>libGDX</th>\n",
       "      <th>logstash</th>\n",
       "      <th>phpMyAdmin</th>\n",
       "      <th>soapUI</th>\n",
       "      <th>rate</th>\n",
       "    </tr>\n",
       "  </thead>\n",
       "  <tbody>\n",
       "    <tr>\n",
       "      <th>0</th>\n",
       "      <td>0</td>\n",
       "      <td>0</td>\n",
       "      <td>0</td>\n",
       "      <td>0</td>\n",
       "      <td>0</td>\n",
       "      <td>0</td>\n",
       "      <td>0</td>\n",
       "      <td>0</td>\n",
       "      <td>0</td>\n",
       "      <td>0</td>\n",
       "      <td>...</td>\n",
       "      <td>0</td>\n",
       "      <td>0</td>\n",
       "      <td>0</td>\n",
       "      <td>0</td>\n",
       "      <td>0</td>\n",
       "      <td>0</td>\n",
       "      <td>0</td>\n",
       "      <td>0</td>\n",
       "      <td>0</td>\n",
       "      <td>45.0</td>\n",
       "    </tr>\n",
       "    <tr>\n",
       "      <th>1</th>\n",
       "      <td>0</td>\n",
       "      <td>0</td>\n",
       "      <td>0</td>\n",
       "      <td>0</td>\n",
       "      <td>0</td>\n",
       "      <td>0</td>\n",
       "      <td>0</td>\n",
       "      <td>0</td>\n",
       "      <td>0</td>\n",
       "      <td>0</td>\n",
       "      <td>...</td>\n",
       "      <td>0</td>\n",
       "      <td>0</td>\n",
       "      <td>0</td>\n",
       "      <td>0</td>\n",
       "      <td>0</td>\n",
       "      <td>0</td>\n",
       "      <td>0</td>\n",
       "      <td>0</td>\n",
       "      <td>0</td>\n",
       "      <td>12.0</td>\n",
       "    </tr>\n",
       "    <tr>\n",
       "      <th>2</th>\n",
       "      <td>0</td>\n",
       "      <td>0</td>\n",
       "      <td>0</td>\n",
       "      <td>0</td>\n",
       "      <td>0</td>\n",
       "      <td>0</td>\n",
       "      <td>0</td>\n",
       "      <td>0</td>\n",
       "      <td>0</td>\n",
       "      <td>0</td>\n",
       "      <td>...</td>\n",
       "      <td>0</td>\n",
       "      <td>0</td>\n",
       "      <td>0</td>\n",
       "      <td>0</td>\n",
       "      <td>0</td>\n",
       "      <td>0</td>\n",
       "      <td>0</td>\n",
       "      <td>0</td>\n",
       "      <td>0</td>\n",
       "      <td>15.0</td>\n",
       "    </tr>\n",
       "    <tr>\n",
       "      <th>3</th>\n",
       "      <td>0</td>\n",
       "      <td>0</td>\n",
       "      <td>0</td>\n",
       "      <td>0</td>\n",
       "      <td>0</td>\n",
       "      <td>0</td>\n",
       "      <td>0</td>\n",
       "      <td>0</td>\n",
       "      <td>0</td>\n",
       "      <td>0</td>\n",
       "      <td>...</td>\n",
       "      <td>0</td>\n",
       "      <td>0</td>\n",
       "      <td>0</td>\n",
       "      <td>0</td>\n",
       "      <td>0</td>\n",
       "      <td>0</td>\n",
       "      <td>0</td>\n",
       "      <td>0</td>\n",
       "      <td>0</td>\n",
       "      <td>75.0</td>\n",
       "    </tr>\n",
       "    <tr>\n",
       "      <th>4</th>\n",
       "      <td>0</td>\n",
       "      <td>0</td>\n",
       "      <td>0</td>\n",
       "      <td>0</td>\n",
       "      <td>0</td>\n",
       "      <td>0</td>\n",
       "      <td>0</td>\n",
       "      <td>0</td>\n",
       "      <td>0</td>\n",
       "      <td>0</td>\n",
       "      <td>...</td>\n",
       "      <td>0</td>\n",
       "      <td>0</td>\n",
       "      <td>0</td>\n",
       "      <td>0</td>\n",
       "      <td>0</td>\n",
       "      <td>0</td>\n",
       "      <td>0</td>\n",
       "      <td>0</td>\n",
       "      <td>0</td>\n",
       "      <td>45.0</td>\n",
       "    </tr>\n",
       "  </tbody>\n",
       "</table>\n",
       "<p>5 rows × 1889 columns</p>\n",
       "</div>"
      ],
      "text/plain": [
       "   .NET Core  .NET Framework  .NET Remoting  2D Animation  2D Design  \\\n",
       "0          0               0              0             0          0   \n",
       "1          0               0              0             0          0   \n",
       "2          0               0              0             0          0   \n",
       "3          0               0              0             0          0   \n",
       "4          0               0              0             0          0   \n",
       "\n",
       "   3D Animation  3D Design  3D Modeling  3D Printing  3D Rendering  ...   \\\n",
       "0             0          0            0            0             0  ...    \n",
       "1             0          0            0            0             0  ...    \n",
       "2             0          0            0            0             0  ...    \n",
       "3             0          0            0            0             0  ...    \n",
       "4             0          0            0            0             0  ...    \n",
       "\n",
       "   iPhone App Development  iPhone UI Design  insightly  jQuery  jQuery UI  \\\n",
       "0                       0                 0          0       0          0   \n",
       "1                       0                 0          0       0          0   \n",
       "2                       0                 0          0       0          0   \n",
       "3                       0                 0          0       0          0   \n",
       "4                       0                 0          0       0          0   \n",
       "\n",
       "   libGDX  logstash  phpMyAdmin  soapUI  rate  \n",
       "0       0         0           0       0  45.0  \n",
       "1       0         0           0       0  12.0  \n",
       "2       0         0           0       0  15.0  \n",
       "3       0         0           0       0  75.0  \n",
       "4       0         0           0       0  45.0  \n",
       "\n",
       "[5 rows x 1889 columns]"
      ]
     },
     "execution_count": 46,
     "metadata": {},
     "output_type": "execute_result"
    }
   ],
   "source": [
    "combined.head()"
   ]
  },
  {
   "cell_type": "code",
   "execution_count": 47,
   "metadata": {
    "extensions": {
     "jupyter_dashboards": {
      "version": 1,
      "views": {
       "grid_default": {
        "col": 7,
        "height": 7,
        "hidden": false,
        "row": 43,
        "width": 4
       },
       "report_default": {
        "hidden": true
       }
      }
     }
    }
   },
   "outputs": [
    {
     "name": "stdout",
     "output_type": "stream",
     "text": [
      "8.0\n",
      "2.0\n",
      "10.0\n",
      "5.0\n",
      "6.0\n",
      "3.0\n",
      "10.0\n",
      "7.0\n",
      "10.0\n",
      "10.0\n"
     ]
    }
   ],
   "source": [
    "for i in range(10):\n",
    "    print(sum(combined.iloc[i, :-1]))"
   ]
  },
  {
   "cell_type": "code",
   "execution_count": 48,
   "metadata": {
    "extensions": {
     "jupyter_dashboards": {
      "version": 1,
      "views": {
       "grid_default": {
        "col": 7,
        "height": 7,
        "hidden": false,
        "row": 50,
        "width": 4
       },
       "report_default": {
        "hidden": true
       }
      }
     }
    }
   },
   "outputs": [
    {
     "name": "stdout",
     "output_type": "stream",
     "text": [
      "45.0\n",
      "12.0\n",
      "15.0\n",
      "75.0\n",
      "45.0\n",
      "150.0\n",
      "27.0\n",
      "50.0\n",
      "37.5\n",
      "50.0\n"
     ]
    }
   ],
   "source": [
    "for i in range(10):\n",
    "    print(combined.iloc[i, -1])"
   ]
  },
  {
   "cell_type": "code",
   "execution_count": 49,
   "metadata": {
    "extensions": {
     "jupyter_dashboards": {
      "version": 1,
      "views": {
       "grid_default": {
        "hidden": true
       },
       "report_default": {
        "hidden": true
       }
      }
     }
    }
   },
   "outputs": [],
   "source": [
    "sd_list = []\n",
    "for c in combined.columns[:-1]: \n",
    "    skill_dict = dict.fromkeys(['mean', 'std', 'skill'], [])\n",
    "    comb_g = combined.groupby(c)\n",
    "    group_rate = comb_g.get_group(1)['rate']\n",
    "    skill_dict['g_r'] = group_rate\n",
    "    skill_dict['mean'] = np.mean(group_rate)\n",
    "    skill_dict['std'] = np.std(group_rate)\n",
    "    skill_dict['skill'] = str(c)\n",
    "    skill_dict['count'] = len(group_rate)\n",
    "    sd_list.append(skill_dict)"
   ]
  },
  {
   "cell_type": "code",
   "execution_count": 50,
   "metadata": {
    "extensions": {
     "jupyter_dashboards": {
      "version": 1,
      "views": {
       "grid_default": {
        "hidden": true
       },
       "report_default": {
        "hidden": true
       }
      }
     }
    }
   },
   "outputs": [],
   "source": [
    "skill_table = pd.DataFrame(sd_list)"
   ]
  },
  {
   "cell_type": "code",
   "execution_count": 51,
   "metadata": {
    "extensions": {
     "jupyter_dashboards": {
      "version": 1,
      "views": {
       "grid_default": {
        "col": 0,
        "height": 23,
        "hidden": false,
        "row": 67,
        "width": 4
       },
       "report_default": {
        "hidden": true
       }
      }
     }
    }
   },
   "outputs": [
    {
     "data": {
      "text/html": [
       "<div>\n",
       "<style scoped>\n",
       "    .dataframe tbody tr th:only-of-type {\n",
       "        vertical-align: middle;\n",
       "    }\n",
       "\n",
       "    .dataframe tbody tr th {\n",
       "        vertical-align: top;\n",
       "    }\n",
       "\n",
       "    .dataframe thead th {\n",
       "        text-align: right;\n",
       "    }\n",
       "</style>\n",
       "<table border=\"1\" class=\"dataframe\">\n",
       "  <thead>\n",
       "    <tr style=\"text-align: right;\">\n",
       "      <th></th>\n",
       "      <th>count</th>\n",
       "      <th>g_r</th>\n",
       "      <th>mean</th>\n",
       "      <th>skill</th>\n",
       "      <th>std</th>\n",
       "    </tr>\n",
       "  </thead>\n",
       "  <tbody>\n",
       "    <tr>\n",
       "      <th>0</th>\n",
       "      <td>1</td>\n",
       "      <td>2711    30.0\n",
       "Name: rate, dtype: float64</td>\n",
       "      <td>30.000000</td>\n",
       "      <td>.NET Core</td>\n",
       "      <td>0.000000</td>\n",
       "    </tr>\n",
       "    <tr>\n",
       "      <th>1</th>\n",
       "      <td>29</td>\n",
       "      <td>208     200.00\n",
       "264     150.00\n",
       "325      65.00\n",
       "3...</td>\n",
       "      <td>75.402069</td>\n",
       "      <td>.NET Framework</td>\n",
       "      <td>47.065003</td>\n",
       "    </tr>\n",
       "    <tr>\n",
       "      <th>2</th>\n",
       "      <td>1</td>\n",
       "      <td>502    50.0\n",
       "Name: rate, dtype: float64</td>\n",
       "      <td>50.000000</td>\n",
       "      <td>.NET Remoting</td>\n",
       "      <td>0.000000</td>\n",
       "    </tr>\n",
       "    <tr>\n",
       "      <th>3</th>\n",
       "      <td>14</td>\n",
       "      <td>31      37.5\n",
       "63      27.0\n",
       "656     45.0\n",
       "751    ...</td>\n",
       "      <td>46.535714</td>\n",
       "      <td>2D Animation</td>\n",
       "      <td>11.760200</td>\n",
       "    </tr>\n",
       "    <tr>\n",
       "      <th>4</th>\n",
       "      <td>17</td>\n",
       "      <td>492     38.0\n",
       "568     55.0\n",
       "633     12.0\n",
       "650    ...</td>\n",
       "      <td>34.029412</td>\n",
       "      <td>2D Design</td>\n",
       "      <td>15.635998</td>\n",
       "    </tr>\n",
       "    <tr>\n",
       "      <th>5</th>\n",
       "      <td>8</td>\n",
       "      <td>31      37.5\n",
       "173     32.0\n",
       "967     25.0\n",
       "1118   ...</td>\n",
       "      <td>38.000000</td>\n",
       "      <td>3D Animation</td>\n",
       "      <td>10.773231</td>\n",
       "    </tr>\n",
       "    <tr>\n",
       "      <th>6</th>\n",
       "      <td>17</td>\n",
       "      <td>427     30.00\n",
       "547     25.00\n",
       "568     55.00\n",
       "769 ...</td>\n",
       "      <td>38.514706</td>\n",
       "      <td>3D Design</td>\n",
       "      <td>18.010306</td>\n",
       "    </tr>\n",
       "    <tr>\n",
       "      <th>7</th>\n",
       "      <td>28</td>\n",
       "      <td>15      25.0\n",
       "31      37.5\n",
       "173     32.0\n",
       "249    ...</td>\n",
       "      <td>44.785714</td>\n",
       "      <td>3D Modeling</td>\n",
       "      <td>17.342366</td>\n",
       "    </tr>\n",
       "    <tr>\n",
       "      <th>8</th>\n",
       "      <td>14</td>\n",
       "      <td>142     70.00\n",
       "215     13.00\n",
       "502     50.00\n",
       "644 ...</td>\n",
       "      <td>46.375000</td>\n",
       "      <td>3D Printing</td>\n",
       "      <td>21.383561</td>\n",
       "    </tr>\n",
       "    <tr>\n",
       "      <th>9</th>\n",
       "      <td>20</td>\n",
       "      <td>97      100.0\n",
       "121      20.0\n",
       "173      32.0\n",
       "568 ...</td>\n",
       "      <td>48.125000</td>\n",
       "      <td>3D Rendering</td>\n",
       "      <td>23.279752</td>\n",
       "    </tr>\n",
       "  </tbody>\n",
       "</table>\n",
       "</div>"
      ],
      "text/plain": [
       "   count                                                g_r       mean  \\\n",
       "0      1            2711    30.0\n",
       "Name: rate, dtype: float64  30.000000   \n",
       "1     29  208     200.00\n",
       "264     150.00\n",
       "325      65.00\n",
       "3...  75.402069   \n",
       "2      1             502    50.0\n",
       "Name: rate, dtype: float64  50.000000   \n",
       "3     14  31      37.5\n",
       "63      27.0\n",
       "656     45.0\n",
       "751    ...  46.535714   \n",
       "4     17  492     38.0\n",
       "568     55.0\n",
       "633     12.0\n",
       "650    ...  34.029412   \n",
       "5      8  31      37.5\n",
       "173     32.0\n",
       "967     25.0\n",
       "1118   ...  38.000000   \n",
       "6     17  427     30.00\n",
       "547     25.00\n",
       "568     55.00\n",
       "769 ...  38.514706   \n",
       "7     28  15      25.0\n",
       "31      37.5\n",
       "173     32.0\n",
       "249    ...  44.785714   \n",
       "8     14  142     70.00\n",
       "215     13.00\n",
       "502     50.00\n",
       "644 ...  46.375000   \n",
       "9     20  97      100.0\n",
       "121      20.0\n",
       "173      32.0\n",
       "568 ...  48.125000   \n",
       "\n",
       "            skill        std  \n",
       "0       .NET Core   0.000000  \n",
       "1  .NET Framework  47.065003  \n",
       "2   .NET Remoting   0.000000  \n",
       "3    2D Animation  11.760200  \n",
       "4       2D Design  15.635998  \n",
       "5    3D Animation  10.773231  \n",
       "6       3D Design  18.010306  \n",
       "7     3D Modeling  17.342366  \n",
       "8     3D Printing  21.383561  \n",
       "9    3D Rendering  23.279752  "
      ]
     },
     "execution_count": 51,
     "metadata": {},
     "output_type": "execute_result"
    }
   ],
   "source": [
    "skill_table.head(10)"
   ]
  },
  {
   "cell_type": "code",
   "execution_count": 52,
   "metadata": {
    "extensions": {
     "jupyter_dashboards": {
      "version": 1,
      "views": {
       "grid_default": {
        "hidden": true
       },
       "report_default": {
        "hidden": true
       }
      }
     }
    }
   },
   "outputs": [],
   "source": [
    "skill_table = skill_table.sort_values(by = ['mean'], ascending = False)\n",
    "skill_table = skill_table.reset_index(drop = True)"
   ]
  },
  {
   "cell_type": "code",
   "execution_count": 53,
   "metadata": {
    "extensions": {
     "jupyter_dashboards": {
      "version": 1,
      "views": {
       "grid_default": {
        "hidden": true
       },
       "report_default": {
        "hidden": true
       }
      }
     }
    }
   },
   "outputs": [],
   "source": [
    "skill_tab = skill_table[skill_table['count'] > 10]\n",
    "skill_tab = skill_tab.reset_index(drop = True)"
   ]
  },
  {
   "cell_type": "code",
   "execution_count": 54,
   "metadata": {
    "extensions": {
     "jupyter_dashboards": {
      "version": 1,
      "views": {
       "grid_default": {
        "hidden": true
       },
       "report_default": {
        "hidden": true
       }
      }
     }
    }
   },
   "outputs": [],
   "source": [
    "ds = skill_table[skill_table['skill'] == 'Data Science']"
   ]
  },
  {
   "cell_type": "code",
   "execution_count": 55,
   "metadata": {
    "extensions": {
     "jupyter_dashboards": {
      "version": 1,
      "views": {
       "grid_default": {
        "col": 4,
        "height": 5,
        "hidden": false,
        "row": 67,
        "width": 4
       },
       "report_default": {
        "hidden": true
       }
      }
     }
    }
   },
   "outputs": [
    {
     "data": {
      "text/html": [
       "<div>\n",
       "<style scoped>\n",
       "    .dataframe tbody tr th:only-of-type {\n",
       "        vertical-align: middle;\n",
       "    }\n",
       "\n",
       "    .dataframe tbody tr th {\n",
       "        vertical-align: top;\n",
       "    }\n",
       "\n",
       "    .dataframe thead th {\n",
       "        text-align: right;\n",
       "    }\n",
       "</style>\n",
       "<table border=\"1\" class=\"dataframe\">\n",
       "  <thead>\n",
       "    <tr style=\"text-align: right;\">\n",
       "      <th></th>\n",
       "      <th>count</th>\n",
       "      <th>g_r</th>\n",
       "      <th>mean</th>\n",
       "      <th>skill</th>\n",
       "      <th>std</th>\n",
       "    </tr>\n",
       "  </thead>\n",
       "  <tbody>\n",
       "    <tr>\n",
       "      <th>332</th>\n",
       "      <td>21</td>\n",
       "      <td>10      100.00\n",
       "54      150.00\n",
       "197      75.00\n",
       "2...</td>\n",
       "      <td>74.428095</td>\n",
       "      <td>Data Science</td>\n",
       "      <td>35.115206</td>\n",
       "    </tr>\n",
       "  </tbody>\n",
       "</table>\n",
       "</div>"
      ],
      "text/plain": [
       "     count                                                g_r       mean  \\\n",
       "332     21  10      100.00\n",
       "54      150.00\n",
       "197      75.00\n",
       "2...  74.428095   \n",
       "\n",
       "            skill        std  \n",
       "332  Data Science  35.115206  "
      ]
     },
     "execution_count": 55,
     "metadata": {},
     "output_type": "execute_result"
    }
   ],
   "source": [
    "ds"
   ]
  },
  {
   "cell_type": "code",
   "execution_count": 56,
   "metadata": {
    "extensions": {
     "jupyter_dashboards": {
      "version": 1,
      "views": {
       "grid_default": {
        "col": 8,
        "height": 41,
        "hidden": false,
        "row": 67,
        "width": 4
       },
       "report_default": {
        "hidden": false
       }
      }
     }
    }
   },
   "outputs": [
    {
     "data": {
      "text/html": [
       "<div>\n",
       "<style scoped>\n",
       "    .dataframe tbody tr th:only-of-type {\n",
       "        vertical-align: middle;\n",
       "    }\n",
       "\n",
       "    .dataframe tbody tr th {\n",
       "        vertical-align: top;\n",
       "    }\n",
       "\n",
       "    .dataframe thead th {\n",
       "        text-align: right;\n",
       "    }\n",
       "</style>\n",
       "<table border=\"1\" class=\"dataframe\">\n",
       "  <thead>\n",
       "    <tr style=\"text-align: right;\">\n",
       "      <th></th>\n",
       "      <th>count</th>\n",
       "      <th>mean</th>\n",
       "      <th>skill</th>\n",
       "      <th>std</th>\n",
       "    </tr>\n",
       "  </thead>\n",
       "  <tbody>\n",
       "    <tr>\n",
       "      <th>0</th>\n",
       "      <td>26</td>\n",
       "      <td>105.346154</td>\n",
       "      <td>Startup Consulting</td>\n",
       "      <td>55.338776</td>\n",
       "    </tr>\n",
       "    <tr>\n",
       "      <th>1</th>\n",
       "      <td>19</td>\n",
       "      <td>90.877895</td>\n",
       "      <td>Ruby</td>\n",
       "      <td>59.125761</td>\n",
       "    </tr>\n",
       "    <tr>\n",
       "      <th>2</th>\n",
       "      <td>21</td>\n",
       "      <td>90.500000</td>\n",
       "      <td>Management Consulting</td>\n",
       "      <td>53.494548</td>\n",
       "    </tr>\n",
       "    <tr>\n",
       "      <th>3</th>\n",
       "      <td>11</td>\n",
       "      <td>87.272727</td>\n",
       "      <td>Financial Writing</td>\n",
       "      <td>26.744892</td>\n",
       "    </tr>\n",
       "    <tr>\n",
       "      <th>4</th>\n",
       "      <td>16</td>\n",
       "      <td>86.750000</td>\n",
       "      <td>Business Coaching</td>\n",
       "      <td>55.793985</td>\n",
       "    </tr>\n",
       "    <tr>\n",
       "      <th>5</th>\n",
       "      <td>16</td>\n",
       "      <td>86.031250</td>\n",
       "      <td>DevOps</td>\n",
       "      <td>30.397995</td>\n",
       "    </tr>\n",
       "    <tr>\n",
       "      <th>6</th>\n",
       "      <td>12</td>\n",
       "      <td>83.000000</td>\n",
       "      <td>Organizational Behavior</td>\n",
       "      <td>95.311769</td>\n",
       "    </tr>\n",
       "    <tr>\n",
       "      <th>7</th>\n",
       "      <td>11</td>\n",
       "      <td>82.159091</td>\n",
       "      <td>Docker</td>\n",
       "      <td>28.900746</td>\n",
       "    </tr>\n",
       "    <tr>\n",
       "      <th>8</th>\n",
       "      <td>20</td>\n",
       "      <td>81.950000</td>\n",
       "      <td>Travel Writing</td>\n",
       "      <td>210.969468</td>\n",
       "    </tr>\n",
       "    <tr>\n",
       "      <th>9</th>\n",
       "      <td>11</td>\n",
       "      <td>81.409091</td>\n",
       "      <td>Rapid Prototyping</td>\n",
       "      <td>48.681160</td>\n",
       "    </tr>\n",
       "    <tr>\n",
       "      <th>10</th>\n",
       "      <td>24</td>\n",
       "      <td>81.176667</td>\n",
       "      <td>Machine Learning</td>\n",
       "      <td>35.392992</td>\n",
       "    </tr>\n",
       "    <tr>\n",
       "      <th>11</th>\n",
       "      <td>18</td>\n",
       "      <td>80.666667</td>\n",
       "      <td>R</td>\n",
       "      <td>62.420616</td>\n",
       "    </tr>\n",
       "    <tr>\n",
       "      <th>12</th>\n",
       "      <td>29</td>\n",
       "      <td>80.070690</td>\n",
       "      <td>Business Planning</td>\n",
       "      <td>46.749927</td>\n",
       "    </tr>\n",
       "    <tr>\n",
       "      <th>13</th>\n",
       "      <td>22</td>\n",
       "      <td>79.643636</td>\n",
       "      <td>Product Management</td>\n",
       "      <td>34.900764</td>\n",
       "    </tr>\n",
       "    <tr>\n",
       "      <th>14</th>\n",
       "      <td>32</td>\n",
       "      <td>78.522500</td>\n",
       "      <td>Ruby on Rails</td>\n",
       "      <td>48.707970</td>\n",
       "    </tr>\n",
       "    <tr>\n",
       "      <th>15</th>\n",
       "      <td>30</td>\n",
       "      <td>78.316333</td>\n",
       "      <td>Digital Marketing</td>\n",
       "      <td>53.705465</td>\n",
       "    </tr>\n",
       "    <tr>\n",
       "      <th>16</th>\n",
       "      <td>14</td>\n",
       "      <td>78.102143</td>\n",
       "      <td>Conversion Rate Optimization</td>\n",
       "      <td>17.093104</td>\n",
       "    </tr>\n",
       "    <tr>\n",
       "      <th>17</th>\n",
       "      <td>40</td>\n",
       "      <td>77.516750</td>\n",
       "      <td>Amazon Web Services</td>\n",
       "      <td>45.544594</td>\n",
       "    </tr>\n",
       "    <tr>\n",
       "      <th>18</th>\n",
       "      <td>24</td>\n",
       "      <td>77.197917</td>\n",
       "      <td>Content Strategy</td>\n",
       "      <td>43.388925</td>\n",
       "    </tr>\n",
       "    <tr>\n",
       "      <th>19</th>\n",
       "      <td>17</td>\n",
       "      <td>75.588235</td>\n",
       "      <td>VB.NET</td>\n",
       "      <td>60.021622</td>\n",
       "    </tr>\n",
       "    <tr>\n",
       "      <th>20</th>\n",
       "      <td>29</td>\n",
       "      <td>75.402069</td>\n",
       "      <td>.NET Framework</td>\n",
       "      <td>47.065003</td>\n",
       "    </tr>\n",
       "    <tr>\n",
       "      <th>21</th>\n",
       "      <td>21</td>\n",
       "      <td>74.428095</td>\n",
       "      <td>Data Science</td>\n",
       "      <td>35.115206</td>\n",
       "    </tr>\n",
       "    <tr>\n",
       "      <th>22</th>\n",
       "      <td>11</td>\n",
       "      <td>74.272727</td>\n",
       "      <td>Program Management</td>\n",
       "      <td>60.320494</td>\n",
       "    </tr>\n",
       "    <tr>\n",
       "      <th>23</th>\n",
       "      <td>11</td>\n",
       "      <td>73.909091</td>\n",
       "      <td>FileMaker</td>\n",
       "      <td>34.589685</td>\n",
       "    </tr>\n",
       "    <tr>\n",
       "      <th>24</th>\n",
       "      <td>31</td>\n",
       "      <td>73.515806</td>\n",
       "      <td>Marketing Automation</td>\n",
       "      <td>40.198434</td>\n",
       "    </tr>\n",
       "    <tr>\n",
       "      <th>25</th>\n",
       "      <td>23</td>\n",
       "      <td>73.500000</td>\n",
       "      <td>Brand Consulting</td>\n",
       "      <td>38.787885</td>\n",
       "    </tr>\n",
       "    <tr>\n",
       "      <th>26</th>\n",
       "      <td>25</td>\n",
       "      <td>73.400000</td>\n",
       "      <td>Django</td>\n",
       "      <td>45.327254</td>\n",
       "    </tr>\n",
       "    <tr>\n",
       "      <th>27</th>\n",
       "      <td>43</td>\n",
       "      <td>73.323023</td>\n",
       "      <td>Business Analysis</td>\n",
       "      <td>42.767763</td>\n",
       "    </tr>\n",
       "    <tr>\n",
       "      <th>28</th>\n",
       "      <td>13</td>\n",
       "      <td>72.730769</td>\n",
       "      <td>PCB Design</td>\n",
       "      <td>29.522883</td>\n",
       "    </tr>\n",
       "    <tr>\n",
       "      <th>29</th>\n",
       "      <td>20</td>\n",
       "      <td>72.650000</td>\n",
       "      <td>API Development</td>\n",
       "      <td>34.991820</td>\n",
       "    </tr>\n",
       "    <tr>\n",
       "      <th>30</th>\n",
       "      <td>25</td>\n",
       "      <td>72.318800</td>\n",
       "      <td>Inbound Marketing</td>\n",
       "      <td>44.167893</td>\n",
       "    </tr>\n",
       "    <tr>\n",
       "      <th>31</th>\n",
       "      <td>17</td>\n",
       "      <td>72.058824</td>\n",
       "      <td>Product Design</td>\n",
       "      <td>46.504548</td>\n",
       "    </tr>\n",
       "    <tr>\n",
       "      <th>32</th>\n",
       "      <td>44</td>\n",
       "      <td>71.635000</td>\n",
       "      <td>Laravel Framework</td>\n",
       "      <td>34.267312</td>\n",
       "    </tr>\n",
       "    <tr>\n",
       "      <th>33</th>\n",
       "      <td>12</td>\n",
       "      <td>71.416667</td>\n",
       "      <td>Cloud Computing</td>\n",
       "      <td>45.345816</td>\n",
       "    </tr>\n",
       "    <tr>\n",
       "      <th>34</th>\n",
       "      <td>34</td>\n",
       "      <td>71.351765</td>\n",
       "      <td>Objective-C</td>\n",
       "      <td>28.273441</td>\n",
       "    </tr>\n",
       "    <tr>\n",
       "      <th>35</th>\n",
       "      <td>18</td>\n",
       "      <td>71.185556</td>\n",
       "      <td>Business Proposal Writing</td>\n",
       "      <td>27.271052</td>\n",
       "    </tr>\n",
       "    <tr>\n",
       "      <th>36</th>\n",
       "      <td>37</td>\n",
       "      <td>70.972973</td>\n",
       "      <td>User Interface Design</td>\n",
       "      <td>52.110971</td>\n",
       "    </tr>\n",
       "    <tr>\n",
       "      <th>37</th>\n",
       "      <td>36</td>\n",
       "      <td>70.611111</td>\n",
       "      <td>Mobile App Development</td>\n",
       "      <td>42.439681</td>\n",
       "    </tr>\n",
       "    <tr>\n",
       "      <th>38</th>\n",
       "      <td>13</td>\n",
       "      <td>70.538462</td>\n",
       "      <td>Ionic Framework</td>\n",
       "      <td>36.659274</td>\n",
       "    </tr>\n",
       "    <tr>\n",
       "      <th>39</th>\n",
       "      <td>26</td>\n",
       "      <td>70.480769</td>\n",
       "      <td>Strategic Planning</td>\n",
       "      <td>31.180764</td>\n",
       "    </tr>\n",
       "    <tr>\n",
       "      <th>40</th>\n",
       "      <td>11</td>\n",
       "      <td>70.386364</td>\n",
       "      <td>Digital Electronics</td>\n",
       "      <td>33.705166</td>\n",
       "    </tr>\n",
       "  </tbody>\n",
       "</table>\n",
       "</div>"
      ],
      "text/plain": [
       "    count        mean                         skill         std\n",
       "0      26  105.346154            Startup Consulting   55.338776\n",
       "1      19   90.877895                          Ruby   59.125761\n",
       "2      21   90.500000         Management Consulting   53.494548\n",
       "3      11   87.272727             Financial Writing   26.744892\n",
       "4      16   86.750000             Business Coaching   55.793985\n",
       "5      16   86.031250                        DevOps   30.397995\n",
       "6      12   83.000000       Organizational Behavior   95.311769\n",
       "7      11   82.159091                        Docker   28.900746\n",
       "8      20   81.950000                Travel Writing  210.969468\n",
       "9      11   81.409091             Rapid Prototyping   48.681160\n",
       "10     24   81.176667              Machine Learning   35.392992\n",
       "11     18   80.666667                             R   62.420616\n",
       "12     29   80.070690             Business Planning   46.749927\n",
       "13     22   79.643636            Product Management   34.900764\n",
       "14     32   78.522500                 Ruby on Rails   48.707970\n",
       "15     30   78.316333             Digital Marketing   53.705465\n",
       "16     14   78.102143  Conversion Rate Optimization   17.093104\n",
       "17     40   77.516750           Amazon Web Services   45.544594\n",
       "18     24   77.197917              Content Strategy   43.388925\n",
       "19     17   75.588235                        VB.NET   60.021622\n",
       "20     29   75.402069                .NET Framework   47.065003\n",
       "21     21   74.428095                  Data Science   35.115206\n",
       "22     11   74.272727            Program Management   60.320494\n",
       "23     11   73.909091                     FileMaker   34.589685\n",
       "24     31   73.515806          Marketing Automation   40.198434\n",
       "25     23   73.500000              Brand Consulting   38.787885\n",
       "26     25   73.400000                        Django   45.327254\n",
       "27     43   73.323023             Business Analysis   42.767763\n",
       "28     13   72.730769                    PCB Design   29.522883\n",
       "29     20   72.650000               API Development   34.991820\n",
       "30     25   72.318800             Inbound Marketing   44.167893\n",
       "31     17   72.058824                Product Design   46.504548\n",
       "32     44   71.635000             Laravel Framework   34.267312\n",
       "33     12   71.416667               Cloud Computing   45.345816\n",
       "34     34   71.351765                   Objective-C   28.273441\n",
       "35     18   71.185556     Business Proposal Writing   27.271052\n",
       "36     37   70.972973         User Interface Design   52.110971\n",
       "37     36   70.611111        Mobile App Development   42.439681\n",
       "38     13   70.538462               Ionic Framework   36.659274\n",
       "39     26   70.480769            Strategic Planning   31.180764\n",
       "40     11   70.386364           Digital Electronics   33.705166"
      ]
     },
     "execution_count": 56,
     "metadata": {},
     "output_type": "execute_result"
    }
   ],
   "source": [
    "skill_tab.loc[0:40, skill_tab.columns != 'g_r']"
   ]
  },
  {
   "cell_type": "markdown",
   "metadata": {
    "extensions": {
     "jupyter_dashboards": {
      "version": 1,
      "views": {
       "grid_default": {
        "col": 4,
        "height": 4,
        "hidden": false,
        "row": 72,
        "width": 4
       },
       "report_default": {
        "hidden": true
       }
      }
     }
    }
   },
   "source": [
    "### Clustering"
   ]
  },
  {
   "cell_type": "code",
   "execution_count": 58,
   "metadata": {
    "extensions": {
     "jupyter_dashboards": {
      "version": 1,
      "views": {
       "grid_default": {
        "col": 4,
        "height": 30,
        "hidden": false,
        "row": 76,
        "width": 4
       },
       "report_default": {
        "hidden": true
       }
      }
     }
    }
   },
   "outputs": [
    {
     "name": "stdout",
     "output_type": "stream",
     "text": [
      "Init: initializing centroids\n",
      "Init: initializing clusters\n",
      "Starting iterations...\n",
      "Run 1, iteration: 1/100, moves: 350, cost: 20256.0\n",
      "Run 1, iteration: 2/100, moves: 72, cost: 20256.0\n",
      "Init: initializing centroids\n",
      "Init: initializing clusters\n",
      "Starting iterations...\n",
      "Run 2, iteration: 1/100, moves: 153, cost: 20224.0\n",
      "Run 2, iteration: 2/100, moves: 99, cost: 20145.0\n",
      "Run 2, iteration: 3/100, moves: 9, cost: 20145.0\n",
      "Init: initializing centroids\n",
      "Init: initializing clusters\n",
      "Starting iterations...\n",
      "Run 3, iteration: 1/100, moves: 132, cost: 20179.0\n",
      "Run 3, iteration: 2/100, moves: 0, cost: 20179.0\n",
      "Init: initializing centroids\n",
      "Init: initializing clusters\n",
      "Starting iterations...\n",
      "Run 4, iteration: 1/100, moves: 384, cost: 20127.0\n",
      "Run 4, iteration: 2/100, moves: 59, cost: 20127.0\n",
      "Init: initializing centroids\n",
      "Init: initializing clusters\n",
      "Starting iterations...\n",
      "Run 5, iteration: 1/100, moves: 377, cost: 20042.0\n",
      "Run 5, iteration: 2/100, moves: 25, cost: 20042.0\n",
      "Init: initializing centroids\n",
      "Init: initializing clusters\n",
      "Starting iterations...\n",
      "Run 6, iteration: 1/100, moves: 292, cost: 19933.0\n",
      "Run 6, iteration: 2/100, moves: 10, cost: 19933.0\n",
      "Best run was number 6\n",
      "[[0 0 0 ... 0 0 0]\n",
      " [0 0 0 ... 0 0 0]\n",
      " [0 0 0 ... 0 0 0]\n",
      " ...\n",
      " [0 0 0 ... 0 0 0]\n",
      " [0 0 0 ... 0 0 0]\n",
      " [0 0 0 ... 0 0 0]]\n"
     ]
    }
   ],
   "source": [
    "km = KModes(n_clusters=15, init='Huang', n_init=6, verbose=1)\n",
    "clusters = km.fit_predict(skills_df)\n",
    "print(km.cluster_centroids_)"
   ]
  },
  {
   "cell_type": "code",
   "execution_count": 59,
   "metadata": {
    "extensions": {
     "jupyter_dashboards": {
      "version": 1,
      "views": {
       "grid_default": {
        "hidden": true
       },
       "report_default": {
        "hidden": true
       }
      }
     }
    }
   },
   "outputs": [],
   "source": [
    "kmodes = km.cluster_centroids_\n",
    "shape = kmodes.shape"
   ]
  },
  {
   "cell_type": "code",
   "execution_count": 60,
   "metadata": {
    "extensions": {
     "jupyter_dashboards": {
      "version": 1,
      "views": {
       "grid_default": {
        "col": 0,
        "height": 33,
        "hidden": false,
        "row": 90,
        "width": 4
       },
       "report_default": {
        "hidden": true
       }
      }
     }
    }
   },
   "outputs": [
    {
     "name": "stdout",
     "output_type": "stream",
     "text": [
      "\n",
      "cluster 0: \n",
      "Microsoft PowerPoint\n",
      "\n",
      "cluster 1: \n",
      "no-skills cluster\n",
      "\n",
      "cluster 2: \n",
      "Legal Transcription\n",
      "Transcription\n",
      "\n",
      "cluster 3: \n",
      "English\n",
      "\n",
      "cluster 4: \n",
      "Article Writing\n",
      "Blog Writing\n",
      "Editing\n",
      "\n",
      "cluster 5: \n",
      "Copywriting\n",
      "\n",
      "cluster 6: \n",
      "WordPress\n",
      "\n",
      "cluster 7: \n",
      "Editing\n",
      "Proofreading\n",
      "Writing\n",
      "\n",
      "cluster 8: \n",
      "Administrate\n",
      "Social Media Marketing\n",
      "\n",
      "cluster 9: \n",
      "Content Writing\n",
      "Microsoft Office\n",
      "WordPress\n",
      "\n",
      "cluster 10: \n",
      "Customer Service\n",
      "\n",
      "cluster 11: \n",
      "Copyediting\n",
      "Copywriting\n",
      "\n",
      "cluster 12: \n",
      "Project Management\n",
      "\n",
      "cluster 13: \n",
      "Microsoft Excel\n",
      "Microsoft PowerPoint\n",
      "Microsoft Word\n",
      "\n",
      "cluster 14: \n",
      "Adobe Illustrator\n",
      "Adobe InDesign\n",
      "Adobe Photoshop\n"
     ]
    }
   ],
   "source": [
    "for i in range(shape[0]):\n",
    "    if sum(kmodes[i,:]) == 0:\n",
    "        print(\"\\ncluster \" + str(i) + \": \")\n",
    "        print(\"no-skills cluster\")\n",
    "    else:\n",
    "        print(\"\\ncluster \" + str(i) + \": \")\n",
    "        cent = kmodes[i,:]\n",
    "        for j in skills_df.columns[np.nonzero(cent)]:\n",
    "            print(j)"
   ]
  },
  {
   "cell_type": "code",
   "execution_count": 61,
   "metadata": {
    "extensions": {
     "jupyter_dashboards": {
      "version": 1,
      "views": {
       "grid_default": {
        "hidden": true
       },
       "report_default": {
        "hidden": true
       }
      }
     }
    }
   },
   "outputs": [],
   "source": [
    "clust_assigned = km.predict(skills_df)"
   ]
  },
  {
   "cell_type": "code",
   "execution_count": 62,
   "metadata": {
    "extensions": {
     "jupyter_dashboards": {
      "version": 1,
      "views": {
       "grid_default": {
        "col": 4,
        "height": 10,
        "hidden": false,
        "row": 106,
        "width": 4
       },
       "report_default": {
        "hidden": true
       }
      }
     }
    }
   },
   "outputs": [
    {
     "data": {
      "text/plain": [
       "{0: 51,\n",
       " 1: 1354,\n",
       " 2: 1,\n",
       " 3: 81,\n",
       " 4: 129,\n",
       " 5: 112,\n",
       " 6: 347,\n",
       " 7: 80,\n",
       " 8: 2,\n",
       " 9: 4,\n",
       " 10: 150,\n",
       " 11: 74,\n",
       " 12: 98,\n",
       " 13: 122,\n",
       " 14: 130}"
      ]
     },
     "execution_count": 62,
     "metadata": {},
     "output_type": "execute_result"
    }
   ],
   "source": [
    "unique, counts = np.unique(clust_assigned, return_counts=True)\n",
    "dict(zip(unique, counts))"
   ]
  },
  {
   "cell_type": "code",
   "execution_count": null,
   "metadata": {
    "extensions": {
     "jupyter_dashboards": {
      "version": 1,
      "views": {
       "grid_default": {
        "hidden": true
       },
       "report_default": {
        "hidden": true
       }
      }
     }
    }
   },
   "outputs": [],
   "source": [
    "restrict = copy.deepcopy(skills_df)\n",
    "for name in restrict.columns:\n",
    "    if sum(restrict[name]) < 50:\n",
    "        restrict = restrict.drop([name], axis = 1)"
   ]
  },
  {
   "cell_type": "code",
   "execution_count": null,
   "metadata": {
    "extensions": {
     "jupyter_dashboards": {
      "version": 1,
      "views": {
       "grid_default": {
        "hidden": true
       },
       "report_default": {
        "hidden": true
       }
      }
     }
    },
    "scrolled": true
   },
   "outputs": [],
   "source": [
    "restrict.head()"
   ]
  },
  {
   "cell_type": "code",
   "execution_count": null,
   "metadata": {
    "extensions": {
     "jupyter_dashboards": {
      "version": 1,
      "views": {
       "grid_default": {
        "hidden": true
       },
       "report_default": {
        "hidden": true
       }
      }
     }
    }
   },
   "outputs": [],
   "source": [
    "km2 = KModes(n_clusters=15, init='Huang', n_init=11, verbose=1)\n",
    "clusters = km2.fit_predict(restrict)\n",
    "print(km2.cluster_centroids_)"
   ]
  },
  {
   "cell_type": "code",
   "execution_count": null,
   "metadata": {
    "extensions": {
     "jupyter_dashboards": {
      "version": 1,
      "views": {
       "grid_default": {
        "hidden": true
       },
       "report_default": {
        "hidden": true
       }
      }
     }
    }
   },
   "outputs": [],
   "source": [
    "kmodes2 = km2.cluster_centroids_\n",
    "shape2 = kmodes2.shape"
   ]
  },
  {
   "cell_type": "code",
   "execution_count": null,
   "metadata": {
    "extensions": {
     "jupyter_dashboards": {
      "version": 1,
      "views": {
       "grid_default": {
        "hidden": true
       },
       "report_default": {
        "hidden": true
       }
      }
     }
    },
    "scrolled": false
   },
   "outputs": [],
   "source": [
    "for i in range(shape2[0]):\n",
    "    if sum(kmodes2[i,:]) == 0:\n",
    "        print(\"\\ncluster \" + str(i) + \": \")\n",
    "        print(\"no-skills cluster\")\n",
    "    else:\n",
    "        print(\"\\ncluster \" + str(i) + \": \")\n",
    "        cent = kmodes2[i,:]\n",
    "        for j in restrict.columns[np.nonzero(cent)]:\n",
    "            print(j)"
   ]
  },
  {
   "cell_type": "code",
   "execution_count": null,
   "metadata": {
    "extensions": {
     "jupyter_dashboards": {
      "version": 1,
      "views": {
       "grid_default": {
        "hidden": true
       },
       "report_default": {
        "hidden": true
       }
      }
     }
    }
   },
   "outputs": [],
   "source": [
    "clust_assigned2 = km2.predict(restrict)"
   ]
  },
  {
   "cell_type": "code",
   "execution_count": null,
   "metadata": {
    "extensions": {
     "jupyter_dashboards": {
      "version": 1,
      "views": {
       "grid_default": {
        "hidden": true
       },
       "report_default": {
        "hidden": true
       }
      }
     }
    }
   },
   "outputs": [],
   "source": [
    "unique2, counts2 = np.unique(clust_assigned2, return_counts=True)\n",
    "dict(zip(unique2, counts2))"
   ]
  },
  {
   "cell_type": "markdown",
   "metadata": {
    "extensions": {
     "jupyter_dashboards": {
      "version": 1,
      "views": {
       "grid_default": {
        "col": 8,
        "height": 4,
        "hidden": false,
        "row": 108,
        "width": 4
       },
       "report_default": {
        "hidden": false
       }
      }
     }
    }
   },
   "source": [
    "### Cluster Boxplot"
   ]
  },
  {
   "cell_type": "code",
   "execution_count": 63,
   "metadata": {
    "extensions": {
     "jupyter_dashboards": {
      "version": 1,
      "views": {
       "grid_default": {
        "col": 8,
        "height": 4,
        "hidden": false,
        "row": 112,
        "width": 4
       },
       "report_default": {
        "hidden": true
       }
      }
     }
    }
   },
   "outputs": [
    {
     "data": {
      "text/plain": [
       "(2735, 10)"
      ]
     },
     "execution_count": 63,
     "metadata": {},
     "output_type": "execute_result"
    }
   ],
   "source": [
    "df.shape"
   ]
  },
  {
   "cell_type": "code",
   "execution_count": 64,
   "metadata": {
    "extensions": {
     "jupyter_dashboards": {
      "version": 1,
      "views": {
       "grid_default": {
        "hidden": true
       },
       "report_default": {
        "hidden": true
       }
      }
     }
    }
   },
   "outputs": [],
   "source": [
    "for_box = np.stack((clust_assigned, y), axis = 1)"
   ]
  },
  {
   "cell_type": "code",
   "execution_count": 65,
   "metadata": {
    "extensions": {
     "jupyter_dashboards": {
      "version": 1,
      "views": {
       "grid_default": {
        "hidden": true
       },
       "report_default": {
        "hidden": true
       }
      }
     }
    }
   },
   "outputs": [],
   "source": [
    "box_df = pd.DataFrame(for_box)"
   ]
  },
  {
   "cell_type": "code",
   "execution_count": 66,
   "metadata": {
    "extensions": {
     "jupyter_dashboards": {
      "version": 1,
      "views": {
       "grid_default": {
        "hidden": true
       },
       "report_default": {
        "hidden": true
       }
      }
     }
    }
   },
   "outputs": [],
   "source": [
    "box_df.columns = ['cluster', 'rate']"
   ]
  },
  {
   "cell_type": "code",
   "execution_count": 67,
   "metadata": {
    "extensions": {
     "jupyter_dashboards": {
      "version": 1,
      "views": {
       "grid_default": {
        "col": 4,
        "height": 11,
        "hidden": false,
        "row": 116,
        "width": 4
       },
       "report_default": {
        "hidden": false
       }
      }
     }
    }
   },
   "outputs": [
    {
     "data": {
      "text/plain": [
       "(0, 200)"
      ]
     },
     "execution_count": 67,
     "metadata": {},
     "output_type": "execute_result"
    },
    {
     "data": {
      "image/png": "[encoded data removed]",
      "text/plain": [
       "<Figure size 1080x720 with 1 Axes>"
      ]
     },
     "metadata": {},
     "output_type": "display_data"
    }
   ],
   "source": [
    "dfg = box_df.groupby('cluster')\n",
    "counts = [len(v) for k, v in dfg]\n",
    "total = float(sum(counts))\n",
    "cases = len(counts)\n",
    "widths = [c/total for c in counts]  \n",
    "cax = box_df.boxplot(column='rate', by='cluster', figsize=(15,10))\n",
    "cax.set_xticklabels(['%s\\n$n$=%d'%(k, len(v)) for k, v in dfg])\n",
    "cax.set_ylim([0,200])"
   ]
  },
  {
   "cell_type": "markdown",
   "metadata": {
    "extensions": {
     "jupyter_dashboards": {
      "version": 1,
      "views": {
       "grid_default": {
        "col": 8,
        "height": 4,
        "hidden": false,
        "row": 116,
        "width": 4
       },
       "report_default": {
        "hidden": false
       }
      }
     }
    }
   },
   "source": [
    "### Predicting with cluster means"
   ]
  },
  {
   "cell_type": "code",
   "execution_count": 68,
   "metadata": {
    "extensions": {
     "jupyter_dashboards": {
      "version": 1,
      "views": {
       "grid_default": {
        "hidden": true
       },
       "report_default": {
        "hidden": true
       }
      }
     }
    }
   },
   "outputs": [],
   "source": [
    "box_means = dfg.mean()"
   ]
  },
  {
   "cell_type": "code",
   "execution_count": 69,
   "metadata": {
    "extensions": {
     "jupyter_dashboards": {
      "version": 1,
      "views": {
       "grid_default": {
        "col": 8,
        "height": 4,
        "hidden": false,
        "row": 120,
        "width": 4
       },
       "report_default": {
        "hidden": true
       }
      }
     }
    }
   },
   "outputs": [
    {
     "data": {
      "text/plain": [
       "(2735, 10)"
      ]
     },
     "execution_count": 69,
     "metadata": {},
     "output_type": "execute_result"
    }
   ],
   "source": [
    "df.shape"
   ]
  },
  {
   "cell_type": "code",
   "execution_count": 70,
   "metadata": {
    "extensions": {
     "jupyter_dashboards": {
      "version": 1,
      "views": {
       "grid_default": {
        "hidden": true
       },
       "report_default": {
        "hidden": true
       }
      }
     }
    }
   },
   "outputs": [],
   "source": [
    "y_and_cluster_means = pd.merge(box_means, box_df, how='inner', on='cluster', left_on=None, right_on=None,\n",
    "         left_index=False, right_index=True, sort=False,\n",
    "         suffixes=('_x', '_y'), copy=True, indicator=False,\n",
    "         validate=None)"
   ]
  },
  {
   "cell_type": "code",
   "execution_count": 71,
   "metadata": {
    "extensions": {
     "jupyter_dashboards": {
      "version": 1,
      "views": {
       "grid_default": {
        "col": 0,
        "height": 8,
        "hidden": false,
        "row": 123,
        "width": 4
       },
       "report_default": {
        "hidden": true
       }
      }
     }
    }
   },
   "outputs": [
    {
     "data": {
      "text/html": [
       "<div>\n",
       "<style scoped>\n",
       "    .dataframe tbody tr th:only-of-type {\n",
       "        vertical-align: middle;\n",
       "    }\n",
       "\n",
       "    .dataframe tbody tr th {\n",
       "        vertical-align: top;\n",
       "    }\n",
       "\n",
       "    .dataframe thead th {\n",
       "        text-align: right;\n",
       "    }\n",
       "</style>\n",
       "<table border=\"1\" class=\"dataframe\">\n",
       "  <thead>\n",
       "    <tr style=\"text-align: right;\">\n",
       "      <th></th>\n",
       "      <th>rate_x</th>\n",
       "      <th>rate_y</th>\n",
       "    </tr>\n",
       "    <tr>\n",
       "      <th>cluster</th>\n",
       "      <th></th>\n",
       "      <th></th>\n",
       "    </tr>\n",
       "  </thead>\n",
       "  <tbody>\n",
       "    <tr>\n",
       "      <th>0.0</th>\n",
       "      <td>43.368627</td>\n",
       "      <td>21.5</td>\n",
       "    </tr>\n",
       "    <tr>\n",
       "      <th>0.0</th>\n",
       "      <td>43.368627</td>\n",
       "      <td>58.0</td>\n",
       "    </tr>\n",
       "    <tr>\n",
       "      <th>0.0</th>\n",
       "      <td>43.368627</td>\n",
       "      <td>125.0</td>\n",
       "    </tr>\n",
       "    <tr>\n",
       "      <th>0.0</th>\n",
       "      <td>43.368627</td>\n",
       "      <td>50.0</td>\n",
       "    </tr>\n",
       "    <tr>\n",
       "      <th>0.0</th>\n",
       "      <td>43.368627</td>\n",
       "      <td>70.0</td>\n",
       "    </tr>\n",
       "  </tbody>\n",
       "</table>\n",
       "</div>"
      ],
      "text/plain": [
       "            rate_x  rate_y\n",
       "cluster                   \n",
       "0.0      43.368627    21.5\n",
       "0.0      43.368627    58.0\n",
       "0.0      43.368627   125.0\n",
       "0.0      43.368627    50.0\n",
       "0.0      43.368627    70.0"
      ]
     },
     "execution_count": 71,
     "metadata": {},
     "output_type": "execute_result"
    }
   ],
   "source": [
    "y_and_cluster_means.head()"
   ]
  },
  {
   "cell_type": "code",
   "execution_count": 72,
   "metadata": {
    "extensions": {
     "jupyter_dashboards": {
      "version": 1,
      "views": {
       "grid_default": {
        "col": 8,
        "height": 4,
        "hidden": false,
        "row": 124,
        "width": 4
       },
       "report_default": {
        "hidden": false
       }
      }
     }
    }
   },
   "outputs": [
    {
     "data": {
      "text/plain": [
       "0.05059709992647976"
      ]
     },
     "execution_count": 72,
     "metadata": {},
     "output_type": "execute_result"
    }
   ],
   "source": [
    "r2_score(y_and_cluster_means.rate_y, y_and_cluster_means.rate_x)"
   ]
  },
  {
   "cell_type": "code",
   "execution_count": 73,
   "metadata": {
    "extensions": {
     "jupyter_dashboards": {
      "version": 1,
      "views": {
       "grid_default": {
        "col": 4,
        "height": 4,
        "hidden": false,
        "row": 127,
        "width": 4
       },
       "report_default": {
        "hidden": false
       }
      }
     }
    }
   },
   "outputs": [
    {
     "data": {
      "text/plain": [
       "0.9893490214071363"
      ]
     },
     "execution_count": 73,
     "metadata": {},
     "output_type": "execute_result"
    }
   ],
   "source": [
    "std - np.sqrt(mean_squared_error(y_and_cluster_means.rate_y, y_and_cluster_means.rate_x))"
   ]
  },
  {
   "cell_type": "markdown",
   "metadata": {
    "extensions": {
     "jupyter_dashboards": {
      "version": 1,
      "views": {
       "grid_default": {
        "col": 8,
        "height": 4,
        "hidden": false,
        "row": 128,
        "width": 4
       },
       "report_default": {
        "hidden": true
       }
      }
     }
    }
   },
   "source": [
    "### Making the predictor matrix (more feature engineering)"
   ]
  },
  {
   "cell_type": "code",
   "execution_count": 74,
   "metadata": {
    "extensions": {
     "jupyter_dashboards": {
      "version": 1,
      "views": {
       "grid_default": {
        "hidden": true
       },
       "report_default": {
        "hidden": true
       }
      }
     }
    }
   },
   "outputs": [],
   "source": [
    "X = df.drop(['rate'], axis = 1)"
   ]
  },
  {
   "cell_type": "code",
   "execution_count": 75,
   "metadata": {
    "extensions": {
     "jupyter_dashboards": {
      "version": 1,
      "views": {
       "grid_default": {
        "hidden": true
       },
       "report_default": {
        "hidden": true
       }
      }
     }
    }
   },
   "outputs": [],
   "source": [
    "X.skills = X.skills.map(lambda li: len(li))"
   ]
  },
  {
   "cell_type": "code",
   "execution_count": 76,
   "metadata": {
    "extensions": {
     "jupyter_dashboards": {
      "version": 1,
      "views": {
       "grid_default": {
        "hidden": true
       },
       "report_default": {
        "hidden": true
       }
      }
     }
    }
   },
   "outputs": [],
   "source": [
    "fn = lambda row: len(row.headline) # define a function for the new column\n",
    "X = X.assign(head_len = X.apply(fn, axis=1).values)"
   ]
  },
  {
   "cell_type": "code",
   "execution_count": 77,
   "metadata": {
    "extensions": {
     "jupyter_dashboards": {
      "version": 1,
      "views": {
       "grid_default": {
        "hidden": true
       },
       "report_default": {
        "hidden": true
       }
      }
     }
    }
   },
   "outputs": [],
   "source": [
    "fn = lambda row: len(row.headline) // len(row.headline.split(' '))\n",
    "X = X.assign(hd_wrd_len = X.apply(fn, axis=1).values)"
   ]
  },
  {
   "cell_type": "code",
   "execution_count": 78,
   "metadata": {
    "extensions": {
     "jupyter_dashboards": {
      "version": 1,
      "views": {
       "grid_default": {
        "hidden": true
       },
       "report_default": {
        "hidden": true
       }
      }
     }
    }
   },
   "outputs": [],
   "source": [
    "fn = lambda row: len(row.bio)\n",
    "X = X.assign(bio_len = X.apply(fn, axis=1).values)"
   ]
  },
  {
   "cell_type": "code",
   "execution_count": 79,
   "metadata": {
    "extensions": {
     "jupyter_dashboards": {
      "version": 1,
      "views": {
       "grid_default": {
        "hidden": true
       },
       "report_default": {
        "hidden": true
       }
      }
     }
    }
   },
   "outputs": [],
   "source": [
    "fn = lambda row: len(row.bio) // len(row.bio.split(' ')) \n",
    "X = X.assign(bio_wrd_len = X.apply(fn, axis=1).values)"
   ]
  },
  {
   "cell_type": "code",
   "execution_count": 80,
   "metadata": {
    "extensions": {
     "jupyter_dashboards": {
      "version": 1,
      "views": {
       "grid_default": {
        "col": 0,
        "height": 15,
        "hidden": false,
        "row": 132,
        "width": 9
       },
       "report_default": {
        "hidden": true
       }
      }
     }
    }
   },
   "outputs": [
    {
     "data": {
      "text/html": [
       "<div>\n",
       "<style scoped>\n",
       "    .dataframe tbody tr th:only-of-type {\n",
       "        vertical-align: middle;\n",
       "    }\n",
       "\n",
       "    .dataframe tbody tr th {\n",
       "        vertical-align: top;\n",
       "    }\n",
       "\n",
       "    .dataframe thead th {\n",
       "        text-align: right;\n",
       "    }\n",
       "</style>\n",
       "<table border=\"1\" class=\"dataframe\">\n",
       "  <thead>\n",
       "    <tr style=\"text-align: right;\">\n",
       "      <th></th>\n",
       "      <th>bio</th>\n",
       "      <th>earned</th>\n",
       "      <th>edu</th>\n",
       "      <th>exp</th>\n",
       "      <th>headline</th>\n",
       "      <th>hours</th>\n",
       "      <th>jobs</th>\n",
       "      <th>skills</th>\n",
       "      <th>tests</th>\n",
       "      <th>head_len</th>\n",
       "      <th>hd_wrd_len</th>\n",
       "      <th>bio_len</th>\n",
       "      <th>bio_wrd_len</th>\n",
       "    </tr>\n",
       "  </thead>\n",
       "  <tbody>\n",
       "    <tr>\n",
       "      <th>0</th>\n",
       "      <td>Google Adwords &amp; Bing Ads Certified MBA market...</td>\n",
       "      <td>$200k+</td>\n",
       "      <td>3</td>\n",
       "      <td>8</td>\n",
       "      <td>Marketing, Strategic Mgmt/Writer/SEO, SEM/Mark...</td>\n",
       "      <td>10654</td>\n",
       "      <td>40</td>\n",
       "      <td>8</td>\n",
       "      <td>9</td>\n",
       "      <td>66</td>\n",
       "      <td>11</td>\n",
       "      <td>2608</td>\n",
       "      <td>6</td>\n",
       "    </tr>\n",
       "    <tr>\n",
       "      <th>1</th>\n",
       "      <td>I have been transcribing for more than 7 years...</td>\n",
       "      <td>$10k+</td>\n",
       "      <td>2</td>\n",
       "      <td>1</td>\n",
       "      <td>Transcriptionist</td>\n",
       "      <td>1043</td>\n",
       "      <td>60</td>\n",
       "      <td>2</td>\n",
       "      <td>2</td>\n",
       "      <td>16</td>\n",
       "      <td>16</td>\n",
       "      <td>305</td>\n",
       "      <td>6</td>\n",
       "    </tr>\n",
       "    <tr>\n",
       "      <th>2</th>\n",
       "      <td>Throughout my undergraduate years, I was a res...</td>\n",
       "      <td>$60k+</td>\n",
       "      <td>1</td>\n",
       "      <td>3</td>\n",
       "      <td>Transcription (98WPM), Virtual Assistant</td>\n",
       "      <td>2840</td>\n",
       "      <td>254</td>\n",
       "      <td>10</td>\n",
       "      <td>4</td>\n",
       "      <td>40</td>\n",
       "      <td>10</td>\n",
       "      <td>430</td>\n",
       "      <td>6</td>\n",
       "    </tr>\n",
       "    <tr>\n",
       "      <th>3</th>\n",
       "      <td>As a digital marketing professional with a foc...</td>\n",
       "      <td>$30k+</td>\n",
       "      <td>2</td>\n",
       "      <td>2</td>\n",
       "      <td>Full-Stack Digital Marketer | Facebook Ads Spe...</td>\n",
       "      <td>673</td>\n",
       "      <td>21</td>\n",
       "      <td>5</td>\n",
       "      <td>4</td>\n",
       "      <td>53</td>\n",
       "      <td>7</td>\n",
       "      <td>2050</td>\n",
       "      <td>6</td>\n",
       "    </tr>\n",
       "    <tr>\n",
       "      <th>4</th>\n",
       "      <td>WordPress Development + Theme Customization + ...</td>\n",
       "      <td>$40k+</td>\n",
       "      <td>0</td>\n",
       "      <td>1</td>\n",
       "      <td>Turn-Key Responsive Website Design &amp; Development</td>\n",
       "      <td>625</td>\n",
       "      <td>131</td>\n",
       "      <td>6</td>\n",
       "      <td>1</td>\n",
       "      <td>48</td>\n",
       "      <td>8</td>\n",
       "      <td>664</td>\n",
       "      <td>7</td>\n",
       "    </tr>\n",
       "  </tbody>\n",
       "</table>\n",
       "</div>"
      ],
      "text/plain": [
       "                                                 bio  earned  edu  exp  \\\n",
       "0  Google Adwords & Bing Ads Certified MBA market...  $200k+    3    8   \n",
       "1  I have been transcribing for more than 7 years...   $10k+    2    1   \n",
       "2  Throughout my undergraduate years, I was a res...   $60k+    1    3   \n",
       "3  As a digital marketing professional with a foc...   $30k+    2    2   \n",
       "4  WordPress Development + Theme Customization + ...   $40k+    0    1   \n",
       "\n",
       "                                            headline  hours  jobs  skills  \\\n",
       "0  Marketing, Strategic Mgmt/Writer/SEO, SEM/Mark...  10654    40       8   \n",
       "1                                   Transcriptionist   1043    60       2   \n",
       "2           Transcription (98WPM), Virtual Assistant   2840   254      10   \n",
       "3  Full-Stack Digital Marketer | Facebook Ads Spe...    673    21       5   \n",
       "4   Turn-Key Responsive Website Design & Development    625   131       6   \n",
       "\n",
       "   tests  head_len  hd_wrd_len  bio_len  bio_wrd_len  \n",
       "0      9        66          11     2608            6  \n",
       "1      2        16          16      305            6  \n",
       "2      4        40          10      430            6  \n",
       "3      4        53           7     2050            6  \n",
       "4      1        48           8      664            7  "
      ]
     },
     "execution_count": 80,
     "metadata": {},
     "output_type": "execute_result"
    }
   ],
   "source": [
    "X.head()"
   ]
  },
  {
   "cell_type": "code",
   "execution_count": 81,
   "metadata": {
    "extensions": {
     "jupyter_dashboards": {
      "version": 1,
      "views": {
       "grid_default": {
        "hidden": true
       },
       "report_default": {
        "hidden": true
       }
      }
     }
    }
   },
   "outputs": [],
   "source": [
    "X = X.drop(['bio', 'earned', 'headline',], axis = 1)"
   ]
  },
  {
   "cell_type": "code",
   "execution_count": 82,
   "metadata": {
    "extensions": {
     "jupyter_dashboards": {
      "version": 1,
      "views": {
       "grid_default": {
        "col": 0,
        "height": 7,
        "hidden": false,
        "row": 147,
        "width": 6
       },
       "report_default": {
        "hidden": true
       }
      }
     }
    }
   },
   "outputs": [
    {
     "data": {
      "text/html": [
       "<div>\n",
       "<style scoped>\n",
       "    .dataframe tbody tr th:only-of-type {\n",
       "        vertical-align: middle;\n",
       "    }\n",
       "\n",
       "    .dataframe tbody tr th {\n",
       "        vertical-align: top;\n",
       "    }\n",
       "\n",
       "    .dataframe thead th {\n",
       "        text-align: right;\n",
       "    }\n",
       "</style>\n",
       "<table border=\"1\" class=\"dataframe\">\n",
       "  <thead>\n",
       "    <tr style=\"text-align: right;\">\n",
       "      <th></th>\n",
       "      <th>edu</th>\n",
       "      <th>exp</th>\n",
       "      <th>hours</th>\n",
       "      <th>jobs</th>\n",
       "      <th>skills</th>\n",
       "      <th>tests</th>\n",
       "      <th>head_len</th>\n",
       "      <th>hd_wrd_len</th>\n",
       "      <th>bio_len</th>\n",
       "      <th>bio_wrd_len</th>\n",
       "    </tr>\n",
       "  </thead>\n",
       "  <tbody>\n",
       "    <tr>\n",
       "      <th>0</th>\n",
       "      <td>3</td>\n",
       "      <td>8</td>\n",
       "      <td>10654</td>\n",
       "      <td>40</td>\n",
       "      <td>8</td>\n",
       "      <td>9</td>\n",
       "      <td>66</td>\n",
       "      <td>11</td>\n",
       "      <td>2608</td>\n",
       "      <td>6</td>\n",
       "    </tr>\n",
       "    <tr>\n",
       "      <th>1</th>\n",
       "      <td>2</td>\n",
       "      <td>1</td>\n",
       "      <td>1043</td>\n",
       "      <td>60</td>\n",
       "      <td>2</td>\n",
       "      <td>2</td>\n",
       "      <td>16</td>\n",
       "      <td>16</td>\n",
       "      <td>305</td>\n",
       "      <td>6</td>\n",
       "    </tr>\n",
       "    <tr>\n",
       "      <th>2</th>\n",
       "      <td>1</td>\n",
       "      <td>3</td>\n",
       "      <td>2840</td>\n",
       "      <td>254</td>\n",
       "      <td>10</td>\n",
       "      <td>4</td>\n",
       "      <td>40</td>\n",
       "      <td>10</td>\n",
       "      <td>430</td>\n",
       "      <td>6</td>\n",
       "    </tr>\n",
       "    <tr>\n",
       "      <th>3</th>\n",
       "      <td>2</td>\n",
       "      <td>2</td>\n",
       "      <td>673</td>\n",
       "      <td>21</td>\n",
       "      <td>5</td>\n",
       "      <td>4</td>\n",
       "      <td>53</td>\n",
       "      <td>7</td>\n",
       "      <td>2050</td>\n",
       "      <td>6</td>\n",
       "    </tr>\n",
       "    <tr>\n",
       "      <th>4</th>\n",
       "      <td>0</td>\n",
       "      <td>1</td>\n",
       "      <td>625</td>\n",
       "      <td>131</td>\n",
       "      <td>6</td>\n",
       "      <td>1</td>\n",
       "      <td>48</td>\n",
       "      <td>8</td>\n",
       "      <td>664</td>\n",
       "      <td>7</td>\n",
       "    </tr>\n",
       "  </tbody>\n",
       "</table>\n",
       "</div>"
      ],
      "text/plain": [
       "   edu  exp  hours  jobs  skills  tests  head_len  hd_wrd_len  bio_len  \\\n",
       "0    3    8  10654    40       8      9        66          11     2608   \n",
       "1    2    1   1043    60       2      2        16          16      305   \n",
       "2    1    3   2840   254      10      4        40          10      430   \n",
       "3    2    2    673    21       5      4        53           7     2050   \n",
       "4    0    1    625   131       6      1        48           8      664   \n",
       "\n",
       "   bio_wrd_len  \n",
       "0            6  \n",
       "1            6  \n",
       "2            6  \n",
       "3            6  \n",
       "4            7  "
      ]
     },
     "execution_count": 82,
     "metadata": {},
     "output_type": "execute_result"
    }
   ],
   "source": [
    "X.head()"
   ]
  },
  {
   "cell_type": "code",
   "execution_count": 83,
   "metadata": {
    "extensions": {
     "jupyter_dashboards": {
      "version": 1,
      "views": {
       "grid_default": {
        "col": 6,
        "height": 7,
        "hidden": false,
        "row": 147,
        "width": 4
       },
       "report_default": {
        "hidden": true
       }
      }
     }
    }
   },
   "outputs": [
    {
     "data": {
      "text/plain": [
       "edu            int64\n",
       "exp            int64\n",
       "hours          int64\n",
       "jobs           int64\n",
       "skills         int64\n",
       "tests          int64\n",
       "head_len       int64\n",
       "hd_wrd_len     int64\n",
       "bio_len        int64\n",
       "bio_wrd_len    int64\n",
       "dtype: object"
      ]
     },
     "execution_count": 83,
     "metadata": {},
     "output_type": "execute_result"
    }
   ],
   "source": [
    "X.dtypes"
   ]
  },
  {
   "cell_type": "code",
   "execution_count": 84,
   "metadata": {
    "extensions": {
     "jupyter_dashboards": {
      "version": 1,
      "views": {
       "grid_default": {
        "hidden": true
       },
       "report_default": {
        "hidden": true
       }
      }
     }
    }
   },
   "outputs": [],
   "source": [
    "clust = pd.Series(clust_assigned)"
   ]
  },
  {
   "cell_type": "code",
   "execution_count": 85,
   "metadata": {
    "extensions": {
     "jupyter_dashboards": {
      "version": 1,
      "views": {
       "grid_default": {
        "col": 0,
        "height": 4,
        "hidden": false,
        "row": 154,
        "width": 4
       },
       "report_default": {
        "hidden": true
       }
      }
     }
    }
   },
   "outputs": [
    {
     "data": {
      "text/plain": [
       "(2735,)"
      ]
     },
     "execution_count": 85,
     "metadata": {},
     "output_type": "execute_result"
    }
   ],
   "source": [
    "clust.shape"
   ]
  },
  {
   "cell_type": "code",
   "execution_count": 86,
   "metadata": {
    "extensions": {
     "jupyter_dashboards": {
      "version": 1,
      "views": {
       "grid_default": {
        "hidden": true
       },
       "report_default": {
        "hidden": true
       }
      }
     }
    }
   },
   "outputs": [],
   "source": [
    "# clust = clust.reset_index(drop = True)"
   ]
  },
  {
   "cell_type": "code",
   "execution_count": 87,
   "metadata": {
    "extensions": {
     "jupyter_dashboards": {
      "version": 1,
      "views": {
       "grid_default": {
        "hidden": true
       },
       "report_default": {
        "hidden": true
       }
      }
     }
    }
   },
   "outputs": [],
   "source": [
    "# X = X.reset_index(drop = True)"
   ]
  },
  {
   "cell_type": "code",
   "execution_count": 88,
   "metadata": {
    "extensions": {
     "jupyter_dashboards": {
      "version": 1,
      "views": {
       "grid_default": {
        "hidden": true
       },
       "report_default": {
        "hidden": true
       }
      }
     }
    }
   },
   "outputs": [],
   "source": [
    "result = pd.concat([X, clust], axis = 1, sort = False)"
   ]
  },
  {
   "cell_type": "code",
   "execution_count": 89,
   "metadata": {
    "extensions": {
     "jupyter_dashboards": {
      "version": 1,
      "views": {
       "grid_default": {
        "hidden": true
       },
       "report_default": {
        "hidden": true
       }
      }
     }
    }
   },
   "outputs": [],
   "source": [
    "result.rename(columns={0: 'cluster'}, inplace=True)"
   ]
  },
  {
   "cell_type": "code",
   "execution_count": 90,
   "metadata": {
    "extensions": {
     "jupyter_dashboards": {
      "version": 1,
      "views": {
       "grid_default": {
        "col": 4,
        "height": 7,
        "hidden": false,
        "row": 154,
        "width": 7
       },
       "report_default": {
        "hidden": true
       }
      }
     }
    }
   },
   "outputs": [
    {
     "data": {
      "text/html": [
       "<div>\n",
       "<style scoped>\n",
       "    .dataframe tbody tr th:only-of-type {\n",
       "        vertical-align: middle;\n",
       "    }\n",
       "\n",
       "    .dataframe tbody tr th {\n",
       "        vertical-align: top;\n",
       "    }\n",
       "\n",
       "    .dataframe thead th {\n",
       "        text-align: right;\n",
       "    }\n",
       "</style>\n",
       "<table border=\"1\" class=\"dataframe\">\n",
       "  <thead>\n",
       "    <tr style=\"text-align: right;\">\n",
       "      <th></th>\n",
       "      <th>edu</th>\n",
       "      <th>exp</th>\n",
       "      <th>hours</th>\n",
       "      <th>jobs</th>\n",
       "      <th>skills</th>\n",
       "      <th>tests</th>\n",
       "      <th>head_len</th>\n",
       "      <th>hd_wrd_len</th>\n",
       "      <th>bio_len</th>\n",
       "      <th>bio_wrd_len</th>\n",
       "      <th>cluster</th>\n",
       "    </tr>\n",
       "  </thead>\n",
       "  <tbody>\n",
       "    <tr>\n",
       "      <th>0</th>\n",
       "      <td>3</td>\n",
       "      <td>8</td>\n",
       "      <td>10654</td>\n",
       "      <td>40</td>\n",
       "      <td>8</td>\n",
       "      <td>9</td>\n",
       "      <td>66</td>\n",
       "      <td>11</td>\n",
       "      <td>2608</td>\n",
       "      <td>6</td>\n",
       "      <td>1</td>\n",
       "    </tr>\n",
       "    <tr>\n",
       "      <th>1</th>\n",
       "      <td>2</td>\n",
       "      <td>1</td>\n",
       "      <td>1043</td>\n",
       "      <td>60</td>\n",
       "      <td>2</td>\n",
       "      <td>2</td>\n",
       "      <td>16</td>\n",
       "      <td>16</td>\n",
       "      <td>305</td>\n",
       "      <td>6</td>\n",
       "      <td>1</td>\n",
       "    </tr>\n",
       "    <tr>\n",
       "      <th>2</th>\n",
       "      <td>1</td>\n",
       "      <td>3</td>\n",
       "      <td>2840</td>\n",
       "      <td>254</td>\n",
       "      <td>10</td>\n",
       "      <td>4</td>\n",
       "      <td>40</td>\n",
       "      <td>10</td>\n",
       "      <td>430</td>\n",
       "      <td>6</td>\n",
       "      <td>3</td>\n",
       "    </tr>\n",
       "    <tr>\n",
       "      <th>3</th>\n",
       "      <td>2</td>\n",
       "      <td>2</td>\n",
       "      <td>673</td>\n",
       "      <td>21</td>\n",
       "      <td>5</td>\n",
       "      <td>4</td>\n",
       "      <td>53</td>\n",
       "      <td>7</td>\n",
       "      <td>2050</td>\n",
       "      <td>6</td>\n",
       "      <td>5</td>\n",
       "    </tr>\n",
       "    <tr>\n",
       "      <th>4</th>\n",
       "      <td>0</td>\n",
       "      <td>1</td>\n",
       "      <td>625</td>\n",
       "      <td>131</td>\n",
       "      <td>6</td>\n",
       "      <td>1</td>\n",
       "      <td>48</td>\n",
       "      <td>8</td>\n",
       "      <td>664</td>\n",
       "      <td>7</td>\n",
       "      <td>6</td>\n",
       "    </tr>\n",
       "  </tbody>\n",
       "</table>\n",
       "</div>"
      ],
      "text/plain": [
       "   edu  exp  hours  jobs  skills  tests  head_len  hd_wrd_len  bio_len  \\\n",
       "0    3    8  10654    40       8      9        66          11     2608   \n",
       "1    2    1   1043    60       2      2        16          16      305   \n",
       "2    1    3   2840   254      10      4        40          10      430   \n",
       "3    2    2    673    21       5      4        53           7     2050   \n",
       "4    0    1    625   131       6      1        48           8      664   \n",
       "\n",
       "   bio_wrd_len  cluster  \n",
       "0            6        1  \n",
       "1            6        1  \n",
       "2            6        3  \n",
       "3            6        5  \n",
       "4            7        6  "
      ]
     },
     "execution_count": 90,
     "metadata": {},
     "output_type": "execute_result"
    }
   ],
   "source": [
    "result.head()"
   ]
  },
  {
   "cell_type": "code",
   "execution_count": 91,
   "metadata": {
    "extensions": {
     "jupyter_dashboards": {
      "version": 1,
      "views": {
       "grid_default": {
        "hidden": true
       },
       "report_default": {
        "hidden": true
       }
      }
     }
    }
   },
   "outputs": [],
   "source": [
    "result_dum = pd.get_dummies(result, columns = ['cluster'])"
   ]
  },
  {
   "cell_type": "code",
   "execution_count": 92,
   "metadata": {
    "extensions": {
     "jupyter_dashboards": {
      "version": 1,
      "views": {
       "grid_default": {
        "col": 0,
        "height": 8,
        "hidden": false,
        "row": 161,
        "width": 12
       },
       "report_default": {
        "hidden": true
       }
      }
     }
    }
   },
   "outputs": [
    {
     "data": {
      "text/html": [
       "<div>\n",
       "<style scoped>\n",
       "    .dataframe tbody tr th:only-of-type {\n",
       "        vertical-align: middle;\n",
       "    }\n",
       "\n",
       "    .dataframe tbody tr th {\n",
       "        vertical-align: top;\n",
       "    }\n",
       "\n",
       "    .dataframe thead th {\n",
       "        text-align: right;\n",
       "    }\n",
       "</style>\n",
       "<table border=\"1\" class=\"dataframe\">\n",
       "  <thead>\n",
       "    <tr style=\"text-align: right;\">\n",
       "      <th></th>\n",
       "      <th>edu</th>\n",
       "      <th>exp</th>\n",
       "      <th>hours</th>\n",
       "      <th>jobs</th>\n",
       "      <th>skills</th>\n",
       "      <th>tests</th>\n",
       "      <th>head_len</th>\n",
       "      <th>hd_wrd_len</th>\n",
       "      <th>bio_len</th>\n",
       "      <th>bio_wrd_len</th>\n",
       "      <th>...</th>\n",
       "      <th>cluster_5</th>\n",
       "      <th>cluster_6</th>\n",
       "      <th>cluster_7</th>\n",
       "      <th>cluster_8</th>\n",
       "      <th>cluster_9</th>\n",
       "      <th>cluster_10</th>\n",
       "      <th>cluster_11</th>\n",
       "      <th>cluster_12</th>\n",
       "      <th>cluster_13</th>\n",
       "      <th>cluster_14</th>\n",
       "    </tr>\n",
       "  </thead>\n",
       "  <tbody>\n",
       "    <tr>\n",
       "      <th>0</th>\n",
       "      <td>3</td>\n",
       "      <td>8</td>\n",
       "      <td>10654</td>\n",
       "      <td>40</td>\n",
       "      <td>8</td>\n",
       "      <td>9</td>\n",
       "      <td>66</td>\n",
       "      <td>11</td>\n",
       "      <td>2608</td>\n",
       "      <td>6</td>\n",
       "      <td>...</td>\n",
       "      <td>0</td>\n",
       "      <td>0</td>\n",
       "      <td>0</td>\n",
       "      <td>0</td>\n",
       "      <td>0</td>\n",
       "      <td>0</td>\n",
       "      <td>0</td>\n",
       "      <td>0</td>\n",
       "      <td>0</td>\n",
       "      <td>0</td>\n",
       "    </tr>\n",
       "    <tr>\n",
       "      <th>1</th>\n",
       "      <td>2</td>\n",
       "      <td>1</td>\n",
       "      <td>1043</td>\n",
       "      <td>60</td>\n",
       "      <td>2</td>\n",
       "      <td>2</td>\n",
       "      <td>16</td>\n",
       "      <td>16</td>\n",
       "      <td>305</td>\n",
       "      <td>6</td>\n",
       "      <td>...</td>\n",
       "      <td>0</td>\n",
       "      <td>0</td>\n",
       "      <td>0</td>\n",
       "      <td>0</td>\n",
       "      <td>0</td>\n",
       "      <td>0</td>\n",
       "      <td>0</td>\n",
       "      <td>0</td>\n",
       "      <td>0</td>\n",
       "      <td>0</td>\n",
       "    </tr>\n",
       "    <tr>\n",
       "      <th>2</th>\n",
       "      <td>1</td>\n",
       "      <td>3</td>\n",
       "      <td>2840</td>\n",
       "      <td>254</td>\n",
       "      <td>10</td>\n",
       "      <td>4</td>\n",
       "      <td>40</td>\n",
       "      <td>10</td>\n",
       "      <td>430</td>\n",
       "      <td>6</td>\n",
       "      <td>...</td>\n",
       "      <td>0</td>\n",
       "      <td>0</td>\n",
       "      <td>0</td>\n",
       "      <td>0</td>\n",
       "      <td>0</td>\n",
       "      <td>0</td>\n",
       "      <td>0</td>\n",
       "      <td>0</td>\n",
       "      <td>0</td>\n",
       "      <td>0</td>\n",
       "    </tr>\n",
       "    <tr>\n",
       "      <th>3</th>\n",
       "      <td>2</td>\n",
       "      <td>2</td>\n",
       "      <td>673</td>\n",
       "      <td>21</td>\n",
       "      <td>5</td>\n",
       "      <td>4</td>\n",
       "      <td>53</td>\n",
       "      <td>7</td>\n",
       "      <td>2050</td>\n",
       "      <td>6</td>\n",
       "      <td>...</td>\n",
       "      <td>1</td>\n",
       "      <td>0</td>\n",
       "      <td>0</td>\n",
       "      <td>0</td>\n",
       "      <td>0</td>\n",
       "      <td>0</td>\n",
       "      <td>0</td>\n",
       "      <td>0</td>\n",
       "      <td>0</td>\n",
       "      <td>0</td>\n",
       "    </tr>\n",
       "    <tr>\n",
       "      <th>4</th>\n",
       "      <td>0</td>\n",
       "      <td>1</td>\n",
       "      <td>625</td>\n",
       "      <td>131</td>\n",
       "      <td>6</td>\n",
       "      <td>1</td>\n",
       "      <td>48</td>\n",
       "      <td>8</td>\n",
       "      <td>664</td>\n",
       "      <td>7</td>\n",
       "      <td>...</td>\n",
       "      <td>0</td>\n",
       "      <td>1</td>\n",
       "      <td>0</td>\n",
       "      <td>0</td>\n",
       "      <td>0</td>\n",
       "      <td>0</td>\n",
       "      <td>0</td>\n",
       "      <td>0</td>\n",
       "      <td>0</td>\n",
       "      <td>0</td>\n",
       "    </tr>\n",
       "  </tbody>\n",
       "</table>\n",
       "<p>5 rows × 25 columns</p>\n",
       "</div>"
      ],
      "text/plain": [
       "   edu  exp  hours  jobs  skills  tests  head_len  hd_wrd_len  bio_len  \\\n",
       "0    3    8  10654    40       8      9        66          11     2608   \n",
       "1    2    1   1043    60       2      2        16          16      305   \n",
       "2    1    3   2840   254      10      4        40          10      430   \n",
       "3    2    2    673    21       5      4        53           7     2050   \n",
       "4    0    1    625   131       6      1        48           8      664   \n",
       "\n",
       "   bio_wrd_len     ...      cluster_5  cluster_6  cluster_7  cluster_8  \\\n",
       "0            6     ...              0          0          0          0   \n",
       "1            6     ...              0          0          0          0   \n",
       "2            6     ...              0          0          0          0   \n",
       "3            6     ...              1          0          0          0   \n",
       "4            7     ...              0          1          0          0   \n",
       "\n",
       "   cluster_9  cluster_10  cluster_11  cluster_12  cluster_13  cluster_14  \n",
       "0          0           0           0           0           0           0  \n",
       "1          0           0           0           0           0           0  \n",
       "2          0           0           0           0           0           0  \n",
       "3          0           0           0           0           0           0  \n",
       "4          0           0           0           0           0           0  \n",
       "\n",
       "[5 rows x 25 columns]"
      ]
     },
     "execution_count": 92,
     "metadata": {},
     "output_type": "execute_result"
    }
   ],
   "source": [
    "result_dum.head()"
   ]
  },
  {
   "cell_type": "code",
   "execution_count": 93,
   "metadata": {
    "extensions": {
     "jupyter_dashboards": {
      "version": 1,
      "views": {
       "grid_default": {
        "col": 0,
        "height": 4,
        "hidden": false,
        "row": 169,
        "width": 4
       },
       "report_default": {
        "hidden": true
       }
      }
     }
    }
   },
   "outputs": [
    {
     "data": {
      "text/plain": [
       "(2735, 25)"
      ]
     },
     "execution_count": 93,
     "metadata": {},
     "output_type": "execute_result"
    }
   ],
   "source": [
    "result_dum.shape"
   ]
  },
  {
   "cell_type": "code",
   "execution_count": 94,
   "metadata": {
    "extensions": {
     "jupyter_dashboards": {
      "version": 1,
      "views": {
       "grid_default": {
        "col": 4,
        "height": 16,
        "hidden": false,
        "row": 169,
        "width": 4
       },
       "report_default": {
        "hidden": true
       }
      }
     }
    }
   },
   "outputs": [
    {
     "data": {
      "text/plain": [
       "edu            0\n",
       "exp            0\n",
       "hours          0\n",
       "jobs           0\n",
       "skills         0\n",
       "tests          0\n",
       "head_len       0\n",
       "hd_wrd_len     0\n",
       "bio_len        0\n",
       "bio_wrd_len    0\n",
       "cluster_0      0\n",
       "cluster_1      0\n",
       "cluster_2      0\n",
       "cluster_3      0\n",
       "cluster_4      0\n",
       "cluster_5      0\n",
       "cluster_6      0\n",
       "cluster_7      0\n",
       "cluster_8      0\n",
       "cluster_9      0\n",
       "cluster_10     0\n",
       "cluster_11     0\n",
       "cluster_12     0\n",
       "cluster_13     0\n",
       "cluster_14     0\n",
       "dtype: int64"
      ]
     },
     "execution_count": 94,
     "metadata": {},
     "output_type": "execute_result"
    }
   ],
   "source": [
    "result_dum.isna().sum()"
   ]
  },
  {
   "cell_type": "markdown",
   "metadata": {
    "extensions": {
     "jupyter_dashboards": {
      "version": 1,
      "views": {
       "grid_default": {
        "col": 8,
        "height": 4,
        "hidden": false,
        "row": 169,
        "width": 4
       },
       "report_default": {
        "hidden": true
       }
      }
     }
    }
   },
   "source": [
    "### Normalizing the predictor variables"
   ]
  },
  {
   "cell_type": "code",
   "execution_count": 95,
   "metadata": {
    "extensions": {
     "jupyter_dashboards": {
      "version": 1,
      "views": {
       "grid_default": {
        "hidden": true
       },
       "report_default": {
        "hidden": true
       }
      }
     }
    }
   },
   "outputs": [],
   "source": [
    "norm_x = scale(X)"
   ]
  },
  {
   "cell_type": "code",
   "execution_count": 96,
   "metadata": {
    "extensions": {
     "jupyter_dashboards": {
      "version": 1,
      "views": {
       "grid_default": {
        "hidden": true
       },
       "report_default": {
        "hidden": true
       }
      }
     }
    }
   },
   "outputs": [],
   "source": [
    "pca = PCA()\n",
    "nx = pca.fit_transform(norm_x)"
   ]
  },
  {
   "cell_type": "code",
   "execution_count": 97,
   "metadata": {
    "extensions": {
     "jupyter_dashboards": {
      "version": 1,
      "views": {
       "grid_default": {
        "col": 0,
        "height": 4,
        "hidden": false,
        "row": 173,
        "width": 4
       },
       "report_default": {
        "hidden": true
       }
      }
     }
    }
   },
   "outputs": [
    {
     "data": {
      "text/plain": [
       "array([1.81303002, 1.22582857, 1.10477938, 1.01006683, 0.98951616,\n",
       "       0.88813037, 0.79751108, 0.76819701, 0.73194161, 0.67465662])"
      ]
     },
     "execution_count": 97,
     "metadata": {},
     "output_type": "execute_result"
    }
   ],
   "source": [
    "pca.explained_variance_"
   ]
  },
  {
   "cell_type": "code",
   "execution_count": 98,
   "metadata": {
    "extensions": {
     "jupyter_dashboards": {
      "version": 1,
      "views": {
       "grid_default": {
        "hidden": true
       },
       "report_default": {
        "hidden": true
       }
      }
     }
    }
   },
   "outputs": [],
   "source": [
    "nx = pd.DataFrame(nx)"
   ]
  },
  {
   "cell_type": "code",
   "execution_count": 99,
   "metadata": {
    "extensions": {
     "jupyter_dashboards": {
      "version": 1,
      "views": {
       "grid_default": {
        "col": 0,
        "height": 7,
        "hidden": false,
        "row": 185,
        "width": 8
       },
       "report_default": {
        "hidden": true
       }
      }
     }
    }
   },
   "outputs": [
    {
     "data": {
      "text/html": [
       "<div>\n",
       "<style scoped>\n",
       "    .dataframe tbody tr th:only-of-type {\n",
       "        vertical-align: middle;\n",
       "    }\n",
       "\n",
       "    .dataframe tbody tr th {\n",
       "        vertical-align: top;\n",
       "    }\n",
       "\n",
       "    .dataframe thead th {\n",
       "        text-align: right;\n",
       "    }\n",
       "</style>\n",
       "<table border=\"1\" class=\"dataframe\">\n",
       "  <thead>\n",
       "    <tr style=\"text-align: right;\">\n",
       "      <th></th>\n",
       "      <th>0</th>\n",
       "      <th>1</th>\n",
       "      <th>2</th>\n",
       "      <th>3</th>\n",
       "      <th>4</th>\n",
       "      <th>5</th>\n",
       "      <th>6</th>\n",
       "      <th>7</th>\n",
       "      <th>8</th>\n",
       "      <th>9</th>\n",
       "    </tr>\n",
       "  </thead>\n",
       "  <tbody>\n",
       "    <tr>\n",
       "      <th>0</th>\n",
       "      <td>4.115624</td>\n",
       "      <td>2.632597</td>\n",
       "      <td>-0.101756</td>\n",
       "      <td>1.316947</td>\n",
       "      <td>-1.653452</td>\n",
       "      <td>0.231310</td>\n",
       "      <td>1.627862</td>\n",
       "      <td>-0.594969</td>\n",
       "      <td>0.095583</td>\n",
       "      <td>0.396956</td>\n",
       "    </tr>\n",
       "    <tr>\n",
       "      <th>1</th>\n",
       "      <td>-1.726502</td>\n",
       "      <td>1.271565</td>\n",
       "      <td>2.402553</td>\n",
       "      <td>1.452574</td>\n",
       "      <td>0.502881</td>\n",
       "      <td>-1.715443</td>\n",
       "      <td>0.858174</td>\n",
       "      <td>0.456867</td>\n",
       "      <td>0.444865</td>\n",
       "      <td>0.489602</td>\n",
       "    </tr>\n",
       "    <tr>\n",
       "      <th>2</th>\n",
       "      <td>0.136515</td>\n",
       "      <td>0.797284</td>\n",
       "      <td>0.162744</td>\n",
       "      <td>0.474670</td>\n",
       "      <td>0.298927</td>\n",
       "      <td>0.099244</td>\n",
       "      <td>-1.225123</td>\n",
       "      <td>-0.269011</td>\n",
       "      <td>-0.047908</td>\n",
       "      <td>0.241261</td>\n",
       "    </tr>\n",
       "    <tr>\n",
       "      <th>3</th>\n",
       "      <td>0.408673</td>\n",
       "      <td>-0.119873</td>\n",
       "      <td>-0.698414</td>\n",
       "      <td>0.013913</td>\n",
       "      <td>-0.101541</td>\n",
       "      <td>-0.898067</td>\n",
       "      <td>1.534765</td>\n",
       "      <td>0.814199</td>\n",
       "      <td>-0.054682</td>\n",
       "      <td>0.056092</td>\n",
       "    </tr>\n",
       "    <tr>\n",
       "      <th>4</th>\n",
       "      <td>-1.341179</td>\n",
       "      <td>-0.293220</td>\n",
       "      <td>-0.635489</td>\n",
       "      <td>0.966307</td>\n",
       "      <td>1.205188</td>\n",
       "      <td>0.312058</td>\n",
       "      <td>-0.050191</td>\n",
       "      <td>0.097328</td>\n",
       "      <td>-0.576039</td>\n",
       "      <td>-0.606702</td>\n",
       "    </tr>\n",
       "  </tbody>\n",
       "</table>\n",
       "</div>"
      ],
      "text/plain": [
       "          0         1         2         3         4         5         6  \\\n",
       "0  4.115624  2.632597 -0.101756  1.316947 -1.653452  0.231310  1.627862   \n",
       "1 -1.726502  1.271565  2.402553  1.452574  0.502881 -1.715443  0.858174   \n",
       "2  0.136515  0.797284  0.162744  0.474670  0.298927  0.099244 -1.225123   \n",
       "3  0.408673 -0.119873 -0.698414  0.013913 -0.101541 -0.898067  1.534765   \n",
       "4 -1.341179 -0.293220 -0.635489  0.966307  1.205188  0.312058 -0.050191   \n",
       "\n",
       "          7         8         9  \n",
       "0 -0.594969  0.095583  0.396956  \n",
       "1  0.456867  0.444865  0.489602  \n",
       "2 -0.269011 -0.047908  0.241261  \n",
       "3  0.814199 -0.054682  0.056092  \n",
       "4  0.097328 -0.576039 -0.606702  "
      ]
     },
     "execution_count": 99,
     "metadata": {},
     "output_type": "execute_result"
    }
   ],
   "source": [
    "nx.head()"
   ]
  },
  {
   "cell_type": "code",
   "execution_count": 100,
   "metadata": {
    "extensions": {
     "jupyter_dashboards": {
      "version": 1,
      "views": {
       "grid_default": {
        "hidden": true
       },
       "report_default": {
        "hidden": true
       }
      }
     }
    }
   },
   "outputs": [],
   "source": [
    "norm_result = pd.concat([nx, clust], axis = 1, sort = False)"
   ]
  },
  {
   "cell_type": "code",
   "execution_count": 101,
   "metadata": {
    "extensions": {
     "jupyter_dashboards": {
      "version": 1,
      "views": {
       "grid_default": {
        "hidden": true
       },
       "report_default": {
        "hidden": true
       }
      }
     }
    }
   },
   "outputs": [],
   "source": [
    "norm_result.columns = result.columns"
   ]
  },
  {
   "cell_type": "code",
   "execution_count": 102,
   "metadata": {
    "extensions": {
     "jupyter_dashboards": {
      "version": 1,
      "views": {
       "grid_default": {
        "col": 0,
        "height": 7,
        "hidden": false,
        "row": 192,
        "width": 9
       },
       "report_default": {
        "hidden": true
       }
      }
     }
    }
   },
   "outputs": [
    {
     "data": {
      "text/html": [
       "<div>\n",
       "<style scoped>\n",
       "    .dataframe tbody tr th:only-of-type {\n",
       "        vertical-align: middle;\n",
       "    }\n",
       "\n",
       "    .dataframe tbody tr th {\n",
       "        vertical-align: top;\n",
       "    }\n",
       "\n",
       "    .dataframe thead th {\n",
       "        text-align: right;\n",
       "    }\n",
       "</style>\n",
       "<table border=\"1\" class=\"dataframe\">\n",
       "  <thead>\n",
       "    <tr style=\"text-align: right;\">\n",
       "      <th></th>\n",
       "      <th>edu</th>\n",
       "      <th>exp</th>\n",
       "      <th>hours</th>\n",
       "      <th>jobs</th>\n",
       "      <th>skills</th>\n",
       "      <th>tests</th>\n",
       "      <th>head_len</th>\n",
       "      <th>hd_wrd_len</th>\n",
       "      <th>bio_len</th>\n",
       "      <th>bio_wrd_len</th>\n",
       "      <th>cluster</th>\n",
       "    </tr>\n",
       "  </thead>\n",
       "  <tbody>\n",
       "    <tr>\n",
       "      <th>0</th>\n",
       "      <td>4.115624</td>\n",
       "      <td>2.632597</td>\n",
       "      <td>-0.101756</td>\n",
       "      <td>1.316947</td>\n",
       "      <td>-1.653452</td>\n",
       "      <td>0.231310</td>\n",
       "      <td>1.627862</td>\n",
       "      <td>-0.594969</td>\n",
       "      <td>0.095583</td>\n",
       "      <td>0.396956</td>\n",
       "      <td>1</td>\n",
       "    </tr>\n",
       "    <tr>\n",
       "      <th>1</th>\n",
       "      <td>-1.726502</td>\n",
       "      <td>1.271565</td>\n",
       "      <td>2.402553</td>\n",
       "      <td>1.452574</td>\n",
       "      <td>0.502881</td>\n",
       "      <td>-1.715443</td>\n",
       "      <td>0.858174</td>\n",
       "      <td>0.456867</td>\n",
       "      <td>0.444865</td>\n",
       "      <td>0.489602</td>\n",
       "      <td>1</td>\n",
       "    </tr>\n",
       "    <tr>\n",
       "      <th>2</th>\n",
       "      <td>0.136515</td>\n",
       "      <td>0.797284</td>\n",
       "      <td>0.162744</td>\n",
       "      <td>0.474670</td>\n",
       "      <td>0.298927</td>\n",
       "      <td>0.099244</td>\n",
       "      <td>-1.225123</td>\n",
       "      <td>-0.269011</td>\n",
       "      <td>-0.047908</td>\n",
       "      <td>0.241261</td>\n",
       "      <td>3</td>\n",
       "    </tr>\n",
       "    <tr>\n",
       "      <th>3</th>\n",
       "      <td>0.408673</td>\n",
       "      <td>-0.119873</td>\n",
       "      <td>-0.698414</td>\n",
       "      <td>0.013913</td>\n",
       "      <td>-0.101541</td>\n",
       "      <td>-0.898067</td>\n",
       "      <td>1.534765</td>\n",
       "      <td>0.814199</td>\n",
       "      <td>-0.054682</td>\n",
       "      <td>0.056092</td>\n",
       "      <td>5</td>\n",
       "    </tr>\n",
       "    <tr>\n",
       "      <th>4</th>\n",
       "      <td>-1.341179</td>\n",
       "      <td>-0.293220</td>\n",
       "      <td>-0.635489</td>\n",
       "      <td>0.966307</td>\n",
       "      <td>1.205188</td>\n",
       "      <td>0.312058</td>\n",
       "      <td>-0.050191</td>\n",
       "      <td>0.097328</td>\n",
       "      <td>-0.576039</td>\n",
       "      <td>-0.606702</td>\n",
       "      <td>6</td>\n",
       "    </tr>\n",
       "  </tbody>\n",
       "</table>\n",
       "</div>"
      ],
      "text/plain": [
       "        edu       exp     hours      jobs    skills     tests  head_len  \\\n",
       "0  4.115624  2.632597 -0.101756  1.316947 -1.653452  0.231310  1.627862   \n",
       "1 -1.726502  1.271565  2.402553  1.452574  0.502881 -1.715443  0.858174   \n",
       "2  0.136515  0.797284  0.162744  0.474670  0.298927  0.099244 -1.225123   \n",
       "3  0.408673 -0.119873 -0.698414  0.013913 -0.101541 -0.898067  1.534765   \n",
       "4 -1.341179 -0.293220 -0.635489  0.966307  1.205188  0.312058 -0.050191   \n",
       "\n",
       "   hd_wrd_len   bio_len  bio_wrd_len  cluster  \n",
       "0   -0.594969  0.095583     0.396956        1  \n",
       "1    0.456867  0.444865     0.489602        1  \n",
       "2   -0.269011 -0.047908     0.241261        3  \n",
       "3    0.814199 -0.054682     0.056092        5  \n",
       "4    0.097328 -0.576039    -0.606702        6  "
      ]
     },
     "execution_count": 102,
     "metadata": {},
     "output_type": "execute_result"
    }
   ],
   "source": [
    "norm_result.head()"
   ]
  },
  {
   "cell_type": "code",
   "execution_count": 103,
   "metadata": {
    "extensions": {
     "jupyter_dashboards": {
      "version": 1,
      "views": {
       "grid_default": {
        "hidden": true
       },
       "report_default": {
        "hidden": true
       }
      }
     }
    }
   },
   "outputs": [],
   "source": [
    "norm_dum = pd.get_dummies(norm_result, columns = ['cluster'])"
   ]
  },
  {
   "cell_type": "code",
   "execution_count": 104,
   "metadata": {
    "extensions": {
     "jupyter_dashboards": {
      "version": 1,
      "views": {
       "grid_default": {
        "col": 0,
        "height": 8,
        "hidden": false,
        "row": 199,
        "width": 12
       },
       "report_default": {
        "hidden": true
       }
      }
     }
    }
   },
   "outputs": [
    {
     "data": {
      "text/html": [
       "<div>\n",
       "<style scoped>\n",
       "    .dataframe tbody tr th:only-of-type {\n",
       "        vertical-align: middle;\n",
       "    }\n",
       "\n",
       "    .dataframe tbody tr th {\n",
       "        vertical-align: top;\n",
       "    }\n",
       "\n",
       "    .dataframe thead th {\n",
       "        text-align: right;\n",
       "    }\n",
       "</style>\n",
       "<table border=\"1\" class=\"dataframe\">\n",
       "  <thead>\n",
       "    <tr style=\"text-align: right;\">\n",
       "      <th></th>\n",
       "      <th>edu</th>\n",
       "      <th>exp</th>\n",
       "      <th>hours</th>\n",
       "      <th>jobs</th>\n",
       "      <th>skills</th>\n",
       "      <th>tests</th>\n",
       "      <th>head_len</th>\n",
       "      <th>hd_wrd_len</th>\n",
       "      <th>bio_len</th>\n",
       "      <th>bio_wrd_len</th>\n",
       "      <th>...</th>\n",
       "      <th>cluster_5</th>\n",
       "      <th>cluster_6</th>\n",
       "      <th>cluster_7</th>\n",
       "      <th>cluster_8</th>\n",
       "      <th>cluster_9</th>\n",
       "      <th>cluster_10</th>\n",
       "      <th>cluster_11</th>\n",
       "      <th>cluster_12</th>\n",
       "      <th>cluster_13</th>\n",
       "      <th>cluster_14</th>\n",
       "    </tr>\n",
       "  </thead>\n",
       "  <tbody>\n",
       "    <tr>\n",
       "      <th>0</th>\n",
       "      <td>4.115624</td>\n",
       "      <td>2.632597</td>\n",
       "      <td>-0.101756</td>\n",
       "      <td>1.316947</td>\n",
       "      <td>-1.653452</td>\n",
       "      <td>0.231310</td>\n",
       "      <td>1.627862</td>\n",
       "      <td>-0.594969</td>\n",
       "      <td>0.095583</td>\n",
       "      <td>0.396956</td>\n",
       "      <td>...</td>\n",
       "      <td>0</td>\n",
       "      <td>0</td>\n",
       "      <td>0</td>\n",
       "      <td>0</td>\n",
       "      <td>0</td>\n",
       "      <td>0</td>\n",
       "      <td>0</td>\n",
       "      <td>0</td>\n",
       "      <td>0</td>\n",
       "      <td>0</td>\n",
       "    </tr>\n",
       "    <tr>\n",
       "      <th>1</th>\n",
       "      <td>-1.726502</td>\n",
       "      <td>1.271565</td>\n",
       "      <td>2.402553</td>\n",
       "      <td>1.452574</td>\n",
       "      <td>0.502881</td>\n",
       "      <td>-1.715443</td>\n",
       "      <td>0.858174</td>\n",
       "      <td>0.456867</td>\n",
       "      <td>0.444865</td>\n",
       "      <td>0.489602</td>\n",
       "      <td>...</td>\n",
       "      <td>0</td>\n",
       "      <td>0</td>\n",
       "      <td>0</td>\n",
       "      <td>0</td>\n",
       "      <td>0</td>\n",
       "      <td>0</td>\n",
       "      <td>0</td>\n",
       "      <td>0</td>\n",
       "      <td>0</td>\n",
       "      <td>0</td>\n",
       "    </tr>\n",
       "    <tr>\n",
       "      <th>2</th>\n",
       "      <td>0.136515</td>\n",
       "      <td>0.797284</td>\n",
       "      <td>0.162744</td>\n",
       "      <td>0.474670</td>\n",
       "      <td>0.298927</td>\n",
       "      <td>0.099244</td>\n",
       "      <td>-1.225123</td>\n",
       "      <td>-0.269011</td>\n",
       "      <td>-0.047908</td>\n",
       "      <td>0.241261</td>\n",
       "      <td>...</td>\n",
       "      <td>0</td>\n",
       "      <td>0</td>\n",
       "      <td>0</td>\n",
       "      <td>0</td>\n",
       "      <td>0</td>\n",
       "      <td>0</td>\n",
       "      <td>0</td>\n",
       "      <td>0</td>\n",
       "      <td>0</td>\n",
       "      <td>0</td>\n",
       "    </tr>\n",
       "    <tr>\n",
       "      <th>3</th>\n",
       "      <td>0.408673</td>\n",
       "      <td>-0.119873</td>\n",
       "      <td>-0.698414</td>\n",
       "      <td>0.013913</td>\n",
       "      <td>-0.101541</td>\n",
       "      <td>-0.898067</td>\n",
       "      <td>1.534765</td>\n",
       "      <td>0.814199</td>\n",
       "      <td>-0.054682</td>\n",
       "      <td>0.056092</td>\n",
       "      <td>...</td>\n",
       "      <td>1</td>\n",
       "      <td>0</td>\n",
       "      <td>0</td>\n",
       "      <td>0</td>\n",
       "      <td>0</td>\n",
       "      <td>0</td>\n",
       "      <td>0</td>\n",
       "      <td>0</td>\n",
       "      <td>0</td>\n",
       "      <td>0</td>\n",
       "    </tr>\n",
       "    <tr>\n",
       "      <th>4</th>\n",
       "      <td>-1.341179</td>\n",
       "      <td>-0.293220</td>\n",
       "      <td>-0.635489</td>\n",
       "      <td>0.966307</td>\n",
       "      <td>1.205188</td>\n",
       "      <td>0.312058</td>\n",
       "      <td>-0.050191</td>\n",
       "      <td>0.097328</td>\n",
       "      <td>-0.576039</td>\n",
       "      <td>-0.606702</td>\n",
       "      <td>...</td>\n",
       "      <td>0</td>\n",
       "      <td>1</td>\n",
       "      <td>0</td>\n",
       "      <td>0</td>\n",
       "      <td>0</td>\n",
       "      <td>0</td>\n",
       "      <td>0</td>\n",
       "      <td>0</td>\n",
       "      <td>0</td>\n",
       "      <td>0</td>\n",
       "    </tr>\n",
       "  </tbody>\n",
       "</table>\n",
       "<p>5 rows × 25 columns</p>\n",
       "</div>"
      ],
      "text/plain": [
       "        edu       exp     hours      jobs    skills     tests  head_len  \\\n",
       "0  4.115624  2.632597 -0.101756  1.316947 -1.653452  0.231310  1.627862   \n",
       "1 -1.726502  1.271565  2.402553  1.452574  0.502881 -1.715443  0.858174   \n",
       "2  0.136515  0.797284  0.162744  0.474670  0.298927  0.099244 -1.225123   \n",
       "3  0.408673 -0.119873 -0.698414  0.013913 -0.101541 -0.898067  1.534765   \n",
       "4 -1.341179 -0.293220 -0.635489  0.966307  1.205188  0.312058 -0.050191   \n",
       "\n",
       "   hd_wrd_len   bio_len  bio_wrd_len     ...      cluster_5  cluster_6  \\\n",
       "0   -0.594969  0.095583     0.396956     ...              0          0   \n",
       "1    0.456867  0.444865     0.489602     ...              0          0   \n",
       "2   -0.269011 -0.047908     0.241261     ...              0          0   \n",
       "3    0.814199 -0.054682     0.056092     ...              1          0   \n",
       "4    0.097328 -0.576039    -0.606702     ...              0          1   \n",
       "\n",
       "   cluster_7  cluster_8  cluster_9  cluster_10  cluster_11  cluster_12  \\\n",
       "0          0          0          0           0           0           0   \n",
       "1          0          0          0           0           0           0   \n",
       "2          0          0          0           0           0           0   \n",
       "3          0          0          0           0           0           0   \n",
       "4          0          0          0           0           0           0   \n",
       "\n",
       "   cluster_13  cluster_14  \n",
       "0           0           0  \n",
       "1           0           0  \n",
       "2           0           0  \n",
       "3           0           0  \n",
       "4           0           0  \n",
       "\n",
       "[5 rows x 25 columns]"
      ]
     },
     "execution_count": 104,
     "metadata": {},
     "output_type": "execute_result"
    }
   ],
   "source": [
    "norm_dum.head()"
   ]
  },
  {
   "cell_type": "markdown",
   "metadata": {
    "extensions": {
     "jupyter_dashboards": {
      "version": 1,
      "views": {
       "grid_default": {
        "col": 8,
        "height": 4,
        "hidden": false,
        "row": 173,
        "width": 4
       },
       "report_default": {
        "hidden": false
       }
      }
     }
    }
   },
   "source": [
    "### Running the models"
   ]
  },
  {
   "cell_type": "code",
   "execution_count": 105,
   "metadata": {
    "extensions": {
     "jupyter_dashboards": {
      "version": 1,
      "views": {
       "grid_default": {
        "hidden": true
       },
       "report_default": {
        "hidden": false
       }
      }
     }
    }
   },
   "outputs": [],
   "source": [
    "cv = 4"
   ]
  },
  {
   "cell_type": "code",
   "execution_count": 106,
   "metadata": {
    "extensions": {
     "jupyter_dashboards": {
      "version": 1,
      "views": {
       "grid_default": {
        "hidden": true
       },
       "report_default": {
        "hidden": false
       }
      }
     }
    }
   },
   "outputs": [],
   "source": [
    "tr = DecisionTreeRegressor(max_depth = 3)\n",
    "trmodel = tr.fit(result_dum, y)"
   ]
  },
  {
   "cell_type": "code",
   "execution_count": 107,
   "metadata": {
    "extensions": {
     "jupyter_dashboards": {
      "version": 1,
      "views": {
       "grid_default": {
        "col": 0,
        "height": 4,
        "hidden": false,
        "row": 177,
        "width": 4
       },
       "report_default": {
        "hidden": false
       }
      }
     }
    }
   },
   "outputs": [
    {
     "data": {
      "text/plain": [
       "0.10803556074130494"
      ]
     },
     "execution_count": 107,
     "metadata": {},
     "output_type": "execute_result"
    }
   ],
   "source": [
    "trmodel.score(result_dum, y)"
   ]
  },
  {
   "cell_type": "code",
   "execution_count": 108,
   "metadata": {
    "extensions": {
     "jupyter_dashboards": {
      "version": 1,
      "views": {
       "grid_default": {
        "col": 8,
        "height": 4,
        "hidden": false,
        "row": 177,
        "width": 4
       },
       "report_default": {
        "hidden": false
       }
      }
     }
    }
   },
   "outputs": [
    {
     "data": {
      "text/plain": [
       "0.04781576980700783"
      ]
     },
     "execution_count": 108,
     "metadata": {},
     "output_type": "execute_result"
    }
   ],
   "source": [
    "np.mean(cross_val_score(trmodel, result_dum, y, scoring = 'r2', cv = cv))"
   ]
  },
  {
   "cell_type": "code",
   "execution_count": 109,
   "metadata": {
    "extensions": {
     "jupyter_dashboards": {
      "version": 1,
      "views": {
       "grid_default": {
        "col": 0,
        "height": 4,
        "hidden": false,
        "row": 181,
        "width": 4
       },
       "report_default": {
        "hidden": false
       }
      }
     }
    }
   },
   "outputs": [
    {
     "data": {
      "text/plain": [
       "0.5048196805286409"
      ]
     },
     "execution_count": 109,
     "metadata": {},
     "output_type": "execute_result"
    }
   ],
   "source": [
    "std - np.sqrt(-1*np.mean(cross_val_score(trmodel, result_dum, y, scoring = 'neg_mean_squared_error', cv = cv)))"
   ]
  },
  {
   "cell_type": "code",
   "execution_count": 110,
   "metadata": {
    "extensions": {
     "jupyter_dashboards": {
      "version": 1,
      "views": {
       "grid_default": {
        "hidden": true
       },
       "report_default": {
        "hidden": false
       }
      }
     }
    }
   },
   "outputs": [],
   "source": [
    "ntr = DecisionTreeRegressor(max_depth = 3)\n",
    "ntrmodel = tr.fit(norm_dum, y)"
   ]
  },
  {
   "cell_type": "code",
   "execution_count": 111,
   "metadata": {
    "extensions": {
     "jupyter_dashboards": {
      "version": 1,
      "views": {
       "grid_default": {
        "col": 8,
        "height": 4,
        "hidden": false,
        "row": 181,
        "width": 4
       },
       "report_default": {
        "hidden": false
       }
      }
     }
    }
   },
   "outputs": [
    {
     "data": {
      "text/plain": [
       "0.10172459386353096"
      ]
     },
     "execution_count": 111,
     "metadata": {},
     "output_type": "execute_result"
    }
   ],
   "source": [
    "ntrmodel.score(norm_dum, y)"
   ]
  },
  {
   "cell_type": "code",
   "execution_count": 112,
   "metadata": {
    "extensions": {
     "jupyter_dashboards": {
      "version": 1,
      "views": {
       "grid_default": {
        "col": 8,
        "height": 4,
        "hidden": false,
        "row": 185,
        "width": 4
       },
       "report_default": {
        "hidden": false
       }
      }
     }
    }
   },
   "outputs": [
    {
     "data": {
      "text/plain": [
       "-0.015294814036275528"
      ]
     },
     "execution_count": 112,
     "metadata": {},
     "output_type": "execute_result"
    }
   ],
   "source": [
    "np.mean(cross_val_score(ntrmodel, norm_dum, y, scoring = 'r2', cv = cv))"
   ]
  },
  {
   "cell_type": "code",
   "execution_count": 113,
   "metadata": {
    "extensions": {
     "jupyter_dashboards": {
      "version": 1,
      "views": {
       "grid_default": {
        "col": 0,
        "height": 4,
        "hidden": false,
        "row": 207,
        "width": 4
       },
       "report_default": {
        "hidden": false
       }
      }
     }
    }
   },
   "outputs": [
    {
     "data": {
      "text/plain": [
       "-0.28732909694350894"
      ]
     },
     "execution_count": 113,
     "metadata": {},
     "output_type": "execute_result"
    }
   ],
   "source": [
    "std - np.sqrt(-1*np.mean(cross_val_score(ntrmodel, norm_dum, y, scoring = 'neg_mean_squared_error', cv = cv)))"
   ]
  },
  {
   "cell_type": "code",
   "execution_count": null,
   "metadata": {
    "extensions": {
     "jupyter_dashboards": {
      "version": 1,
      "views": {
       "grid_default": {
        "hidden": true
       },
       "report_default": {
        "hidden": false
       }
      }
     }
    }
   },
   "outputs": [],
   "source": []
  },
  {
   "cell_type": "code",
   "execution_count": 114,
   "metadata": {
    "extensions": {
     "jupyter_dashboards": {
      "version": 1,
      "views": {
       "grid_default": {
        "hidden": true
       },
       "report_default": {
        "hidden": false
       }
      }
     }
    }
   },
   "outputs": [],
   "source": [
    "rf = RandomForestRegressor(n_estimators = 500, max_depth = 5)\n",
    "rfmodel = rf.fit(result_dum, y)"
   ]
  },
  {
   "cell_type": "code",
   "execution_count": 115,
   "metadata": {
    "extensions": {
     "jupyter_dashboards": {
      "version": 1,
      "views": {
       "grid_default": {
        "col": 4,
        "height": 4,
        "hidden": false,
        "row": 207,
        "width": 4
       },
       "report_default": {
        "hidden": false
       }
      }
     }
    }
   },
   "outputs": [
    {
     "data": {
      "text/plain": [
       "0.23206180588999015"
      ]
     },
     "execution_count": 115,
     "metadata": {},
     "output_type": "execute_result"
    }
   ],
   "source": [
    "rfmodel.score(result_dum, y)"
   ]
  },
  {
   "cell_type": "code",
   "execution_count": 116,
   "metadata": {
    "extensions": {
     "jupyter_dashboards": {
      "version": 1,
      "views": {
       "grid_default": {
        "col": 8,
        "height": 4,
        "hidden": false,
        "row": 207,
        "width": 4
       },
       "report_default": {
        "hidden": false
       }
      }
     }
    }
   },
   "outputs": [
    {
     "data": {
      "text/plain": [
       "0.088851054297479"
      ]
     },
     "execution_count": 116,
     "metadata": {},
     "output_type": "execute_result"
    }
   ],
   "source": [
    "np.mean(cross_val_score(rfmodel, result_dum, y, scoring = 'r2', cv = cv))"
   ]
  },
  {
   "cell_type": "code",
   "execution_count": 117,
   "metadata": {
    "extensions": {
     "jupyter_dashboards": {
      "version": 1,
      "views": {
       "grid_default": {
        "col": 0,
        "height": 4,
        "hidden": false,
        "row": 211,
        "width": 4
       },
       "report_default": {
        "hidden": false
       }
      }
     }
    }
   },
   "outputs": [
    {
     "data": {
      "text/plain": [
       "1.69895907113699"
      ]
     },
     "execution_count": 117,
     "metadata": {},
     "output_type": "execute_result"
    }
   ],
   "source": [
    "std - np.sqrt(-1*np.mean(cross_val_score(rfmodel, result_dum, y, scoring = 'neg_mean_squared_error', cv = cv)))"
   ]
  },
  {
   "cell_type": "code",
   "execution_count": 118,
   "metadata": {
    "extensions": {
     "jupyter_dashboards": {
      "version": 1,
      "views": {
       "grid_default": {
        "hidden": true
       },
       "report_default": {
        "hidden": false
       }
      }
     }
    }
   },
   "outputs": [],
   "source": [
    "nrf = RandomForestRegressor(n_estimators = 500, max_depth = 5)\n",
    "nrfmodel = rf.fit(norm_dum, y)"
   ]
  },
  {
   "cell_type": "code",
   "execution_count": 119,
   "metadata": {
    "extensions": {
     "jupyter_dashboards": {
      "version": 1,
      "views": {
       "grid_default": {
        "col": 4,
        "height": 4,
        "hidden": false,
        "row": 211,
        "width": 4
       },
       "report_default": {
        "hidden": false
       }
      }
     }
    }
   },
   "outputs": [
    {
     "data": {
      "text/plain": [
       "0.34710111524986564"
      ]
     },
     "execution_count": 119,
     "metadata": {},
     "output_type": "execute_result"
    }
   ],
   "source": [
    "nrfmodel.score(norm_dum, y)"
   ]
  },
  {
   "cell_type": "code",
   "execution_count": 120,
   "metadata": {
    "extensions": {
     "jupyter_dashboards": {
      "version": 1,
      "views": {
       "grid_default": {
        "col": 8,
        "height": 4,
        "hidden": false,
        "row": 211,
        "width": 4
       },
       "report_default": {
        "hidden": false
       }
      }
     }
    }
   },
   "outputs": [
    {
     "data": {
      "text/plain": [
       "0.06538911767601882"
      ]
     },
     "execution_count": 120,
     "metadata": {},
     "output_type": "execute_result"
    }
   ],
   "source": [
    "np.mean(cross_val_score(nrfmodel, norm_dum, y, scoring = 'r2', cv = cv))"
   ]
  },
  {
   "cell_type": "code",
   "execution_count": 121,
   "metadata": {
    "extensions": {
     "jupyter_dashboards": {
      "version": 1,
      "views": {
       "grid_default": {
        "col": 0,
        "height": 4,
        "hidden": false,
        "row": 215,
        "width": 4
       },
       "report_default": {
        "hidden": false
       }
      }
     }
    }
   },
   "outputs": [
    {
     "data": {
      "text/plain": [
       "1.247668390105325"
      ]
     },
     "execution_count": 121,
     "metadata": {},
     "output_type": "execute_result"
    }
   ],
   "source": [
    "std - np.sqrt(-1*np.mean(cross_val_score(nrfmodel, norm_dum, y, scoring = 'neg_mean_squared_error', cv = cv)))"
   ]
  },
  {
   "cell_type": "code",
   "execution_count": 123,
   "metadata": {
    "extensions": {
     "jupyter_dashboards": {
      "version": 1,
      "views": {
       "grid_default": {
        "col": 4,
        "height": 14,
        "hidden": false,
        "row": 215,
        "width": 4
       },
       "report_default": {
        "hidden": false
       }
      }
     }
    }
   },
   "outputs": [
    {
     "name": "stdout",
     "output_type": "stream",
     "text": [
      "[ 1  0  7  9  8  2  4  6 20  3 23  5 11 22 15 13 16 17 14 21 10 24 19 18\n",
      " 12]\n"
     ]
    },
    {
     "data": {
      "image/png": "[encoded data removed]",
      "text/plain": [
       "<Figure size 576x576 with 1 Axes>"
      ]
     },
     "metadata": {},
     "output_type": "display_data"
    }
   ],
   "source": [
    "def plot_feature_importances(model):\n",
    "    importances = model.feature_importances_\n",
    "    std = np.std([tree.feature_importances_ for tree in model.estimators_], axis=0)\n",
    "    indices = np.argsort(importances)[::-1]\n",
    "    print(indices)\n",
    "    n_features = norm_dum.shape[1]\n",
    "    plt.figure(figsize=(8,8))\n",
    "    plt.barh(range(n_features), importances[indices], xerr=std[indices], align='center') \n",
    "    plt.yticks(np.arange(n_features), norm_dum.columns.values[indices]) \n",
    "    plt.xlabel(\"Feature importance\")\n",
    "    plt.ylabel(\"Feature\")\n",
    "\n",
    "plot_feature_importances(rfmodel)"
   ]
  },
  {
   "cell_type": "code",
   "execution_count": null,
   "metadata": {
    "extensions": {
     "jupyter_dashboards": {
      "version": 1,
      "views": {
       "grid_default": {
        "hidden": true
       },
       "report_default": {
        "hidden": false
       }
      }
     }
    }
   },
   "outputs": [],
   "source": []
  },
  {
   "cell_type": "code",
   "execution_count": 124,
   "metadata": {
    "extensions": {
     "jupyter_dashboards": {
      "version": 1,
      "views": {
       "grid_default": {
        "hidden": true
       },
       "report_default": {
        "hidden": false
       }
      }
     }
    }
   },
   "outputs": [],
   "source": [
    "ada = AdaBoostRegressor(n_estimators = 1000, learning_rate = 0.01)\n",
    "adamodel = ada.fit(result_dum, y)"
   ]
  },
  {
   "cell_type": "code",
   "execution_count": 125,
   "metadata": {
    "extensions": {
     "jupyter_dashboards": {
      "version": 1,
      "views": {
       "grid_default": {
        "col": 8,
        "height": 4,
        "hidden": false,
        "row": 215,
        "width": 4
       },
       "report_default": {
        "hidden": false
       }
      }
     }
    }
   },
   "outputs": [
    {
     "data": {
      "text/plain": [
       "0.24280803816577867"
      ]
     },
     "execution_count": 125,
     "metadata": {},
     "output_type": "execute_result"
    }
   ],
   "source": [
    "adamodel.score(result_dum, y)"
   ]
  },
  {
   "cell_type": "code",
   "execution_count": 126,
   "metadata": {
    "extensions": {
     "jupyter_dashboards": {
      "version": 1,
      "views": {
       "grid_default": {
        "col": 0,
        "height": 4,
        "hidden": false,
        "row": 219,
        "width": 4
       },
       "report_default": {
        "hidden": false
       }
      }
     }
    }
   },
   "outputs": [
    {
     "data": {
      "text/plain": [
       "-0.019779170070785668"
      ]
     },
     "execution_count": 126,
     "metadata": {},
     "output_type": "execute_result"
    }
   ],
   "source": [
    "np.mean(cross_val_score(adamodel, result_dum, y, scoring = 'r2', cv = cv))"
   ]
  },
  {
   "cell_type": "code",
   "execution_count": 127,
   "metadata": {
    "extensions": {
     "jupyter_dashboards": {
      "version": 1,
      "views": {
       "grid_default": {
        "col": 8,
        "height": 4,
        "hidden": false,
        "row": 219,
        "width": 4
       },
       "report_default": {
        "hidden": false
       }
      }
     }
    }
   },
   "outputs": [
    {
     "data": {
      "text/plain": [
       "-0.26211774685110356"
      ]
     },
     "execution_count": 127,
     "metadata": {},
     "output_type": "execute_result"
    }
   ],
   "source": [
    "std - np.sqrt(-1*np.mean(cross_val_score(adamodel, result_dum, y, scoring = 'neg_mean_squared_error', cv = cv)))"
   ]
  },
  {
   "cell_type": "code",
   "execution_count": 128,
   "metadata": {
    "extensions": {
     "jupyter_dashboards": {
      "version": 1,
      "views": {
       "grid_default": {
        "hidden": true
       },
       "report_default": {
        "hidden": false
       }
      }
     }
    }
   },
   "outputs": [],
   "source": [
    "nada = AdaBoostRegressor(n_estimators = 1000, learning_rate = 0.01)\n",
    "nadamodel = nada.fit(norm_dum, y)"
   ]
  },
  {
   "cell_type": "code",
   "execution_count": 129,
   "metadata": {
    "extensions": {
     "jupyter_dashboards": {
      "version": 1,
      "views": {
       "grid_default": {
        "col": 0,
        "height": 4,
        "hidden": false,
        "row": 223,
        "width": 4
       },
       "report_default": {
        "hidden": false
       }
      }
     }
    }
   },
   "outputs": [
    {
     "data": {
      "text/plain": [
       "0.3020896285392777"
      ]
     },
     "execution_count": 129,
     "metadata": {},
     "output_type": "execute_result"
    }
   ],
   "source": [
    "nadamodel.score(norm_dum, y)"
   ]
  },
  {
   "cell_type": "code",
   "execution_count": 130,
   "metadata": {
    "extensions": {
     "jupyter_dashboards": {
      "version": 1,
      "views": {
       "grid_default": {
        "col": 8,
        "height": 4,
        "hidden": false,
        "row": 223,
        "width": 4
       },
       "report_default": {
        "hidden": false
       }
      }
     }
    }
   },
   "outputs": [
    {
     "data": {
      "text/plain": [
       "-0.022022555433960145"
      ]
     },
     "execution_count": 130,
     "metadata": {},
     "output_type": "execute_result"
    }
   ],
   "source": [
    "np.mean(cross_val_score(nadamodel, norm_dum, y, scoring = 'r2', cv = cv))"
   ]
  },
  {
   "cell_type": "code",
   "execution_count": 131,
   "metadata": {
    "extensions": {
     "jupyter_dashboards": {
      "version": 1,
      "views": {
       "grid_default": {
        "col": 0,
        "height": 4,
        "hidden": false,
        "row": 227,
        "width": 4
       },
       "report_default": {
        "hidden": false
       }
      }
     }
    }
   },
   "outputs": [
    {
     "data": {
      "text/plain": [
       "-0.41947706023742626"
      ]
     },
     "execution_count": 131,
     "metadata": {},
     "output_type": "execute_result"
    }
   ],
   "source": [
    "std - np.sqrt(-1*np.mean(cross_val_score(nadamodel, norm_dum, y, scoring = 'neg_mean_squared_error', cv = cv)))"
   ]
  },
  {
   "cell_type": "code",
   "execution_count": null,
   "metadata": {
    "extensions": {
     "jupyter_dashboards": {
      "version": 1,
      "views": {
       "grid_default": {
        "hidden": true
       },
       "report_default": {
        "hidden": false
       }
      }
     }
    }
   },
   "outputs": [],
   "source": []
  },
  {
   "cell_type": "code",
   "execution_count": 132,
   "metadata": {
    "extensions": {
     "jupyter_dashboards": {
      "version": 1,
      "views": {
       "grid_default": {
        "hidden": true
       },
       "report_default": {
        "hidden": false
       }
      }
     }
    }
   },
   "outputs": [],
   "source": [
    "parameters = {'metric':('jaccard', 'matching', 'dice', 'kulsinski', 'rogerstanimoto', 'russellrao', \n",
    "                        'sokalmichener', 'sokalsneath'), 'n_neighbors':[2, 10, 25, 50, 100]}"
   ]
  },
  {
   "cell_type": "code",
   "execution_count": 133,
   "metadata": {
    "extensions": {
     "jupyter_dashboards": {
      "version": 1,
      "views": {
       "grid_default": {
        "col": 8,
        "height": 11,
        "hidden": false,
        "row": 227,
        "width": 4
       },
       "report_default": {
        "hidden": false
       }
      }
     }
    }
   },
   "outputs": [
    {
     "data": {
      "text/plain": [
       "GridSearchCV(cv=4, error_score='raise',\n",
       "       estimator=KNeighborsRegressor(algorithm='auto', leaf_size=30, metric='minkowski',\n",
       "          metric_params=None, n_jobs=1, n_neighbors=5, p=2,\n",
       "          weights='uniform'),\n",
       "       fit_params=None, iid=True, n_jobs=1,\n",
       "       param_grid={'metric': ('jaccard', 'matching', 'dice', 'kulsinski', 'rogerstanimoto', 'russellrao', 'sokalmichener', 'sokalsneath'), 'n_neighbors': [2, 10, 25, 50, 100]},\n",
       "       pre_dispatch='2*n_jobs', refit=True, return_train_score='warn',\n",
       "       scoring='neg_mean_squared_error', verbose=0)"
      ]
     },
     "execution_count": 133,
     "metadata": {},
     "output_type": "execute_result"
    }
   ],
   "source": [
    "neigh = KNeighborsRegressor()\n",
    "reg = GridSearchCV(neigh, parameters, cv = cv, scoring = 'neg_mean_squared_error')\n",
    "reg.fit(result_dum, y) "
   ]
  },
  {
   "cell_type": "code",
   "execution_count": 134,
   "metadata": {
    "extensions": {
     "jupyter_dashboards": {
      "version": 1,
      "views": {
       "grid_default": {
        "hidden": true
       },
       "report_default": {
        "hidden": false
       }
      }
     }
    }
   },
   "outputs": [],
   "source": [
    "bestknn = reg.best_params_"
   ]
  },
  {
   "cell_type": "code",
   "execution_count": 135,
   "metadata": {
    "extensions": {
     "jupyter_dashboards": {
      "version": 1,
      "views": {
       "grid_default": {
        "col": 4,
        "height": 4,
        "hidden": false,
        "row": 229,
        "width": 4
       },
       "report_default": {
        "hidden": false
       }
      }
     }
    }
   },
   "outputs": [
    {
     "data": {
      "text/plain": [
       "{'metric': 'kulsinski', 'n_neighbors': 50}"
      ]
     },
     "execution_count": 135,
     "metadata": {},
     "output_type": "execute_result"
    }
   ],
   "source": [
    "bestknn"
   ]
  },
  {
   "cell_type": "code",
   "execution_count": 136,
   "metadata": {
    "extensions": {
     "jupyter_dashboards": {
      "version": 1,
      "views": {
       "grid_default": {
        "col": 0,
        "height": 4,
        "hidden": false,
        "row": 231,
        "width": 4
       },
       "report_default": {
        "hidden": false
       }
      }
     }
    }
   },
   "outputs": [
    {
     "data": {
      "text/plain": [
       "0.6994420212102028"
      ]
     },
     "execution_count": 136,
     "metadata": {},
     "output_type": "execute_result"
    }
   ],
   "source": [
    "knnbest = KNeighborsRegressor(n_neighbors = bestknn['n_neighbors'], metric = bestknn['metric'])\n",
    "std - np.sqrt(-1*np.mean(cross_val_score(knnbest, result_dum, y, scoring = 'neg_mean_squared_error', cv = cv)))"
   ]
  },
  {
   "cell_type": "code",
   "execution_count": 137,
   "metadata": {
    "extensions": {
     "jupyter_dashboards": {
      "version": 1,
      "views": {
       "grid_default": {
        "col": 4,
        "height": 4,
        "hidden": false,
        "row": 233,
        "width": 4
       },
       "report_default": {
        "hidden": false
       }
      }
     }
    }
   },
   "outputs": [
    {
     "data": {
      "text/plain": [
       "0.03684685450233899"
      ]
     },
     "execution_count": 137,
     "metadata": {},
     "output_type": "execute_result"
    }
   ],
   "source": [
    "np.mean(cross_val_score(knnbest, result_dum, y, scoring = 'r2', cv = cv))"
   ]
  },
  {
   "cell_type": "code",
   "execution_count": 138,
   "metadata": {
    "extensions": {
     "jupyter_dashboards": {
      "version": 1,
      "views": {
       "grid_default": {
        "col": 0,
        "height": 11,
        "hidden": false,
        "row": 235,
        "width": 4
       },
       "report_default": {
        "hidden": false
       }
      }
     }
    }
   },
   "outputs": [
    {
     "data": {
      "text/plain": [
       "GridSearchCV(cv=4, error_score='raise',\n",
       "       estimator=KNeighborsRegressor(algorithm='auto', leaf_size=30, metric='minkowski',\n",
       "          metric_params=None, n_jobs=1, n_neighbors=5, p=2,\n",
       "          weights='uniform'),\n",
       "       fit_params=None, iid=True, n_jobs=1,\n",
       "       param_grid={'metric': ('jaccard', 'matching', 'dice', 'kulsinski', 'rogerstanimoto', 'russellrao', 'sokalmichener', 'sokalsneath'), 'n_neighbors': [2, 10, 25, 50, 100]},\n",
       "       pre_dispatch='2*n_jobs', refit=True, return_train_score='warn',\n",
       "       scoring='neg_mean_squared_error', verbose=0)"
      ]
     },
     "execution_count": 138,
     "metadata": {},
     "output_type": "execute_result"
    }
   ],
   "source": [
    "nneigh = KNeighborsRegressor()\n",
    "nreg = GridSearchCV(nneigh, parameters, cv = cv, scoring = 'neg_mean_squared_error')\n",
    "nreg.fit(norm_dum, y) "
   ]
  },
  {
   "cell_type": "code",
   "execution_count": 139,
   "metadata": {
    "extensions": {
     "jupyter_dashboards": {
      "version": 1,
      "views": {
       "grid_default": {
        "hidden": true
       },
       "report_default": {
        "hidden": false
       }
      }
     }
    }
   },
   "outputs": [],
   "source": [
    "nbestknn = nreg.best_params_"
   ]
  },
  {
   "cell_type": "code",
   "execution_count": 140,
   "metadata": {
    "extensions": {
     "jupyter_dashboards": {
      "version": 1,
      "views": {
       "grid_default": {
        "col": 4,
        "height": 4,
        "hidden": false,
        "row": 237,
        "width": 4
       },
       "report_default": {
        "hidden": false
       }
      }
     }
    }
   },
   "outputs": [
    {
     "data": {
      "text/plain": [
       "{'metric': 'jaccard', 'n_neighbors': 100}"
      ]
     },
     "execution_count": 140,
     "metadata": {},
     "output_type": "execute_result"
    }
   ],
   "source": [
    "nbestknn"
   ]
  },
  {
   "cell_type": "code",
   "execution_count": 141,
   "metadata": {
    "extensions": {
     "jupyter_dashboards": {
      "version": 1,
      "views": {
       "grid_default": {
        "col": 8,
        "height": 4,
        "hidden": false,
        "row": 238,
        "width": 4
       },
       "report_default": {
        "hidden": false
       }
      }
     }
    }
   },
   "outputs": [
    {
     "data": {
      "text/plain": [
       "0.4833598775676933"
      ]
     },
     "execution_count": 141,
     "metadata": {},
     "output_type": "execute_result"
    }
   ],
   "source": [
    "nknnbest = KNeighborsRegressor(n_neighbors = nbestknn['n_neighbors'], metric = nbestknn['metric'])\n",
    "std - np.sqrt(-1*np.mean(cross_val_score(nknnbest, norm_dum, y, scoring = 'neg_mean_squared_error', cv = cv)))"
   ]
  },
  {
   "cell_type": "code",
   "execution_count": 142,
   "metadata": {
    "extensions": {
     "jupyter_dashboards": {
      "version": 1,
      "views": {
       "grid_default": {
        "col": 4,
        "height": 4,
        "hidden": false,
        "row": 241,
        "width": 4
       },
       "report_default": {
        "hidden": false
       }
      }
     }
    }
   },
   "outputs": [
    {
     "data": {
      "text/plain": [
       "0.03684685450233899"
      ]
     },
     "execution_count": 142,
     "metadata": {},
     "output_type": "execute_result"
    }
   ],
   "source": [
    "np.mean(cross_val_score(knnbest, result_dum, y, scoring = 'r2', cv = cv))"
   ]
  },
  {
   "cell_type": "code",
   "execution_count": null,
   "metadata": {
    "extensions": {
     "jupyter_dashboards": {
      "version": 1,
      "views": {
       "grid_default": {
        "hidden": true
       },
       "report_default": {
        "hidden": false
       }
      }
     }
    }
   },
   "outputs": [],
   "source": []
  },
  {
   "cell_type": "code",
   "execution_count": 143,
   "metadata": {
    "extensions": {
     "jupyter_dashboards": {
      "version": 1,
      "views": {
       "grid_default": {
        "hidden": true
       },
       "report_default": {
        "hidden": false
       }
      }
     }
    }
   },
   "outputs": [],
   "source": [
    "ridgeReg = Ridge(alpha=100)"
   ]
  },
  {
   "cell_type": "code",
   "execution_count": 144,
   "metadata": {
    "extensions": {
     "jupyter_dashboards": {
      "version": 1,
      "views": {
       "grid_default": {
        "col": 8,
        "height": 4,
        "hidden": false,
        "row": 242,
        "width": 4
       },
       "report_default": {
        "hidden": false
       }
      }
     }
    }
   },
   "outputs": [
    {
     "data": {
      "text/plain": [
       "Ridge(alpha=100, copy_X=True, fit_intercept=True, max_iter=None,\n",
       "   normalize=False, random_state=None, solver='auto', tol=0.001)"
      ]
     },
     "execution_count": 144,
     "metadata": {},
     "output_type": "execute_result"
    }
   ],
   "source": [
    "ridgeReg.fit(result_dum, y)"
   ]
  },
  {
   "cell_type": "code",
   "execution_count": 145,
   "metadata": {
    "extensions": {
     "jupyter_dashboards": {
      "version": 1,
      "views": {
       "grid_default": {
        "col": 4,
        "height": 4,
        "hidden": false,
        "row": 245,
        "width": 4
       },
       "report_default": {
        "hidden": false
       }
      }
     }
    }
   },
   "outputs": [
    {
     "data": {
      "text/plain": [
       "17.10345545572791"
      ]
     },
     "execution_count": 145,
     "metadata": {},
     "output_type": "execute_result"
    }
   ],
   "source": [
    "max(ridgeReg.coef_) - min(ridgeReg.coef_)"
   ]
  },
  {
   "cell_type": "code",
   "execution_count": 146,
   "metadata": {
    "extensions": {
     "jupyter_dashboards": {
      "version": 1,
      "views": {
       "grid_default": {
        "hidden": true
       },
       "report_default": {
        "hidden": false
       }
      }
     }
    }
   },
   "outputs": [],
   "source": [
    "coef = pd.Series(ridgeReg.coef_, result_dum.columns).sort_values()"
   ]
  },
  {
   "cell_type": "code",
   "execution_count": 147,
   "metadata": {
    "extensions": {
     "jupyter_dashboards": {
      "version": 1,
      "views": {
       "grid_default": {
        "col": 0,
        "height": 12,
        "hidden": false,
        "row": 246,
        "width": 4
       },
       "report_default": {
        "hidden": false
       }
      }
     }
    }
   },
   "outputs": [
    {
     "data": {
      "text/plain": [
       "<matplotlib.axes._subplots.AxesSubplot at 0x1c2d9ee358>"
      ]
     },
     "execution_count": 147,
     "metadata": {},
     "output_type": "execute_result"
    },
    {
     "data": {
      "image/png": "[encoded data removed]",
      "text/plain": [
       "<Figure size 432x288 with 1 Axes>"
      ]
     },
     "metadata": {},
     "output_type": "display_data"
    }
   ],
   "source": [
    "coef.plot(kind='bar', title='Model Coefficients')"
   ]
  },
  {
   "cell_type": "code",
   "execution_count": 148,
   "metadata": {
    "extensions": {
     "jupyter_dashboards": {
      "version": 1,
      "views": {
       "grid_default": {
        "col": 8,
        "height": 4,
        "hidden": false,
        "row": 246,
        "width": 4
       },
       "report_default": {
        "hidden": false
       }
      }
     }
    }
   },
   "outputs": [
    {
     "data": {
      "text/plain": [
       "0.04527124751009262"
      ]
     },
     "execution_count": 148,
     "metadata": {},
     "output_type": "execute_result"
    }
   ],
   "source": [
    "np.mean(cross_val_score(Ridge(alpha=100), result_dum, y, scoring = 'r2', cv = cv))"
   ]
  },
  {
   "cell_type": "code",
   "execution_count": 149,
   "metadata": {
    "extensions": {
     "jupyter_dashboards": {
      "version": 1,
      "views": {
       "grid_default": {
        "col": 4,
        "height": 4,
        "hidden": false,
        "row": 249,
        "width": 4
       },
       "report_default": {
        "hidden": false
       }
      }
     }
    }
   },
   "outputs": [
    {
     "data": {
      "text/plain": [
       "1.0823900322364253"
      ]
     },
     "execution_count": 149,
     "metadata": {},
     "output_type": "execute_result"
    }
   ],
   "source": [
    "std - np.sqrt(-1 * np.mean(cross_val_score(Ridge(alpha=100), result_dum, y, scoring = 'neg_mean_squared_error', cv = cv)))"
   ]
  },
  {
   "cell_type": "code",
   "execution_count": 150,
   "metadata": {
    "extensions": {
     "jupyter_dashboards": {
      "version": 1,
      "views": {
       "grid_default": {
        "hidden": true
       },
       "report_default": {
        "hidden": false
       }
      }
     }
    }
   },
   "outputs": [],
   "source": [
    "nridgeReg = Ridge(alpha=100)"
   ]
  },
  {
   "cell_type": "code",
   "execution_count": 151,
   "metadata": {
    "extensions": {
     "jupyter_dashboards": {
      "version": 1,
      "views": {
       "grid_default": {
        "col": 8,
        "height": 4,
        "hidden": false,
        "row": 250,
        "width": 4
       },
       "report_default": {
        "hidden": false
       }
      }
     }
    }
   },
   "outputs": [
    {
     "data": {
      "text/plain": [
       "Ridge(alpha=100, copy_X=True, fit_intercept=True, max_iter=None,\n",
       "   normalize=False, random_state=None, solver='auto', tol=0.001)"
      ]
     },
     "execution_count": 151,
     "metadata": {},
     "output_type": "execute_result"
    }
   ],
   "source": [
    "nridgeReg.fit(norm_dum, y)"
   ]
  },
  {
   "cell_type": "code",
   "execution_count": 152,
   "metadata": {
    "extensions": {
     "jupyter_dashboards": {
      "version": 1,
      "views": {
       "grid_default": {
        "col": 4,
        "height": 4,
        "hidden": false,
        "row": 253,
        "width": 4
       },
       "report_default": {
        "hidden": false
       }
      }
     }
    }
   },
   "outputs": [
    {
     "data": {
      "text/plain": [
       "17.174978397678622"
      ]
     },
     "execution_count": 152,
     "metadata": {},
     "output_type": "execute_result"
    }
   ],
   "source": [
    "max(nridgeReg.coef_) - min(nridgeReg.coef_)"
   ]
  },
  {
   "cell_type": "code",
   "execution_count": 153,
   "metadata": {
    "extensions": {
     "jupyter_dashboards": {
      "version": 1,
      "views": {
       "grid_default": {
        "hidden": true
       },
       "report_default": {
        "hidden": false
       }
      }
     }
    }
   },
   "outputs": [],
   "source": [
    "ncoef = pd.Series(nridgeReg.coef_, norm_dum.columns).sort_values()"
   ]
  },
  {
   "cell_type": "code",
   "execution_count": 154,
   "metadata": {
    "extensions": {
     "jupyter_dashboards": {
      "version": 1,
      "views": {
       "grid_default": {
        "col": 8,
        "height": 12,
        "hidden": false,
        "row": 254,
        "width": 4
       },
       "report_default": {
        "hidden": false
       }
      }
     }
    }
   },
   "outputs": [
    {
     "data": {
      "text/plain": [
       "<matplotlib.axes._subplots.AxesSubplot at 0x10e01e390>"
      ]
     },
     "execution_count": 154,
     "metadata": {},
     "output_type": "execute_result"
    },
    {
     "data": {
      "image/png": "[encoded data removed]",
      "text/plain": [
       "<Figure size 432x288 with 1 Axes>"
      ]
     },
     "metadata": {},
     "output_type": "display_data"
    }
   ],
   "source": [
    "ncoef.plot(kind='bar', title='Model Coefficients')"
   ]
  },
  {
   "cell_type": "code",
   "execution_count": 155,
   "metadata": {
    "extensions": {
     "jupyter_dashboards": {
      "version": 1,
      "views": {
       "grid_default": {
        "col": 4,
        "height": 4,
        "hidden": false,
        "row": 257,
        "width": 4
       },
       "report_default": {
        "hidden": false
       }
      }
     }
    }
   },
   "outputs": [
    {
     "data": {
      "text/plain": [
       "0.0832580899802286"
      ]
     },
     "execution_count": 155,
     "metadata": {},
     "output_type": "execute_result"
    }
   ],
   "source": [
    "np.mean(cross_val_score(Ridge(alpha=100), norm_dum, y, scoring = 'r2', cv = cv))"
   ]
  },
  {
   "cell_type": "code",
   "execution_count": 156,
   "metadata": {
    "extensions": {
     "jupyter_dashboards": {
      "version": 1,
      "views": {
       "grid_default": {
        "col": 0,
        "height": 4,
        "hidden": false,
        "row": 258,
        "width": 4
       },
       "report_default": {
        "hidden": false
       }
      }
     }
    }
   },
   "outputs": [
    {
     "data": {
      "text/plain": [
       "1.6593104593371066"
      ]
     },
     "execution_count": 156,
     "metadata": {},
     "output_type": "execute_result"
    }
   ],
   "source": [
    "std - np.sqrt(-1 * np.mean(cross_val_score(Ridge(alpha=100), norm_dum, y, scoring = 'neg_mean_squared_error', cv = cv)))"
   ]
  },
  {
   "cell_type": "code",
   "execution_count": null,
   "metadata": {
    "extensions": {
     "jupyter_dashboards": {
      "version": 1,
      "views": {
       "grid_default": {
        "hidden": true
       },
       "report_default": {
        "hidden": false
       }
      }
     }
    }
   },
   "outputs": [],
   "source": []
  },
  {
   "cell_type": "code",
   "execution_count": 157,
   "metadata": {
    "extensions": {
     "jupyter_dashboards": {
      "version": 1,
      "views": {
       "grid_default": {
        "hidden": true
       },
       "report_default": {
        "hidden": false
       }
      }
     }
    }
   },
   "outputs": [],
   "source": [
    "lin = LinearRegression()\n",
    "linmodel = lin.fit(result_dum, y)"
   ]
  },
  {
   "cell_type": "code",
   "execution_count": 158,
   "metadata": {
    "extensions": {
     "jupyter_dashboards": {
      "version": 1,
      "views": {
       "grid_default": {
        "col": 4,
        "height": 4,
        "hidden": false,
        "row": 261,
        "width": 4
       },
       "report_default": {
        "hidden": false
       }
      }
     }
    }
   },
   "outputs": [
    {
     "data": {
      "text/plain": [
       "0.12036221299058092"
      ]
     },
     "execution_count": 158,
     "metadata": {},
     "output_type": "execute_result"
    }
   ],
   "source": [
    "linmodel.score(result_dum,y)"
   ]
  },
  {
   "cell_type": "code",
   "execution_count": 159,
   "metadata": {
    "extensions": {
     "jupyter_dashboards": {
      "version": 1,
      "views": {
       "grid_default": {
        "col": 0,
        "height": 4,
        "hidden": false,
        "row": 262,
        "width": 4
       },
       "report_default": {
        "hidden": false
       }
      }
     }
    }
   },
   "outputs": [
    {
     "data": {
      "text/plain": [
       "31.471044452132098"
      ]
     },
     "execution_count": 159,
     "metadata": {},
     "output_type": "execute_result"
    }
   ],
   "source": [
    "max(linmodel.coef_) - min(linmodel.coef_)"
   ]
  },
  {
   "cell_type": "code",
   "execution_count": 160,
   "metadata": {
    "extensions": {
     "jupyter_dashboards": {
      "version": 1,
      "views": {
       "grid_default": {
        "hidden": true
       },
       "report_default": {
        "hidden": false
       }
      }
     }
    }
   },
   "outputs": [],
   "source": [
    "coef2 = pd.Series(linmodel.coef_, result_dum.columns).sort_values()"
   ]
  },
  {
   "cell_type": "code",
   "execution_count": 161,
   "metadata": {
    "extensions": {
     "jupyter_dashboards": {
      "version": 1,
      "views": {
       "grid_default": {
        "col": 4,
        "height": 12,
        "hidden": false,
        "row": 265,
        "width": 4
       },
       "report_default": {
        "hidden": false
       }
      }
     }
    }
   },
   "outputs": [
    {
     "data": {
      "text/plain": [
       "<matplotlib.axes._subplots.AxesSubplot at 0x1c3f365ac8>"
      ]
     },
     "execution_count": 161,
     "metadata": {},
     "output_type": "execute_result"
    },
    {
     "data": {
      "image/png": "[encoded data removed]",
      "text/plain": [
       "<Figure size 432x288 with 1 Axes>"
      ]
     },
     "metadata": {},
     "output_type": "display_data"
    }
   ],
   "source": [
    "coef2.plot(kind='bar', title='Model Coefficients')"
   ]
  },
  {
   "cell_type": "code",
   "execution_count": 162,
   "metadata": {
    "extensions": {
     "jupyter_dashboards": {
      "version": 1,
      "views": {
       "grid_default": {
        "col": 0,
        "height": 4,
        "hidden": false,
        "row": 266,
        "width": 4
       },
       "report_default": {
        "hidden": false
       }
      }
     }
    }
   },
   "outputs": [
    {
     "data": {
      "text/plain": [
       "11.27608708491988"
      ]
     },
     "execution_count": 162,
     "metadata": {},
     "output_type": "execute_result"
    }
   ],
   "source": [
    "linmodel.intercept_"
   ]
  },
  {
   "cell_type": "code",
   "execution_count": 163,
   "metadata": {
    "extensions": {
     "jupyter_dashboards": {
      "version": 1,
      "views": {
       "grid_default": {
        "col": 8,
        "height": 4,
        "hidden": false,
        "row": 266,
        "width": 4
       },
       "report_default": {
        "hidden": false
       }
      }
     }
    }
   },
   "outputs": [
    {
     "data": {
      "text/plain": [
       "0.036703212570561805"
      ]
     },
     "execution_count": 163,
     "metadata": {},
     "output_type": "execute_result"
    }
   ],
   "source": [
    "np.mean(cross_val_score(LinearRegression(), result_dum, y, scoring = 'r2', cv = cv))"
   ]
  },
  {
   "cell_type": "code",
   "execution_count": 164,
   "metadata": {
    "extensions": {
     "jupyter_dashboards": {
      "version": 1,
      "views": {
       "grid_default": {
        "col": 0,
        "height": 4,
        "hidden": false,
        "row": 270,
        "width": 4
       },
       "report_default": {
        "hidden": false
       }
      }
     }
    }
   },
   "outputs": [
    {
     "data": {
      "text/plain": [
       "0.9875918375949908"
      ]
     },
     "execution_count": 164,
     "metadata": {},
     "output_type": "execute_result"
    }
   ],
   "source": [
    "std - np.sqrt(-1 * np.mean(cross_val_score(LinearRegression(), result_dum, y, scoring = 'neg_mean_squared_error', cv = cv)))"
   ]
  },
  {
   "cell_type": "code",
   "execution_count": 165,
   "metadata": {
    "extensions": {
     "jupyter_dashboards": {
      "version": 1,
      "views": {
       "grid_default": {
        "hidden": true
       },
       "report_default": {
        "hidden": false
       }
      }
     }
    }
   },
   "outputs": [],
   "source": [
    "nlin = LinearRegression()\n",
    "nlinmodel = nlin.fit(norm_dum, y)"
   ]
  },
  {
   "cell_type": "code",
   "execution_count": 166,
   "metadata": {
    "extensions": {
     "jupyter_dashboards": {
      "version": 1,
      "views": {
       "grid_default": {
        "col": 8,
        "height": 4,
        "hidden": false,
        "row": 270,
        "width": 4
       },
       "report_default": {
        "hidden": false
       }
      }
     }
    }
   },
   "outputs": [
    {
     "data": {
      "text/plain": [
       "0.12036221299058092"
      ]
     },
     "execution_count": 166,
     "metadata": {},
     "output_type": "execute_result"
    }
   ],
   "source": [
    "nlinmodel.score(norm_dum,y)"
   ]
  },
  {
   "cell_type": "code",
   "execution_count": 167,
   "metadata": {
    "extensions": {
     "jupyter_dashboards": {
      "version": 1,
      "views": {
       "grid_default": {
        "col": 0,
        "height": 4,
        "hidden": false,
        "row": 274,
        "width": 4
       },
       "report_default": {
        "hidden": false
       }
      }
     }
    }
   },
   "outputs": [
    {
     "data": {
      "text/plain": [
       "31.47104445213212"
      ]
     },
     "execution_count": 167,
     "metadata": {},
     "output_type": "execute_result"
    }
   ],
   "source": [
    "max(nlinmodel.coef_) - min(nlinmodel.coef_)"
   ]
  },
  {
   "cell_type": "code",
   "execution_count": 168,
   "metadata": {
    "extensions": {
     "jupyter_dashboards": {
      "version": 1,
      "views": {
       "grid_default": {
        "hidden": true
       },
       "report_default": {
        "hidden": false
       }
      }
     }
    }
   },
   "outputs": [],
   "source": [
    "coef3 = pd.Series(nlinmodel.coef_, norm_dum.columns).sort_values()"
   ]
  },
  {
   "cell_type": "code",
   "execution_count": 169,
   "metadata": {
    "extensions": {
     "jupyter_dashboards": {
      "version": 1,
      "views": {
       "grid_default": {
        "col": 8,
        "height": 12,
        "hidden": false,
        "row": 274,
        "width": 4
       },
       "report_default": {
        "hidden": false
       }
      }
     }
    }
   },
   "outputs": [
    {
     "data": {
      "text/plain": [
       "<matplotlib.axes._subplots.AxesSubplot at 0x1c3ee2a198>"
      ]
     },
     "execution_count": 169,
     "metadata": {},
     "output_type": "execute_result"
    },
    {
     "data": {
      "image/png": "[encoded data removed]",
      "text/plain": [
       "<Figure size 432x288 with 1 Axes>"
      ]
     },
     "metadata": {},
     "output_type": "display_data"
    }
   ],
   "source": [
    "coef3.plot(kind='bar', title='Model Coefficients')"
   ]
  },
  {
   "cell_type": "code",
   "execution_count": 170,
   "metadata": {
    "extensions": {
     "jupyter_dashboards": {
      "version": 1,
      "views": {
       "grid_default": {
        "col": 4,
        "height": 4,
        "hidden": false,
        "row": 277,
        "width": 4
       },
       "report_default": {
        "hidden": false
       }
      }
     }
    }
   },
   "outputs": [
    {
     "data": {
      "text/plain": [
       "42.353554465108004"
      ]
     },
     "execution_count": 170,
     "metadata": {},
     "output_type": "execute_result"
    }
   ],
   "source": [
    "nlinmodel.intercept_"
   ]
  },
  {
   "cell_type": "code",
   "execution_count": 171,
   "metadata": {
    "extensions": {
     "jupyter_dashboards": {
      "version": 1,
      "views": {
       "grid_default": {
        "col": 0,
        "height": 4,
        "hidden": false,
        "row": 278,
        "width": 4
       },
       "report_default": {
        "hidden": false
       }
      }
     }
    }
   },
   "outputs": [
    {
     "data": {
      "text/plain": [
       "0.0367032125705595"
      ]
     },
     "execution_count": 171,
     "metadata": {},
     "output_type": "execute_result"
    }
   ],
   "source": [
    "np.mean(cross_val_score(LinearRegression(), norm_dum, y, scoring = 'r2', cv = cv))"
   ]
  },
  {
   "cell_type": "code",
   "execution_count": 172,
   "metadata": {
    "extensions": {
     "jupyter_dashboards": {
      "version": 1,
      "views": {
       "grid_default": {
        "col": 4,
        "height": 4,
        "hidden": false,
        "row": 281,
        "width": 4
       },
       "report_default": {
        "hidden": false
       }
      }
     }
    }
   },
   "outputs": [
    {
     "data": {
      "text/plain": [
       "0.9875918375949624"
      ]
     },
     "execution_count": 172,
     "metadata": {},
     "output_type": "execute_result"
    }
   ],
   "source": [
    "std - np.sqrt(-1 * np.mean(cross_val_score(LinearRegression(), norm_dum, y, scoring = 'neg_mean_squared_error', cv = cv)))"
   ]
  },
  {
   "cell_type": "code",
   "execution_count": null,
   "metadata": {
    "extensions": {
     "jupyter_dashboards": {
      "version": 1,
      "views": {
       "grid_default": {
        "hidden": true
       },
       "report_default": {
        "hidden": false
       }
      }
     }
    }
   },
   "outputs": [],
   "source": []
  },
  {
   "cell_type": "code",
   "execution_count": 252,
   "metadata": {
    "extensions": {
     "jupyter_dashboards": {
      "version": 1,
      "views": {
       "grid_default": {
        "hidden": true
       },
       "report_default": {
        "hidden": false
       }
      }
     }
    }
   },
   "outputs": [],
   "source": [
    "XX = np.array(copy.deepcopy(result_dum))"
   ]
  },
  {
   "cell_type": "code",
   "execution_count": 253,
   "metadata": {
    "extensions": {
     "jupyter_dashboards": {
      "version": 1,
      "views": {
       "grid_default": {
        "hidden": true
       },
       "report_default": {
        "hidden": false
       }
      }
     }
    }
   },
   "outputs": [],
   "source": [
    "XXT = XX.T"
   ]
  },
  {
   "cell_type": "code",
   "execution_count": 254,
   "metadata": {
    "extensions": {
     "jupyter_dashboards": {
      "version": 1,
      "views": {
       "grid_default": {
        "hidden": true
       },
       "report_default": {
        "hidden": false
       }
      }
     }
    }
   },
   "outputs": [],
   "source": [
    "prod = XXT @ XX"
   ]
  },
  {
   "cell_type": "code",
   "execution_count": 255,
   "metadata": {
    "extensions": {
     "jupyter_dashboards": {
      "version": 1,
      "views": {
       "grid_default": {
        "col": 0,
        "height": 4,
        "hidden": false,
        "row": 282,
        "width": 4
       },
       "report_default": {
        "hidden": false
       }
      }
     }
    }
   },
   "outputs": [
    {
     "data": {
      "text/plain": [
       "(25, 25)"
      ]
     },
     "execution_count": 255,
     "metadata": {},
     "output_type": "execute_result"
    }
   ],
   "source": [
    "prod.shape"
   ]
  },
  {
   "cell_type": "code",
   "execution_count": 256,
   "metadata": {
    "extensions": {
     "jupyter_dashboards": {
      "version": 1,
      "views": {
       "grid_default": {
        "hidden": true
       },
       "report_default": {
        "hidden": false
       }
      }
     }
    }
   },
   "outputs": [],
   "source": [
    "inv = np.linalg.inv(prod)"
   ]
  },
  {
   "cell_type": "code",
   "execution_count": 257,
   "metadata": {
    "extensions": {
     "jupyter_dashboards": {
      "version": 1,
      "views": {
       "grid_default": {
        "col": 4,
        "height": 4,
        "hidden": false,
        "row": 285,
        "width": 4
       },
       "report_default": {
        "hidden": false
       }
      }
     }
    }
   },
   "outputs": [
    {
     "data": {
      "text/plain": [
       "(25, 25)"
      ]
     },
     "execution_count": 257,
     "metadata": {},
     "output_type": "execute_result"
    }
   ],
   "source": [
    "inv.shape"
   ]
  },
  {
   "cell_type": "code",
   "execution_count": 258,
   "metadata": {
    "extensions": {
     "jupyter_dashboards": {
      "version": 1,
      "views": {
       "grid_default": {
        "hidden": true
       },
       "report_default": {
        "hidden": false
       }
      }
     }
    }
   },
   "outputs": [],
   "source": [
    "triple_X = inv @ XXT"
   ]
  },
  {
   "cell_type": "code",
   "execution_count": 259,
   "metadata": {
    "extensions": {
     "jupyter_dashboards": {
      "version": 1,
      "views": {
       "grid_default": {
        "col": 0,
        "height": 4,
        "hidden": false,
        "row": 286,
        "width": 4
       },
       "report_default": {
        "hidden": false
       }
      }
     }
    }
   },
   "outputs": [
    {
     "data": {
      "text/plain": [
       "numpy.ndarray"
      ]
     },
     "execution_count": 259,
     "metadata": {},
     "output_type": "execute_result"
    }
   ],
   "source": [
    "type(triple_X)"
   ]
  },
  {
   "cell_type": "code",
   "execution_count": 260,
   "metadata": {
    "extensions": {
     "jupyter_dashboards": {
      "version": 1,
      "views": {
       "grid_default": {
        "hidden": true
       },
       "report_default": {
        "hidden": false
       }
      }
     }
    }
   },
   "outputs": [],
   "source": [
    "z = np.array(y)"
   ]
  },
  {
   "cell_type": "code",
   "execution_count": 261,
   "metadata": {
    "extensions": {
     "jupyter_dashboards": {
      "version": 1,
      "views": {
       "grid_default": {
        "col": 8,
        "height": 4,
        "hidden": false,
        "row": 286,
        "width": 4
       },
       "report_default": {
        "hidden": false
       }
      }
     }
    }
   },
   "outputs": [
    {
     "data": {
      "text/plain": [
       "(2735,)"
      ]
     },
     "execution_count": 261,
     "metadata": {},
     "output_type": "execute_result"
    }
   ],
   "source": [
    "z.shape"
   ]
  },
  {
   "cell_type": "code",
   "execution_count": 262,
   "metadata": {
    "extensions": {
     "jupyter_dashboards": {
      "version": 1,
      "views": {
       "grid_default": {
        "hidden": true
       },
       "report_default": {
        "hidden": false
       }
      }
     }
    }
   },
   "outputs": [],
   "source": [
    "theta = triple_X @ z"
   ]
  },
  {
   "cell_type": "code",
   "execution_count": 263,
   "metadata": {
    "extensions": {
     "jupyter_dashboards": {
      "version": 1,
      "views": {
       "grid_default": {
        "col": 4,
        "height": 4,
        "hidden": false,
        "row": 289,
        "width": 4
       },
       "report_default": {
        "hidden": false
       }
      }
     }
    }
   },
   "outputs": [
    {
     "data": {
      "text/plain": [
       "numpy.ndarray"
      ]
     },
     "execution_count": 263,
     "metadata": {},
     "output_type": "execute_result"
    }
   ],
   "source": [
    "type(XX)"
   ]
  },
  {
   "cell_type": "code",
   "execution_count": 264,
   "metadata": {
    "extensions": {
     "jupyter_dashboards": {
      "version": 1,
      "views": {
       "grid_default": {
        "hidden": true
       },
       "report_default": {
        "hidden": false
       }
      }
     }
    }
   },
   "outputs": [],
   "source": [
    "preds = [theta @ XX[i,:] for i in range(len(z))]"
   ]
  },
  {
   "cell_type": "code",
   "execution_count": 265,
   "metadata": {
    "extensions": {
     "jupyter_dashboards": {
      "version": 1,
      "views": {
       "grid_default": {
        "hidden": true
       },
       "report_default": {
        "hidden": false
       }
      }
     }
    }
   },
   "outputs": [],
   "source": [
    "err = [(y[i] - preds[i])for i in range(len(y))]"
   ]
  },
  {
   "cell_type": "code",
   "execution_count": 266,
   "metadata": {
    "extensions": {
     "jupyter_dashboards": {
      "version": 1,
      "views": {
       "grid_default": {
        "hidden": true
       },
       "report_default": {
        "hidden": false
       }
      }
     }
    }
   },
   "outputs": [],
   "source": [
    "RMSE = (sum([e**2 for e in err])/len(y))**0.5"
   ]
  },
  {
   "cell_type": "code",
   "execution_count": 267,
   "metadata": {
    "extensions": {
     "jupyter_dashboards": {
      "version": 1,
      "views": {
       "grid_default": {
        "col": 0,
        "height": 4,
        "hidden": false,
        "row": 290,
        "width": 4
       },
       "report_default": {
        "hidden": false
       }
      }
     }
    }
   },
   "outputs": [
    {
     "data": {
      "text/plain": [
       "2.397806597494622"
      ]
     },
     "execution_count": 267,
     "metadata": {},
     "output_type": "execute_result"
    }
   ],
   "source": [
    "std - RMSE"
   ]
  },
  {
   "cell_type": "code",
   "execution_count": 268,
   "metadata": {
    "extensions": {
     "jupyter_dashboards": {
      "version": 1,
      "views": {
       "grid_default": {
        "hidden": true
       },
       "report_default": {
        "hidden": false
       }
      }
     }
    }
   },
   "outputs": [],
   "source": [
    "results = sm.OLS(y, XX).fit()"
   ]
  },
  {
   "cell_type": "code",
   "execution_count": 269,
   "metadata": {
    "extensions": {
     "jupyter_dashboards": {
      "version": 1,
      "views": {
       "grid_default": {
        "col": 8,
        "height": 13,
        "hidden": false,
        "row": 290,
        "width": 4
       },
       "report_default": {
        "hidden": false
       }
      }
     }
    }
   },
   "outputs": [
    {
     "name": "stdout",
     "output_type": "stream",
     "text": [
      "[('edu', -0.4478596020367455), ('exp', 0.07403222422227351), ('hours', -0.0007702896857082989), ('jobs', 0.002276699986293663), ('skills', 1.139648552410771), ('tests', -0.4471919527318311), ('head_len', 0.09280728543673963), ('hd_wrd_len', -0.8552452673691775), ('bio_len', 0.008970697112424573), ('bio_wrd_len', 2.9485234602855117), ('cluster_0', 14.266478509205518), ('cluster_1', 20.75569910728725), ('cluster_2', -2.793942215454102), ('cluster_3', 5.648107036878207), ('cluster_4', 9.723574200054472), ('cluster_5', 23.36633579900385), ('cluster_6', 15.898519386920789), ('cluster_7', 5.195835866328224), ('cluster_8', 8.091672165317608), ('cluster_9', 18.283092307877578), ('cluster_10', -3.099198619274469), ('cluster_11', 12.56616097857205), ('cluster_12', 28.371845832857456), ('cluster_13', -2.2017650298693505), ('cluster_14', 15.06889094808718)]\n"
     ]
    }
   ],
   "source": [
    "print(list(zip(list(result_dum.columns),list(theta))))"
   ]
  },
  {
   "cell_type": "code",
   "execution_count": 270,
   "metadata": {
    "extensions": {
     "jupyter_dashboards": {
      "version": 1,
      "views": {
       "grid_default": {
        "col": 4,
        "height": 56,
        "hidden": false,
        "row": 293,
        "width": 4
       },
       "report_default": {
        "hidden": false
       }
      }
     }
    }
   },
   "outputs": [
    {
     "name": "stdout",
     "output_type": "stream",
     "text": [
      "                            OLS Regression Results                            \n",
      "==============================================================================\n",
      "Dep. Variable:                   rate   R-squared:                       0.120\n",
      "Model:                            OLS   Adj. R-squared:                  0.113\n",
      "Method:                 Least Squares   F-statistic:                     15.45\n",
      "Date:                Thu, 04 Oct 2018   Prob (F-statistic):           2.06e-59\n",
      "Time:                        10:23:28   Log-Likelihood:                -13697.\n",
      "No. Observations:                2735   AIC:                         2.744e+04\n",
      "Df Residuals:                    2710   BIC:                         2.759e+04\n",
      "Df Model:                          24                                         \n",
      "Covariance Type:            nonrobust                                         \n",
      "==============================================================================\n",
      "                 coef    std err          t      P>|t|      [0.025      0.975]\n",
      "------------------------------------------------------------------------------\n",
      "x1            -0.4479      0.884     -0.507      0.613      -2.182       1.286\n",
      "x2             0.0740      0.331      0.224      0.823      -0.575       0.723\n",
      "x3            -0.0008      0.000     -2.783      0.005      -0.001      -0.000\n",
      "x4             0.0023      0.002      1.061      0.289      -0.002       0.006\n",
      "x5             1.1396      0.280      4.069      0.000       0.591       1.689\n",
      "x6            -0.4472      0.208     -2.146      0.032      -0.856      -0.039\n",
      "x7             0.0928      0.042      2.205      0.028       0.010       0.175\n",
      "x8            -0.8552      0.239     -3.581      0.000      -1.324      -0.387\n",
      "x9             0.0090      0.001      9.817      0.000       0.007       0.011\n",
      "x10            2.9485      0.674      4.378      0.000       1.628       4.269\n",
      "x11           14.2665      7.138      1.999      0.046       0.270      28.263\n",
      "x12           20.7557      4.921      4.218      0.000      11.106      30.405\n",
      "x13           -2.7939     36.679     -0.076      0.939     -74.716      69.128\n",
      "x14            5.6481      6.417      0.880      0.379      -6.935      18.231\n",
      "x15            9.7236      5.897      1.649      0.099      -1.840      21.287\n",
      "x16           23.3663      6.035      3.872      0.000      11.532      35.201\n",
      "x17           15.8985      5.284      3.009      0.003       5.538      26.259\n",
      "x18            5.1958      6.331      0.821      0.412      -7.218      17.610\n",
      "x19            8.0917     26.065      0.310      0.756     -43.018      59.201\n",
      "x20           18.2831     18.831      0.971      0.332     -18.642      55.208\n",
      "x21           -3.0992      5.810     -0.533      0.594     -14.491       8.292\n",
      "x22           12.5662      6.489      1.936      0.053      -0.159      25.291\n",
      "x23           28.3718      6.446      4.401      0.000      15.732      41.012\n",
      "x24           -2.2018      5.998     -0.367      0.714     -13.962       9.559\n",
      "x25           15.0689      5.749      2.621      0.009       3.797      26.341\n",
      "==============================================================================\n",
      "Omnibus:                     3994.235   Durbin-Watson:                   1.998\n",
      "Prob(Omnibus):                  0.000   Jarque-Bera (JB):          3831064.611\n",
      "Skew:                           8.222   Prob(JB):                         0.00\n",
      "Kurtosis:                     185.614   Cond. No.                     1.60e+05\n",
      "==============================================================================\n",
      "\n",
      "Warnings:\n",
      "[1] Standard Errors assume that the covariance matrix of the errors is correctly specified.\n",
      "[2] The condition number is large, 1.6e+05. This might indicate that there are\n",
      "strong multicollinearity or other numerical problems.\n"
     ]
    }
   ],
   "source": [
    "print(results.summary())"
   ]
  },
  {
   "cell_type": "code",
   "execution_count": null,
   "metadata": {
    "extensions": {
     "jupyter_dashboards": {
      "version": 1,
      "views": {
       "grid_default": {
        "hidden": true
       },
       "report_default": {
        "hidden": false
       }
      }
     }
    }
   },
   "outputs": [],
   "source": []
  },
  {
   "cell_type": "code",
   "execution_count": 186,
   "metadata": {
    "extensions": {
     "jupyter_dashboards": {
      "version": 1,
      "views": {
       "grid_default": {
        "col": 0,
        "height": 12,
        "hidden": false,
        "row": 294,
        "width": 4
       },
       "report_default": {
        "hidden": false
       }
      }
     }
    }
   },
   "outputs": [
    {
     "name": "stdout",
     "output_type": "stream",
     "text": [
      "Epoch 1/100\n",
      "2735/2735 [==============================] - 1s 263us/step - loss: 3589.4768 - mean_squared_error: 3589.4768\n",
      "Epoch 2/100\n",
      "2735/2735 [==============================] - 0s 141us/step - loss: 3302.5924 - mean_squared_error: 3302.5924\n",
      "Epoch 3/100\n",
      "2735/2735 [==============================] - 0s 178us/step - loss: 2836.2721 - mean_squared_error: 2836.2721\n",
      "Epoch 4/100\n",
      "2735/2735 [==============================] - 0s 175us/step - loss: 2320.4502 - mean_squared_error: 2320.4502\n",
      "Epoch 5/100\n",
      "2735/2735 [==============================] - 1s 184us/step - loss: 1894.2913 - mean_squared_error: 1894.2913\n",
      "Epoch 6/100\n",
      "2735/2735 [==============================] - 0s 180us/step - loss: 1605.9888 - mean_squared_error: 1605.9888\n",
      "Epoch 7/100\n",
      "2735/2735 [==============================] - 0s 179us/step - loss: 1445.2445 - mean_squared_error: 1445.2445\n",
      "Epoch 8/100\n",
      "2735/2735 [==============================] - 0s 171us/step - loss: 1375.1827 - mean_squared_error: 1375.1827\n",
      "Epoch 9/100\n",
      "2735/2735 [==============================] - 0s 135us/step - loss: 1348.0974 - mean_squared_error: 1348.0974\n",
      "Epoch 10/100\n",
      "2735/2735 [==============================] - 0s 174us/step - loss: 1336.8660 - mean_squared_error: 1336.8660\n",
      "Epoch 11/100\n",
      "2735/2735 [==============================] - 0s 173us/step - loss: 1330.9507 - mean_squared_error: 1330.9507\n",
      "Epoch 12/100\n",
      "2735/2735 [==============================] - 0s 177us/step - loss: 1326.7505 - mean_squared_error: 1326.7505\n",
      "Epoch 13/100\n",
      "2735/2735 [==============================] - 1s 184us/step - loss: 1323.9202 - mean_squared_error: 1323.9202\n",
      "Epoch 14/100\n",
      "2735/2735 [==============================] - 1s 184us/step - loss: 1321.1662 - mean_squared_error: 1321.1662\n",
      "Epoch 15/100\n",
      "2735/2735 [==============================] - 0s 148us/step - loss: 1319.3097 - mean_squared_error: 1319.3097\n",
      "Epoch 16/100\n",
      "2735/2735 [==============================] - 1s 184us/step - loss: 1317.5612 - mean_squared_error: 1317.5612\n",
      "Epoch 17/100\n",
      "2735/2735 [==============================] - 0s 181us/step - loss: 1316.0654 - mean_squared_error: 1316.0654\n",
      "Epoch 18/100\n",
      "2735/2735 [==============================] - 0s 168us/step - loss: 1314.8116 - mean_squared_error: 1314.8116\n",
      "Epoch 19/100\n",
      "2735/2735 [==============================] - 0s 172us/step - loss: 1313.6976 - mean_squared_error: 1313.6976\n",
      "Epoch 20/100\n",
      "2735/2735 [==============================] - 0s 179us/step - loss: 1312.4973 - mean_squared_error: 1312.4973\n",
      "Epoch 21/100\n",
      "2735/2735 [==============================] - 0s 177us/step - loss: 1311.8435 - mean_squared_error: 1311.8435\n",
      "Epoch 22/100\n",
      "2735/2735 [==============================] - 0s 182us/step - loss: 1310.8633 - mean_squared_error: 1310.8633\n",
      "Epoch 23/100\n",
      "2735/2735 [==============================] - 0s 166us/step - loss: 1310.3748 - mean_squared_error: 1310.3748\n",
      "Epoch 24/100\n",
      "2735/2735 [==============================] - 0s 132us/step - loss: 1309.8462 - mean_squared_error: 1309.8462\n",
      "Epoch 25/100\n",
      "2735/2735 [==============================] - 0s 172us/step - loss: 1309.3295 - mean_squared_error: 1309.3295\n",
      "Epoch 26/100\n",
      "2735/2735 [==============================] - 1s 187us/step - loss: 1308.4872 - mean_squared_error: 1308.4872\n",
      "Epoch 27/100\n",
      "2735/2735 [==============================] - 0s 181us/step - loss: 1308.2703 - mean_squared_error: 1308.2703\n",
      "Epoch 28/100\n",
      "2735/2735 [==============================] - 0s 181us/step - loss: 1307.7730 - mean_squared_error: 1307.7730\n",
      "Epoch 29/100\n",
      "2735/2735 [==============================] - 0s 179us/step - loss: 1307.1999 - mean_squared_error: 1307.1999\n",
      "Epoch 30/100\n",
      "2735/2735 [==============================] - 0s 178us/step - loss: 1307.0468 - mean_squared_error: 1307.0468\n",
      "Epoch 31/100\n",
      "2735/2735 [==============================] - 0s 151us/step - loss: 1306.5068 - mean_squared_error: 1306.5068\n",
      "Epoch 32/100\n",
      "2735/2735 [==============================] - 0s 177us/step - loss: 1306.2315 - mean_squared_error: 1306.2315\n",
      "Epoch 33/100\n",
      "2735/2735 [==============================] - 0s 165us/step - loss: 1306.2335 - mean_squared_error: 1306.2335\n",
      "Epoch 34/100\n",
      "2735/2735 [==============================] - 0s 170us/step - loss: 1305.7925 - mean_squared_error: 1305.7925\n",
      "Epoch 35/100\n",
      "2735/2735 [==============================] - 0s 183us/step - loss: 1305.6161 - mean_squared_error: 1305.6161\n",
      "Epoch 36/100\n",
      "2735/2735 [==============================] - 0s 180us/step - loss: 1305.4501 - mean_squared_error: 1305.4501\n",
      "Epoch 37/100\n",
      "2735/2735 [==============================] - 1s 185us/step - loss: 1305.0777 - mean_squared_error: 1305.0777\n",
      "Epoch 38/100\n",
      "2735/2735 [==============================] - 1s 184us/step - loss: 1305.3053 - mean_squared_error: 1305.3053\n",
      "Epoch 39/100\n",
      "2735/2735 [==============================] - 1s 189us/step - loss: 1304.5780 - mean_squared_error: 1304.57800s - loss: 1342.9255 - mean_squared_error: 1\n",
      "Epoch 40/100\n",
      "2735/2735 [==============================] - 1s 188us/step - loss: 1304.7026 - mean_squared_error: 1304.7026\n",
      "Epoch 41/100\n",
      "2735/2735 [==============================] - 0s 161us/step - loss: 1304.3321 - mean_squared_error: 1304.3321\n",
      "Epoch 42/100\n",
      "2735/2735 [==============================] - 0s 143us/step - loss: 1303.7468 - mean_squared_error: 1303.7468\n",
      "Epoch 43/100\n",
      "2735/2735 [==============================] - 0s 170us/step - loss: 1303.6853 - mean_squared_error: 1303.6853\n",
      "Epoch 44/100\n",
      "2735/2735 [==============================] - 1s 195us/step - loss: 1303.9186 - mean_squared_error: 1303.9186\n",
      "Epoch 45/100\n",
      "2735/2735 [==============================] - 0s 171us/step - loss: 1303.5219 - mean_squared_error: 1303.5219\n",
      "Epoch 46/100\n",
      "2735/2735 [==============================] - 0s 145us/step - loss: 1303.3023 - mean_squared_error: 1303.3023\n",
      "Epoch 47/100\n",
      "2735/2735 [==============================] - 1s 195us/step - loss: 1303.4514 - mean_squared_error: 1303.4514\n",
      "Epoch 48/100\n",
      "2735/2735 [==============================] - 1s 211us/step - loss: 1302.9744 - mean_squared_error: 1302.9744\n",
      "Epoch 49/100\n",
      "2735/2735 [==============================] - 0s 167us/step - loss: 1302.8539 - mean_squared_error: 1302.8539\n",
      "Epoch 50/100\n",
      "2735/2735 [==============================] - 1s 192us/step - loss: 1302.4456 - mean_squared_error: 1302.4456\n",
      "Epoch 51/100\n",
      "2735/2735 [==============================] - 1s 191us/step - loss: 1302.3868 - mean_squared_error: 1302.3868\n",
      "Epoch 52/100\n",
      "2735/2735 [==============================] - 1s 196us/step - loss: 1302.2793 - mean_squared_error: 1302.2793\n",
      "Epoch 53/100\n",
      "2735/2735 [==============================] - 1s 195us/step - loss: 1302.1177 - mean_squared_error: 1302.1177\n",
      "Epoch 54/100\n",
      "2735/2735 [==============================] - 1s 194us/step - loss: 1301.8624 - mean_squared_error: 1301.8624\n",
      "Epoch 55/100\n",
      "2735/2735 [==============================] - 1s 196us/step - loss: 1301.8235 - mean_squared_error: 1301.8235\n",
      "Epoch 56/100\n",
      "2735/2735 [==============================] - 1s 201us/step - loss: 1301.6579 - mean_squared_error: 1301.6579\n",
      "Epoch 57/100\n",
      "2735/2735 [==============================] - 0s 161us/step - loss: 1301.3869 - mean_squared_error: 1301.3869\n",
      "Epoch 58/100\n",
      "2735/2735 [==============================] - 1s 188us/step - loss: 1301.1806 - mean_squared_error: 1301.1806\n",
      "Epoch 59/100\n",
      "2735/2735 [==============================] - 1s 193us/step - loss: 1301.0165 - mean_squared_error: 1301.0165\n",
      "Epoch 60/100\n",
      "2735/2735 [==============================] - 0s 165us/step - loss: 1300.8837 - mean_squared_error: 1300.88370s - loss: 1612.7744 - mean_squared_error: 1\n",
      "Epoch 61/100\n",
      "2735/2735 [==============================] - 1s 187us/step - loss: 1300.7474 - mean_squared_error: 1300.7474\n",
      "Epoch 62/100\n",
      "2735/2735 [==============================] - 1s 191us/step - loss: 1300.5288 - mean_squared_error: 1300.5288\n",
      "Epoch 63/100\n",
      "2735/2735 [==============================] - 0s 157us/step - loss: 1300.3205 - mean_squared_error: 1300.3205\n",
      "Epoch 64/100\n",
      "2735/2735 [==============================] - 0s 183us/step - loss: 1300.2609 - mean_squared_error: 1300.2609\n",
      "Epoch 65/100\n",
      "2735/2735 [==============================] - 1s 196us/step - loss: 1299.9998 - mean_squared_error: 1299.9998\n",
      "Epoch 66/100\n",
      "2735/2735 [==============================] - 1s 201us/step - loss: 1300.2344 - mean_squared_error: 1300.2344\n",
      "Epoch 67/100\n",
      "2735/2735 [==============================] - 1s 200us/step - loss: 1299.6898 - mean_squared_error: 1299.6898\n",
      "Epoch 68/100\n",
      "2735/2735 [==============================] - 1s 213us/step - loss: 1299.8078 - mean_squared_error: 1299.8078\n",
      "Epoch 69/100\n",
      "2735/2735 [==============================] - 1s 201us/step - loss: 1299.3290 - mean_squared_error: 1299.3290\n",
      "Epoch 70/100\n",
      "2735/2735 [==============================] - 1s 187us/step - loss: 1299.4439 - mean_squared_error: 1299.4439\n",
      "Epoch 71/100\n",
      "2735/2735 [==============================] - 1s 203us/step - loss: 1299.3224 - mean_squared_error: 1299.3224\n",
      "Epoch 72/100\n",
      "2735/2735 [==============================] - 1s 199us/step - loss: 1299.0762 - mean_squared_error: 1299.07620s - loss: 1065.3821 - mean_squared_\n",
      "Epoch 73/100\n",
      "2735/2735 [==============================] - 1s 197us/step - loss: 1298.9857 - mean_squared_error: 1298.9857\n",
      "Epoch 74/100\n",
      "2735/2735 [==============================] - 1s 194us/step - loss: 1298.7899 - mean_squared_error: 1298.7899\n",
      "Epoch 75/100\n",
      "2735/2735 [==============================] - 1s 209us/step - loss: 1298.8576 - mean_squared_error: 1298.8576\n",
      "Epoch 76/100\n",
      "2735/2735 [==============================] - 1s 206us/step - loss: 1298.9031 - mean_squared_error: 1298.9031\n",
      "Epoch 77/100\n",
      "2735/2735 [==============================] - 1s 196us/step - loss: 1298.4339 - mean_squared_error: 1298.4339\n",
      "Epoch 78/100\n",
      "2735/2735 [==============================] - 1s 207us/step - loss: 1298.3486 - mean_squared_error: 1298.3486\n",
      "Epoch 79/100\n",
      "2735/2735 [==============================] - 1s 213us/step - loss: 1298.3123 - mean_squared_error: 1298.3123\n",
      "Epoch 80/100\n",
      "2735/2735 [==============================] - 1s 200us/step - loss: 1297.6120 - mean_squared_error: 1297.6120\n",
      "Epoch 81/100\n",
      "2735/2735 [==============================] - 1s 207us/step - loss: 1297.8118 - mean_squared_error: 1297.8118\n",
      "Epoch 82/100\n",
      "2735/2735 [==============================] - 1s 196us/step - loss: 1297.4512 - mean_squared_error: 1297.4512\n",
      "Epoch 83/100\n",
      "2735/2735 [==============================] - 1s 198us/step - loss: 1297.5200 - mean_squared_error: 1297.5200\n",
      "Epoch 84/100\n",
      "2735/2735 [==============================] - 1s 185us/step - loss: 1297.3612 - mean_squared_error: 1297.3612\n",
      "Epoch 85/100\n",
      "2735/2735 [==============================] - 1s 222us/step - loss: 1297.2514 - mean_squared_error: 1297.2514\n",
      "Epoch 86/100\n",
      "2735/2735 [==============================] - 1s 217us/step - loss: 1297.1610 - mean_squared_error: 1297.1610\n",
      "Epoch 87/100\n",
      "2735/2735 [==============================] - 1s 191us/step - loss: 1296.9450 - mean_squared_error: 1296.9450\n",
      "Epoch 88/100\n",
      "2735/2735 [==============================] - 1s 203us/step - loss: 1296.8061 - mean_squared_error: 1296.8061\n",
      "Epoch 89/100\n",
      "2735/2735 [==============================] - 1s 212us/step - loss: 1296.6225 - mean_squared_error: 1296.6225\n",
      "Epoch 90/100\n",
      "2735/2735 [==============================] - 1s 212us/step - loss: 1296.8248 - mean_squared_error: 1296.8248\n",
      "Epoch 91/100\n",
      "2735/2735 [==============================] - 1s 211us/step - loss: 1296.3029 - mean_squared_error: 1296.3029\n",
      "Epoch 92/100\n",
      "2735/2735 [==============================] - 1s 201us/step - loss: 1296.0622 - mean_squared_error: 1296.0622\n",
      "Epoch 93/100\n",
      "2735/2735 [==============================] - 1s 207us/step - loss: 1295.4850 - mean_squared_error: 1295.4850\n",
      "Epoch 94/100\n",
      "2735/2735 [==============================] - 1s 194us/step - loss: 1295.5018 - mean_squared_error: 1295.5018\n",
      "Epoch 95/100\n",
      "2735/2735 [==============================] - 1s 206us/step - loss: 1295.3560 - mean_squared_error: 1295.3560\n",
      "Epoch 96/100\n",
      "2735/2735 [==============================] - 1s 185us/step - loss: 1295.3671 - mean_squared_error: 1295.3671\n",
      "Epoch 97/100\n",
      "2735/2735 [==============================] - 1s 212us/step - loss: 1295.1170 - mean_squared_error: 1295.1170\n",
      "Epoch 98/100\n",
      "2735/2735 [==============================] - 1s 211us/step - loss: 1294.9703 - mean_squared_error: 1294.9703\n",
      "Epoch 99/100\n",
      "2735/2735 [==============================] - 1s 201us/step - loss: 1294.9989 - mean_squared_error: 1294.9989\n",
      "Epoch 100/100\n",
      "2735/2735 [==============================] - 1s 208us/step - loss: 1294.5946 - mean_squared_error: 1294.5946\n"
     ]
    }
   ],
   "source": [
    "model = Sequential()\n",
    "model.add(Dense(8, input_dim=25, activation='relu'))\n",
    "model.add(Dense(1, activation = 'linear'))\n",
    "model.compile(optimizer= \"Adam\", loss='mse', metrics=['mse'])\n",
    "hist = model.fit(norm_dum, y, batch_size=10, \n",
    "                 epochs=100, verbose = True)"
   ]
  },
  {
   "cell_type": "code",
   "execution_count": 187,
   "metadata": {
    "extensions": {
     "jupyter_dashboards": {
      "version": 1,
      "views": {
       "grid_default": {
        "col": 8,
        "height": 4,
        "hidden": false,
        "row": 303,
        "width": 4
       },
       "report_default": {
        "hidden": false
       }
      }
     }
    }
   },
   "outputs": [
    {
     "data": {
      "text/plain": [
       "2.656034824180182"
      ]
     },
     "execution_count": 187,
     "metadata": {},
     "output_type": "execute_result"
    }
   ],
   "source": [
    "pred_nn = model.predict(norm_dum).reshape(-1)\n",
    "RMSE = np.sqrt(np.mean((pred_nn - y)**2))\n",
    "std - RMSE"
   ]
  },
  {
   "cell_type": "code",
   "execution_count": null,
   "metadata": {
    "extensions": {
     "jupyter_dashboards": {
      "version": 1,
      "views": {
       "grid_default": {
        "hidden": true
       },
       "report_default": {
        "hidden": false
       }
      }
     }
    }
   },
   "outputs": [],
   "source": []
  },
  {
   "cell_type": "code",
   "execution_count": 200,
   "metadata": {
    "extensions": {
     "jupyter_dashboards": {
      "version": 1,
      "views": {
       "grid_default": {
        "hidden": true
       },
       "report_default": {
        "hidden": false
       }
      }
     }
    }
   },
   "outputs": [],
   "source": [
    "kfold = KFold(n_splits=cv, shuffle=True, random_state=7)"
   ]
  },
  {
   "cell_type": "code",
   "execution_count": 201,
   "metadata": {
    "extensions": {
     "jupyter_dashboards": {
      "version": 1,
      "views": {
       "grid_default": {
        "hidden": true
       },
       "report_default": {
        "hidden": false
       }
      }
     }
    }
   },
   "outputs": [],
   "source": [
    "norm_dum_copy = copy.deepcopy(norm_dum)"
   ]
  },
  {
   "cell_type": "code",
   "execution_count": 202,
   "metadata": {
    "extensions": {
     "jupyter_dashboards": {
      "version": 1,
      "views": {
       "grid_default": {
        "hidden": true
       },
       "report_default": {
        "hidden": false
       }
      }
     }
    }
   },
   "outputs": [],
   "source": [
    "y_copy = copy.deepcopy(y)"
   ]
  },
  {
   "cell_type": "code",
   "execution_count": 208,
   "metadata": {
    "extensions": {
     "jupyter_dashboards": {
      "version": 1,
      "views": {
       "grid_default": {
        "hidden": true
       },
       "report_default": {
        "hidden": false
       }
      }
     }
    }
   },
   "outputs": [],
   "source": [
    "cvscores = []\n",
    "cvscores_RMS = []\n",
    "nd_array = np.array(norm_dum)\n",
    "y_array = np.array(y)"
   ]
  },
  {
   "cell_type": "code",
   "execution_count": 216,
   "metadata": {
    "extensions": {
     "jupyter_dashboards": {
      "version": 1,
      "views": {
       "grid_default": {
        "hidden": true
       },
       "report_default": {
        "hidden": false
       }
      }
     }
    }
   },
   "outputs": [],
   "source": [
    "from keras import backend as K\n",
    "\n",
    "def coeff_determination(y_true, y_pred):\n",
    "    SS_res =  K.sum(K.square(y_true - y_pred)) \n",
    "    SS_tot = K.sum(K.square(y_true - K.mean(y_true))) \n",
    "    return (1 - SS_res/(SS_tot))"
   ]
  },
  {
   "cell_type": "code",
   "execution_count": 223,
   "metadata": {
    "extensions": {
     "jupyter_dashboards": {
      "version": 1,
      "views": {
       "grid_default": {
        "col": 0,
        "height": 5,
        "hidden": false,
        "row": 306,
        "width": 4
       },
       "report_default": {
        "hidden": false
       }
      }
     }
    }
   },
   "outputs": [
    {
     "name": "stdout",
     "output_type": "stream",
     "text": [
      "coeff_determination: -0.21575003653241878\n",
      "coeff_determination: -0.06175692597327874\n",
      "coeff_determination: -0.06402998535256636\n",
      "coeff_determination: -0.23206584066108937\n",
      "-0.12833808310398553 +/- 0.0725528361087963\n"
     ]
    }
   ],
   "source": [
    "for train, test in kfold.split(nd_array, y_array):\n",
    "    model = Sequential()\n",
    "    model.add(Dense(8, input_dim=25, activation='relu'))\n",
    "    model.add(Dense(8, input_dim=25, activation='relu'))\n",
    "    model.add(Dense(1, activation = 'linear'))\n",
    "    model.compile(optimizer= \"Adam\", loss = 'mse', metrics=[coeff_determination])\n",
    "    hist = model.fit(nd_array, y_array, batch_size=10, \n",
    "                 epochs=10, verbose = 0)\n",
    "    scores = model.evaluate(nd_array[test], y_array[test], verbose=0, batch_size = 10)\n",
    "    print('{}: {}'.format(model.metrics_names[1], scores[1]))\n",
    "    cvscores.append(scores[1])\n",
    "print('{} +/- {}'.format(np.mean(cvscores), np.std(cvscores)))"
   ]
  },
  {
   "cell_type": "code",
   "execution_count": 224,
   "metadata": {
    "extensions": {
     "jupyter_dashboards": {
      "version": 1,
      "views": {
       "grid_default": {
        "col": 8,
        "height": 4,
        "hidden": false,
        "row": 307,
        "width": 4
       },
       "report_default": {
        "hidden": false
       }
      }
     }
    }
   },
   "outputs": [
    {
     "name": "stdout",
     "output_type": "stream",
     "text": [
      "mean_squared_error: 30.396831749027374\n",
      "mean_squared_error: 31.363227711677215\n",
      "mean_squared_error: 30.826090304628245\n",
      "mean_squared_error: 49.05458292290028\n",
      "35.636967936208286 +/- 7.864186597077554\n"
     ]
    }
   ],
   "source": [
    "for train, test in kfold.split(nd_array, y_array):\n",
    "    model = Sequential()\n",
    "    model.add(Dense(8, input_dim=25, activation='relu'))\n",
    "    model.add(Dense(8, input_dim=25, activation='relu'))\n",
    "    model.add(Dense(1, activation = 'linear'))\n",
    "    model.compile(optimizer= \"Adam\", loss = 'mse', metrics=['mse'])\n",
    "    hist = model.fit(nd_array, y_array, batch_size=10, \n",
    "                 epochs=10, verbose = 0)\n",
    "    scores = model.evaluate(nd_array[test], y_array[test], verbose=0, batch_size = 10)\n",
    "    sc = np.sqrt(scores[1])\n",
    "    print('{}: {}'.format(model.metrics_names[1], sc))\n",
    "    cvscores_RMS.append(sc)\n",
    "RMS = np.mean(cvscores_RMS)\n",
    "print('{} +/- {}'.format(RMS, np.std(cvscores_RMS)))"
   ]
  },
  {
   "cell_type": "code",
   "execution_count": 222,
   "metadata": {
    "extensions": {
     "jupyter_dashboards": {
      "version": 1,
      "views": {
       "grid_default": {
        "col": 0,
        "height": 4,
        "hidden": false,
        "row": 311,
        "width": 4
       },
       "report_default": {
        "hidden": false
       }
      }
     }
    }
   },
   "outputs": [
    {
     "data": {
      "text/plain": [
       "2.8932876350128893"
      ]
     },
     "execution_count": 222,
     "metadata": {},
     "output_type": "execute_result"
    }
   ],
   "source": [
    "std - RMS"
   ]
  }
 ],
 "metadata": {
  "extensions": {
   "jupyter_dashboards": {
    "activeView": "report_default",
    "version": 1,
    "views": {
     "grid_default": {
      "cellMargin": 10,
      "defaultCellHeight": 20,
      "maxColumns": 12,
      "name": "grid",
      "type": "grid"
     },
     "report_default": {
      "name": "report",
      "type": "report"
     }
    }
   }
  },
  "kernelspec": {
   "display_name": "Python 3",
   "language": "python",
   "name": "python3"
  },
  "language_info": {
   "codemirror_mode": {
    "name": "ipython",
    "version": 3
   },
   "file_extension": ".py",
   "mimetype": "text/x-python",
   "name": "python",
   "nbconvert_exporter": "python",
   "pygments_lexer": "ipython3",
   "version": "3.6.5"
  }
 },
 "nbformat": 4,
 "nbformat_minor": 2
}
