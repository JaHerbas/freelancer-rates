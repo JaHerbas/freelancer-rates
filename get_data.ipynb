{
 "cells": [
  {
   "cell_type": "code",
   "execution_count": 1,
   "metadata": {},
   "outputs": [],
   "source": [
    "import copy\n",
    "from bs4 import BeautifulSoup\n",
    "import requests\n",
    "import re\n",
    "import pandas as pd\n",
    "import os\n",
    "import time\n",
    "import random\n",
    "from selenium import webdriver\n",
    "from selenium.webdriver.support import expected_conditions as EC\n",
    "from selenium.webdriver.common.by import By\n",
    "from selenium.webdriver.support.ui import WebDriverWait "
   ]
  },
  {
   "cell_type": "code",
   "execution_count": 2,
   "metadata": {},
   "outputs": [],
   "source": [
    "driver = webdriver.Chrome(executable_path = '/Users/DM/FS/final/chromedriver')"
   ]
  },
  {
   "cell_type": "code",
   "execution_count": 3,
   "metadata": {},
   "outputs": [],
   "source": [
    "def get_bio():\n",
    "    bio = 'nothing'\n",
    "    try:\n",
    "        driver.find_element_by_class_name('oTruncateToggleText').click()\n",
    "        d = driver.find_element_by_tag_name('o-profile-overview')\n",
    "        bio = d.get_attribute('innerText')\n",
    "    except:\n",
    "        try:\n",
    "            d = driver.find_element_by_tag_name('o-profile-overview')\n",
    "            bio = d.get_attribute('innerText')\n",
    "        except:\n",
    "            bio = 'NA'\n",
    "    return bio"
   ]
  },
  {
   "cell_type": "code",
   "execution_count": 4,
   "metadata": {},
   "outputs": [],
   "source": [
    "def get_rate():\n",
    "    rate = 'nothing'\n",
    "    try:\n",
    "        d = driver.find_element_by_tag_name('cfe-profile-rate').find_element_by_tag_name('span').find_element_by_tag_name('span')\n",
    "        rate = d.text\n",
    "    except:\n",
    "        rate = 'NA'\n",
    "    return rate"
   ]
  },
  {
   "cell_type": "code",
   "execution_count": 5,
   "metadata": {},
   "outputs": [],
   "source": [
    "def get_headline():\n",
    "    headline = 'nothing'\n",
    "    try:\n",
    "        d = driver.find_element_by_class_name('fe-job-title').find_element_by_tag_name('span')\n",
    "        headline = d.text\n",
    "    except:\n",
    "        headline = 'NA'\n",
    "    return headline"
   ]
  },
  {
   "cell_type": "code",
   "execution_count": 6,
   "metadata": {},
   "outputs": [],
   "source": [
    "def get_skills():\n",
    "    skills = 'nothing'\n",
    "    try:\n",
    "        d = driver.find_element_by_class_name('o-profile-skills').find_element_by_tag_name('span').find_elements_by_class_name('o-tag-skill')\n",
    "        skills = [item.text for item in d]\n",
    "    except:\n",
    "        skills = 'NA'\n",
    "    return skills"
   ]
  },
  {
   "cell_type": "code",
   "execution_count": 7,
   "metadata": {},
   "outputs": [],
   "source": [
    "def get_tests():\n",
    "    tests = 'nothing'\n",
    "    try:\n",
    "        d = driver.find_element_by_tag_name('tbody').find_elements_by_tag_name('tr')\n",
    "        tests = len(d)\n",
    "    except:\n",
    "        tests = 'NA'\n",
    "    return tests"
   ]
  },
  {
   "cell_type": "code",
   "execution_count": 8,
   "metadata": {},
   "outputs": [],
   "source": [
    "def get_edu():\n",
    "    edu = 'nothing'\n",
    "    try:\n",
    "        d = driver.find_element_by_tag_name('o-profile-education').find_element_by_tag_name('ul').find_elements_by_tag_name('li')\n",
    "        edu = len(d)\n",
    "    except:\n",
    "        edu = 'NA'\n",
    "    return edu"
   ]
  },
  {
   "cell_type": "code",
   "execution_count": 9,
   "metadata": {},
   "outputs": [],
   "source": [
    "def get_exp():\n",
    "    exp = 'nothing'\n",
    "    try:\n",
    "        driver.find_element_by_tag_name('o-items-limiter').find_element_by_tag_name('a').click()\n",
    "    except:\n",
    "        pass\n",
    "    try:\n",
    "        d = driver.find_element_by_tag_name('o-profile-employment-history').find_element_by_tag_name('ul').find_elements_by_tag_name('li')\n",
    "        exp = len(d)\n",
    "    except:\n",
    "        exp = 'NA'\n",
    "    return exp"
   ]
  },
  {
   "cell_type": "code",
   "execution_count": 10,
   "metadata": {},
   "outputs": [],
   "source": [
    "def get_last_three():\n",
    "    three = {'hours': 'NA',\n",
    "            'jobs': 'NA',\n",
    "            'earned': 'NA'}\n",
    "    switcher = {'Total earned': 'earned',\n",
    "               'Jobs': 'jobs',\n",
    "               'Job': 'jobs',\n",
    "               'Hours worked': 'hours'}\n",
    "    d = driver.find_element_by_class_name('cfe-aggregates').find_element_by_tag_name('ul').find_elements_by_tag_name('li')\n",
    "    numb = len(d)\n",
    "    for i in range(1, numb):\n",
    "        e = d[i]\n",
    "        label = e.find_element_by_class_name('text-muted').text\n",
    "        key_name = switcher[label]\n",
    "        three[key_name] = e.find_element_by_tag_name('h3').text\n",
    "    return three"
   ]
  },
  {
   "cell_type": "code",
   "execution_count": null,
   "metadata": {},
   "outputs": [],
   "source": []
  },
  {
   "cell_type": "code",
   "execution_count": 11,
   "metadata": {},
   "outputs": [],
   "source": [
    "def get_person_details():\n",
    "    person = get_last_three()\n",
    "    time.sleep(1)\n",
    "    person['bio'] = get_bio()\n",
    "    time.sleep(1)\n",
    "    person['rate'] = get_rate()\n",
    "    person['headline'] = get_headline()\n",
    "    person['skills'] = get_skills()\n",
    "    time.sleep(1)\n",
    "    person['exp'] = get_exp()\n",
    "    time.sleep(1)\n",
    "    person['edu'] = get_edu()\n",
    "    person['tests'] = get_tests()\n",
    "    return person"
   ]
  },
  {
   "cell_type": "code",
   "execution_count": 12,
   "metadata": {},
   "outputs": [],
   "source": [
    "def page_of_ten_scrape():\n",
    "    people = []\n",
    "    for i in range(1, 11):\n",
    "        try:\n",
    "            driver.find_element_by_xpath('//*[@id=\"layout\"]/div[2]/div[2]/div/div/div/div/div/freelancers-search/div/div[2]/section[' + str(i) + ']/div/div/article/div').click()\n",
    "            time.sleep(2)\n",
    "            p = get_person_details()\n",
    "#             print(\"trying to get person \" + str(i))\n",
    "            time.sleep(2)\n",
    "            people.append(p)\n",
    "            driver.find_element_by_xpath('/html/body/div[3]/div/div/div[1]/button').click()\n",
    "            time.sleep(2)\n",
    "        except:\n",
    "            pass\n",
    "    return people\n",
    "\n",
    "# https://www.upwork.com/ab/profiles/search/details/~01b75b68f5da091112/profile?sqp=revenue%3D0%26pt%3Dindependent%26last%3D30%26user_pref%3D2%26page%3D160"
   ]
  },
  {
   "cell_type": "code",
   "execution_count": 13,
   "metadata": {},
   "outputs": [],
   "source": [
    "# def get_all(pages_to_scrape = 50):\n",
    "#     peeps = []\n",
    "#     randos = random.sample(range(5, 499), pages_to_scrape)\n",
    "#     for i in randos:\n",
    "#         print(\"trying new page\")\n",
    "#         try:\n",
    "#             driver.get('https://www.upwork.com/ab/profiles/search/?pt=independent&user_pref=2&page=' + str(i))\n",
    "#             time.sleep(2.1)\n",
    "#             pp = page_of_ten_scrape()\n",
    "#             peeps += pp\n",
    "#             time.sleep(1.8)\n",
    "#         except:\n",
    "#             break\n",
    "#     return peeps"
   ]
  },
  {
   "cell_type": "code",
   "execution_count": 14,
   "metadata": {},
   "outputs": [],
   "source": [
    "def get_all_click(pages_to_scrape = 50):\n",
    "    peeps = []\n",
    "    for i in range(pages_to_scrape):\n",
    "        print(\"page: \" + str(i))\n",
    "        try:\n",
    "            driver.find_element_by_class_name('pagination-next').find_element_by_tag_name('a').click()\n",
    "            time.sleep(2)\n",
    "            pp = page_of_ten_scrape()\n",
    "            peeps += pp\n",
    "            time.sleep(2)\n",
    "        except:\n",
    "            break\n",
    "    return peeps"
   ]
  },
  {
   "cell_type": "code",
   "execution_count": 17,
   "metadata": {
    "scrolled": true
   },
   "outputs": [
    {
     "name": "stdout",
     "output_type": "stream",
     "text": [
      "page: 0\n",
      "page: 1\n",
      "page: 2\n"
     ]
    }
   ],
   "source": [
    "try3 = get_all_click(pages_to_scrape = 10)"
   ]
  },
  {
   "cell_type": "code",
   "execution_count": null,
   "metadata": {
    "scrolled": false
   },
   "outputs": [],
   "source": [
    "len(try3)"
   ]
  },
  {
   "cell_type": "code",
   "execution_count": null,
   "metadata": {},
   "outputs": [],
   "source": [
    "df = pd.DataFrame(try3)"
   ]
  },
  {
   "cell_type": "code",
   "execution_count": null,
   "metadata": {},
   "outputs": [],
   "source": [
    "df.head(7)"
   ]
  },
  {
   "cell_type": "code",
   "execution_count": null,
   "metadata": {},
   "outputs": [],
   "source": [
    "df.to_csv(\"alllast.csv\")"
   ]
  },
  {
   "cell_type": "code",
   "execution_count": null,
   "metadata": {},
   "outputs": [],
   "source": [
    "# columns = set()\n",
    "# for i in range(len(df)):\n",
    "#     columns.update(df['skills'].iloc[i])"
   ]
  },
  {
   "cell_type": "code",
   "execution_count": null,
   "metadata": {},
   "outputs": [],
   "source": [
    "# def get_ten_rates():\n",
    "#     rates = []\n",
    "#     for i in range(2,12):\n",
    "#         time.sleep(2)\n",
    "#         rate = driver.find_element_by_xpath('//*[@id=\"layout\"]/div[2]/div[2]/div/div/div/div/div/freelancers-search/div/div[2]/section[' + str(i) +']/div/div/article/div/div[1]/div/div[4]/div[1]/div[1]/div/strong')\n",
    "#         rates.append(rate.text)\n",
    "#     return rates"
   ]
  },
  {
   "cell_type": "code",
   "execution_count": null,
   "metadata": {},
   "outputs": [],
   "source": [
    "# def get_ten_headlines():\n",
    "#     headlines = []\n",
    "#     for i in range(2,12):\n",
    "#         time.sleep(2)\n",
    "#         headline = driver.find_element_by_xpath('//*[@id=\"layout\"]/div[2]/div[2]/div/div/div/div/div/freelancers-search/div/div[2]/section[' + str(i) +']/div/div/article/div/div[1]/div/div[2]/div[2]/div/div/div[2]/strong')\n",
    "#         headlines.append(headline.text)\n",
    "#     return headlines"
   ]
  },
  {
   "cell_type": "code",
   "execution_count": null,
   "metadata": {},
   "outputs": [],
   "source": [
    "# [item.text for item in d.find_elements_by_tag_name('span')]"
   ]
  }
 ],
 "metadata": {
  "kernelspec": {
   "display_name": "Python 3",
   "language": "python",
   "name": "python3"
  },
  "language_info": {
   "codemirror_mode": {
    "name": "ipython",
    "version": 3
   },
   "file_extension": ".py",
   "mimetype": "text/x-python",
   "name": "python",
   "nbconvert_exporter": "python",
   "pygments_lexer": "ipython3",
   "version": "3.6.5"
  }
 },
 "nbformat": 4,
 "nbformat_minor": 2
}
